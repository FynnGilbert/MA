{
 "cells": [
  {
   "cell_type": "code",
   "execution_count": 1,
   "id": "b01d6b7b-c685-4ba4-8408-76edc7389760",
   "metadata": {},
   "outputs": [],
   "source": [
    "import os\n",
    "import sys\n",
    "\n",
    "import numpy as np\n",
    "import pandas as pd\n",
    "import polars as pl\n",
    "\n",
    "import tensorflow as tf\n",
    "\n",
    "import matplotlib.pyplot as plt\n",
    "import seaborn as sns\n",
    "\n",
    "np.set_printoptions(\n",
    "    edgeitems=30,\n",
    "    linewidth=100_000,\n",
    "    #formatter=dict(float=lambda x:\"%.3g\" % x),\n",
    "    suppress=True\n",
    "    )"
   ]
  },
  {
   "cell_type": "code",
   "execution_count": 2,
   "id": "bf9a0b8b-9fbf-40dc-b62f-8a250a1a4c3c",
   "metadata": {},
   "outputs": [],
   "source": [
    "pattern=\"\"\"Packing Index: \\d*\n",
    "Rerun: \\d\n",
    "----------------------------------------------------------------------------------------------------\n",
    "[\\s\\S]*?\n",
    "----------------------------------------------------------------------------------------------------\"\"\"\n"
   ]
  },
  {
   "cell_type": "code",
   "execution_count": 3,
   "id": "6e4eea93-dc04-4ae9-bbad-68853b5743e7",
   "metadata": {},
   "outputs": [
    {
     "data": {
      "text/html": [
       "<div><style>\n",
       ".dataframe > thead > tr > th,\n",
       ".dataframe > tbody > tr > td {\n",
       "  text-align: right;\n",
       "  white-space: pre-wrap;\n",
       "}\n",
       "</style>\n",
       "<small>shape: (1_230, 15)</small><table border=\"1\" class=\"dataframe\"><thead><tr><th>index</th><th>dataset</th><th>instance</th><th>packing</th><th>logs</th><th>rerun</th><th>ImprovementTimes</th><th>NumberUniqueImprovements</th><th>ImprovementMean</th><th>SolvedMean</th><th>ImprovementVariance</th><th>SolvedVariance</th><th>TimeLimit</th><th>n_stacks</th><th>n_unique_stacks</th></tr><tr><td>i64</td><td>str</td><td>str</td><td>i64</td><td>str</td><td>u32</td><td>list[list[f64]]</td><td>u32</td><td>f64</td><td>f64</td><td>f64</td><td>f64</td><td>f64</td><td>i64</td><td>u32</td></tr></thead><tbody><tr><td>0</td><td>&quot;A&quot;</td><td>&quot;VA&quot;</td><td>0</td><td>&quot;Packing Index:…</td><td>5</td><td>[[0.0, 0.755784], [0.0, 0.820246, 0.864967], … [0.0, 0.89669]]</td><td>2</td><td>1.0</td><td>1.0</td><td>0.0</td><td>0.0</td><td>2.0</td><td>23</td><td>5</td></tr><tr><td>0</td><td>&quot;A&quot;</td><td>&quot;VA&quot;</td><td>1</td><td>&quot;Packing Index:…</td><td>5</td><td>[[0.0, 0.323651], [0.0, 0.508361], … [0.0, 0.367504]]</td><td>1</td><td>1.0</td><td>1.0</td><td>0.0</td><td>0.0</td><td>2.0</td><td>23</td><td>5</td></tr><tr><td>0</td><td>&quot;A&quot;</td><td>&quot;VA&quot;</td><td>2</td><td>&quot;Packing Index:…</td><td>10</td><td>[[0.0, 0.727582, … 2.016529], [0.0, 0.76804, … 2.005217], … [0.0, 0.434156, … 2.030701]]</td><td>3</td><td>1.0</td><td>0.0</td><td>0.0</td><td>0.0</td><td>2.0</td><td>24</td><td>7</td></tr><tr><td>0</td><td>&quot;A&quot;</td><td>&quot;VA&quot;</td><td>3</td><td>&quot;Packing Index:…</td><td>10</td><td>[[0.0], [0.0, 2.001399], … [0.0]]</td><td>2</td><td>0.1</td><td>0.0</td><td>0.09</td><td>0.0</td><td>2.0</td><td>26</td><td>7</td></tr><tr><td>0</td><td>&quot;A&quot;</td><td>&quot;VA&quot;</td><td>4</td><td>&quot;Packing Index:…</td><td>10</td><td>[[0.0, 0.33973], [0.0, 0.288148], … [0.0, 0.47544]]</td><td>1</td><td>1.0</td><td>0.0</td><td>0.0</td><td>0.0</td><td>2.0</td><td>26</td><td>10</td></tr><tr><td>0</td><td>&quot;A&quot;</td><td>&quot;VA&quot;</td><td>5</td><td>&quot;Packing Index:…</td><td>5</td><td>[[0.0, 0.014241], [0.0, 0.019225], … [0.0, 0.013434]]</td><td>1</td><td>1.0</td><td>1.0</td><td>0.0</td><td>0.0</td><td>2.0</td><td>9</td><td>1</td></tr><tr><td>0</td><td>&quot;A&quot;</td><td>&quot;VA&quot;</td><td>6</td><td>&quot;Packing Index:…</td><td>5</td><td>[[0.0, 0.013838], [0.0, 0.013603], … [0.0, 0.053907]]</td><td>1</td><td>1.0</td><td>1.0</td><td>0.0</td><td>0.0</td><td>2.0</td><td>9</td><td>1</td></tr><tr><td>0</td><td>&quot;A&quot;</td><td>&quot;VA&quot;</td><td>7</td><td>&quot;Packing Index:…</td><td>10</td><td>[[0.0], [0.0], … [0.0]]</td><td>1</td><td>0.0</td><td>0.0</td><td>0.0</td><td>0.0</td><td>2.0</td><td>24</td><td>11</td></tr><tr><td>0</td><td>&quot;A&quot;</td><td>&quot;VA&quot;</td><td>9</td><td>&quot;Packing Index:…</td><td>5</td><td>[[0.0, 0.03315, 0.074012], [0.0, 0.017739, 0.035395], … [0.0, 0.036695, 0.054689]]</td><td>1</td><td>1.0</td><td>1.0</td><td>0.0</td><td>0.0</td><td>2.0</td><td>10</td><td>1</td></tr><tr><td>0</td><td>&quot;A&quot;</td><td>&quot;VA&quot;</td><td>10</td><td>&quot;Packing Index:…</td><td>5</td><td>[[0.0, 0.05198, 0.082092], [0.0, 0.014831, 0.026777], … [0.0, 0.014928, 0.023513]]</td><td>1</td><td>1.0</td><td>1.0</td><td>0.0</td><td>0.0</td><td>2.0</td><td>10</td><td>1</td></tr><tr><td>0</td><td>&quot;A&quot;</td><td>&quot;VA&quot;</td><td>13</td><td>&quot;Packing Index:…</td><td>10</td><td>[[0.0], [0.0], … [0.0]]</td><td>1</td><td>0.0</td><td>1.0</td><td>0.0</td><td>0.0</td><td>2.0</td><td>13</td><td>7</td></tr><tr><td>0</td><td>&quot;A&quot;</td><td>&quot;VA&quot;</td><td>14</td><td>&quot;Packing Index:…</td><td>10</td><td>[[0.0, 0.230593], [0.0, 0.250184], … [0.0, 0.218471]]</td><td>1</td><td>1.0</td><td>1.0</td><td>0.0</td><td>0.0</td><td>2.0</td><td>20</td><td>14</td></tr><tr><td>&hellip;</td><td>&hellip;</td><td>&hellip;</td><td>&hellip;</td><td>&hellip;</td><td>&hellip;</td><td>&hellip;</td><td>&hellip;</td><td>&hellip;</td><td>&hellip;</td><td>&hellip;</td><td>&hellip;</td><td>&hellip;</td><td>&hellip;</td><td>&hellip;</td></tr><tr><td>29</td><td>&quot;A&quot;</td><td>&quot;VA2&quot;</td><td>127</td><td>&quot;Packing Index:…</td><td>10</td><td>[[0.0, 2.015679], [0.0, 2.062773], … [0.0, 2.011341]]</td><td>1</td><td>1.0</td><td>0.0</td><td>0.0</td><td>0.0</td><td>2.0</td><td>25</td><td>20</td></tr><tr><td>29</td><td>&quot;A&quot;</td><td>&quot;VA2&quot;</td><td>134</td><td>&quot;Packing Index:…</td><td>10</td><td>[[0.0, 0.031174], [0.0, 0.049034], … [0.0, 0.034387]]</td><td>1</td><td>1.0</td><td>1.0</td><td>0.0</td><td>0.0</td><td>2.0</td><td>13</td><td>8</td></tr><tr><td>29</td><td>&quot;A&quot;</td><td>&quot;VA2&quot;</td><td>135</td><td>&quot;Packing Index:…</td><td>10</td><td>[[0.0, 0.038099], [0.0, 0.038889], … [0.0, 0.028384]]</td><td>1</td><td>1.0</td><td>1.0</td><td>0.0</td><td>0.0</td><td>2.0</td><td>13</td><td>6</td></tr><tr><td>29</td><td>&quot;A&quot;</td><td>&quot;VA2&quot;</td><td>136</td><td>&quot;Packing Index:…</td><td>10</td><td>[[0.0], [0.0], … [0.0]]</td><td>1</td><td>0.0</td><td>1.0</td><td>0.0</td><td>0.0</td><td>2.0</td><td>14</td><td>8</td></tr><tr><td>29</td><td>&quot;A&quot;</td><td>&quot;VA2&quot;</td><td>137</td><td>&quot;Packing Index:…</td><td>10</td><td>[[0.0], [0.0], … [0.0]]</td><td>1</td><td>0.0</td><td>1.0</td><td>0.0</td><td>0.0</td><td>2.0</td><td>14</td><td>9</td></tr><tr><td>29</td><td>&quot;A&quot;</td><td>&quot;VA2&quot;</td><td>138</td><td>&quot;Packing Index:…</td><td>5</td><td>[[0.0, 1.266656, 1.440948], [0.0, 1.01025, 1.234572], … [0.0, 0.980566, 1.156559]]</td><td>1</td><td>1.0</td><td>1.0</td><td>0.0</td><td>0.0</td><td>2.0</td><td>19</td><td>16</td></tr><tr><td>29</td><td>&quot;A&quot;</td><td>&quot;VA2&quot;</td><td>139</td><td>&quot;Packing Index:…</td><td>10</td><td>[[0.0], [0.0], … [0.0]]</td><td>1</td><td>0.0</td><td>0.0</td><td>0.0</td><td>0.0</td><td>2.0</td><td>25</td><td>17</td></tr><tr><td>29</td><td>&quot;A&quot;</td><td>&quot;VA2&quot;</td><td>140</td><td>&quot;Packing Index:…</td><td>10</td><td>[[0.0], [0.0], … [0.0]]</td><td>1</td><td>0.0</td><td>0.0</td><td>0.0</td><td>0.0</td><td>2.0</td><td>26</td><td>19</td></tr><tr><td>29</td><td>&quot;A&quot;</td><td>&quot;VA2&quot;</td><td>141</td><td>&quot;Packing Index:…</td><td>10</td><td>[[0.0], [0.0], … [0.0]]</td><td>2</td><td>0.1</td><td>0.0</td><td>0.09</td><td>0.0</td><td>2.0</td><td>24</td><td>24</td></tr><tr><td>29</td><td>&quot;A&quot;</td><td>&quot;VA2&quot;</td><td>142</td><td>&quot;Packing Index:…</td><td>10</td><td>[[0.0, 0.051678], [0.0, 0.035183], … [0.0, 0.035288]]</td><td>1</td><td>1.0</td><td>0.0</td><td>0.0</td><td>0.0</td><td>2.0</td><td>22</td><td>20</td></tr><tr><td>29</td><td>&quot;A&quot;</td><td>&quot;VA2&quot;</td><td>143</td><td>&quot;Packing Index:…</td><td>10</td><td>[[0.0, 1.021943], [0.0, 0.722749], … [0.0, 0.684181]]</td><td>1</td><td>1.0</td><td>0.0</td><td>0.0</td><td>0.0</td><td>2.0</td><td>23</td><td>20</td></tr><tr><td>29</td><td>&quot;A&quot;</td><td>&quot;VA2&quot;</td><td>145</td><td>&quot;Packing Index:…</td><td>10</td><td>[[0.0, 0.108562, … 2.005507], [0.0, 0.083987, … 2.034369], … [0.0, 0.085093, … 2.040202]]</td><td>1</td><td>1.0</td><td>0.0</td><td>0.0</td><td>0.0</td><td>2.0</td><td>19</td><td>10</td></tr></tbody></table></div>"
      ],
      "text/plain": [
       "shape: (1_230, 15)\n",
       "┌───────┬─────────┬──────────┬─────────┬───┬────────────────┬───────────┬──────────┬───────────────┐\n",
       "│ index ┆ dataset ┆ instance ┆ packing ┆ … ┆ SolvedVariance ┆ TimeLimit ┆ n_stacks ┆ n_unique_stac │\n",
       "│ ---   ┆ ---     ┆ ---      ┆ ---     ┆   ┆ ---            ┆ ---       ┆ ---      ┆ ks            │\n",
       "│ i64   ┆ str     ┆ str      ┆ i64     ┆   ┆ f64            ┆ f64       ┆ i64      ┆ ---           │\n",
       "│       ┆         ┆          ┆         ┆   ┆                ┆           ┆          ┆ u32           │\n",
       "╞═══════╪═════════╪══════════╪═════════╪═══╪════════════════╪═══════════╪══════════╪═══════════════╡\n",
       "│ 0     ┆ A       ┆ VA       ┆ 0       ┆ … ┆ 0.0            ┆ 2.0       ┆ 23       ┆ 5             │\n",
       "│ 0     ┆ A       ┆ VA       ┆ 1       ┆ … ┆ 0.0            ┆ 2.0       ┆ 23       ┆ 5             │\n",
       "│ 0     ┆ A       ┆ VA       ┆ 2       ┆ … ┆ 0.0            ┆ 2.0       ┆ 24       ┆ 7             │\n",
       "│ 0     ┆ A       ┆ VA       ┆ 3       ┆ … ┆ 0.0            ┆ 2.0       ┆ 26       ┆ 7             │\n",
       "│ …     ┆ …       ┆ …        ┆ …       ┆ … ┆ …              ┆ …         ┆ …        ┆ …             │\n",
       "│ 29    ┆ A       ┆ VA2      ┆ 141     ┆ … ┆ 0.0            ┆ 2.0       ┆ 24       ┆ 24            │\n",
       "│ 29    ┆ A       ┆ VA2      ┆ 142     ┆ … ┆ 0.0            ┆ 2.0       ┆ 22       ┆ 20            │\n",
       "│ 29    ┆ A       ┆ VA2      ┆ 143     ┆ … ┆ 0.0            ┆ 2.0       ┆ 23       ┆ 20            │\n",
       "│ 29    ┆ A       ┆ VA2      ┆ 145     ┆ … ┆ 0.0            ┆ 2.0       ┆ 19       ┆ 10            │\n",
       "└───────┴─────────┴──────────┴─────────┴───┴────────────────┴───────────┴──────────┴───────────────┘"
      ]
     },
     "execution_count": 3,
     "metadata": {},
     "output_type": "execute_result"
    }
   ],
   "source": [
    "root = os.getcwd()\n",
    "cwd, _ = os.path.split(root)\n",
    "\n",
    "data_dir = os.path.join(cwd, \"raw-data\", \"repeated_packing_heuristic\")\n",
    "\n",
    "texts = []\n",
    "\n",
    "for dir_, _, filenames in os.walk(data_dir):\n",
    "    for filename in filenames:\n",
    "        filepath = os.path.join(dir_, filename)\n",
    "\n",
    "        with open(filepath, \"r\") as file:\n",
    "            text = file.read()\n",
    "            \n",
    "        texts.append(text)\n",
    "\n",
    "df = pl.DataFrame({\"raw\": texts})\n",
    "df = (df\n",
    "      .with_columns([\n",
    "          pl.lit(np.arange(len(df))).alias(\"index\"),\n",
    "          df[\"raw\"].str.extract(\"dataset_?([ABCX])\").alias(\"dataset\"),\n",
    "          df[\"raw\"].str.extract(\"dataset_?[ABCX]\\s*(\\w*)\\s\").alias(\"instance\"),\n",
    "          df[\"raw\"].str.extract_all(pattern).alias(\"logs\")\n",
    "          #df[\"raw\"].str.extract_all(\"2D Packing Heuristic in Truck P\\d*\").alias(\"logs\")\n",
    "        ])\n",
    "      .drop(\"raw\")\n",
    "      .explode(\"logs\")\n",
    "      .filter(\n",
    "          ~pl.col(\"logs\").str.contains(\"Heuristische Lösung wird sofort akzeptiert\")\n",
    "      )\n",
    "      .with_columns([\n",
    "          pl.col(\"logs\").str.extract(\"Packing Index: (\\d*)\").cast(int).alias(\"packing\"),\n",
    "          pl.col(\"logs\").str.extract(\"Rerun: (\\d*)\").cast(int).alias(\"rerun\")\n",
    "      ])\n",
    "      .with_columns([\n",
    "          pl.col(\"logs\").str.extract_all(\"\\[%\\] - after (\\d+\\.\\d*) \\[s\\]\").alias(\"ImprovementTimes\"),\n",
    "          pl.col(\"logs\").str.contains(\"Optimal Solution confirmed\").alias(\"Solved\")\n",
    "      ])\n",
    "      .explode(\"ImprovementTimes\")\n",
    "      .with_columns([\n",
    "          pl.col(\"ImprovementTimes\").str.extract(\"(\\d+\\.\\d*)\").cast(float)\n",
    "      ])\n",
    "      .group_by([\n",
    "          \"index\", \"dataset\", \"instance\", \"logs\", \"packing\", \"rerun\", \"Solved\"\n",
    "      ], maintain_order=True)\n",
    "      .agg([\n",
    "          pl.col(\"ImprovementTimes\")\n",
    "      ])\n",
    "      .with_columns([\n",
    "          pl.col(\"ImprovementTimes\").list.len().cast(int).alias(\"n_Improvements\")-1,\n",
    "          (pl.col(\"ImprovementTimes\").list.len() > 1).alias(\"Improvement\"),\n",
    "      ])\n",
    "      .group_by([\n",
    "          \"index\", \"dataset\", \"instance\", \"packing\"\t\n",
    "      ], maintain_order=True)\n",
    "      .agg([\n",
    "          pl.first(\"logs\"), # Note that everything after the \"first\" MIP Improvement should not be used\n",
    "          pl.count(\"rerun\"),\n",
    "          pl.col(\"ImprovementTimes\"),\n",
    "          pl.n_unique(\"n_Improvements\").alias(\"NumberUniqueImprovements\"),\n",
    "          pl.mean(\"Improvement\").alias(\"ImprovementMean\"),\n",
    "          pl.mean(\"Solved\").alias(\"SolvedMean\"),\n",
    "      ])\n",
    "      .with_columns([\n",
    "          (pl.col(\"ImprovementMean\") * (1-pl.col(\"ImprovementMean\"))).alias(\"ImprovementVariance\"),\n",
    "          (pl.col(\"SolvedMean\") * (1-pl.col(\"SolvedMean\"))).alias(\"SolvedVariance\"),\n",
    "          pl.col(\"logs\").str.extract(\"Time Limit (\\d{1,}\\.?\\d*) \\[s\\]\").cast(float).alias(\"TimeLimit\"),\n",
    "          pl.col(\"logs\").str.extract_all(\"Stack \\d* with items:\").list.len().cast(int).alias(\"n_stacks\"),\n",
    "          pl.col(\"logs\").str.extract_all(\" with items: .*\").alias(\"n_unique_stacks\").list.unique().list.len(),#.list.len().cast(int).alias(\"n_stacks\"),\n",
    "      ])\n",
    "      .drop_nulls()\n",
    ")\n",
    "df"
   ]
  },
  {
   "cell_type": "code",
   "execution_count": 39,
   "id": "79b2b572-b455-4f9c-8d10-62f02c2e4f92",
   "metadata": {},
   "outputs": [
    {
     "data": {
      "text/html": [
       "<div><style>\n",
       ".dataframe > thead > tr > th,\n",
       ".dataframe > tbody > tr > td {\n",
       "  text-align: right;\n",
       "  white-space: pre-wrap;\n",
       "}\n",
       "</style>\n",
       "<small>shape: (6, 2)</small><table border=\"1\" class=\"dataframe\"><thead><tr><th>rerun</th><th>counts</th></tr><tr><td>u32</td><td>u32</td></tr></thead><tbody><tr><td>5</td><td>235</td></tr><tr><td>6</td><td>6</td></tr><tr><td>7</td><td>13</td></tr><tr><td>8</td><td>7</td></tr><tr><td>9</td><td>4</td></tr><tr><td>10</td><td>965</td></tr></tbody></table></div>"
      ],
      "text/plain": [
       "shape: (6, 2)\n",
       "┌───────┬────────┐\n",
       "│ rerun ┆ counts │\n",
       "│ ---   ┆ ---    │\n",
       "│ u32   ┆ u32    │\n",
       "╞═══════╪════════╡\n",
       "│ 5     ┆ 235    │\n",
       "│ 6     ┆ 6      │\n",
       "│ 7     ┆ 13     │\n",
       "│ 8     ┆ 7      │\n",
       "│ 9     ┆ 4      │\n",
       "│ 10    ┆ 965    │\n",
       "└───────┴────────┘"
      ]
     },
     "execution_count": 39,
     "metadata": {},
     "output_type": "execute_result"
    }
   ],
   "source": [
    "df[\"rerun\"].value_counts().sort(\"rerun\")"
   ]
  },
  {
   "cell_type": "code",
   "execution_count": 4,
   "id": "89e37fef-813f-4a94-8e23-59cd558a1f08",
   "metadata": {},
   "outputs": [
    {
     "data": {
      "text/html": [
       "<div><style>\n",
       ".dataframe > thead > tr > th,\n",
       ".dataframe > tbody > tr > td {\n",
       "  text-align: right;\n",
       "  white-space: pre-wrap;\n",
       "}\n",
       "</style>\n",
       "<small>shape: (15, 2)</small><table border=\"1\" class=\"dataframe\"><thead><tr><th>ImprovementMean</th><th>counts</th></tr><tr><td>f64</td><td>u32</td></tr></thead><tbody><tr><td>0.1</td><td>10</td></tr><tr><td>0.5</td><td>9</td></tr><tr><td>0.666667</td><td>3</td></tr><tr><td>0.3</td><td>4</td></tr><tr><td>0.0</td><td>563</td></tr><tr><td>0.4</td><td>7</td></tr><tr><td>0.6</td><td>4</td></tr><tr><td>0.25</td><td>2</td></tr><tr><td>1.0</td><td>596</td></tr><tr><td>0.8</td><td>10</td></tr><tr><td>0.9</td><td>5</td></tr><tr><td>0.2</td><td>11</td></tr><tr><td>0.7</td><td>4</td></tr><tr><td>0.375</td><td>1</td></tr><tr><td>0.428571</td><td>1</td></tr></tbody></table></div>"
      ],
      "text/plain": [
       "shape: (15, 2)\n",
       "┌─────────────────┬────────┐\n",
       "│ ImprovementMean ┆ counts │\n",
       "│ ---             ┆ ---    │\n",
       "│ f64             ┆ u32    │\n",
       "╞═════════════════╪════════╡\n",
       "│ 0.1             ┆ 10     │\n",
       "│ 0.5             ┆ 9      │\n",
       "│ 0.666667        ┆ 3      │\n",
       "│ 0.3             ┆ 4      │\n",
       "│ …               ┆ …      │\n",
       "│ 0.2             ┆ 11     │\n",
       "│ 0.7             ┆ 4      │\n",
       "│ 0.375           ┆ 1      │\n",
       "│ 0.428571        ┆ 1      │\n",
       "└─────────────────┴────────┘"
      ]
     },
     "execution_count": 4,
     "metadata": {},
     "output_type": "execute_result"
    }
   ],
   "source": [
    "df[\"ImprovementMean\"].value_counts()"
   ]
  },
  {
   "cell_type": "code",
   "execution_count": 5,
   "id": "de44da18-f8fb-41e8-95df-05b3e36e914b",
   "metadata": {},
   "outputs": [
    {
     "name": "stdout",
     "output_type": "stream",
     "text": [
      "5.77%\n"
     ]
    }
   ],
   "source": [
    "print(f'{(df[\"ImprovementVariance\"] > 0).mean():.2%}')"
   ]
  },
  {
   "cell_type": "code",
   "execution_count": 6,
   "id": "f421b7a9-967c-459b-845e-8c621e9668e5",
   "metadata": {},
   "outputs": [
    {
     "data": {
      "text/plain": [
       "71"
      ]
     },
     "execution_count": 6,
     "metadata": {},
     "output_type": "execute_result"
    }
   ],
   "source": [
    "(df[\"ImprovementVariance\"] > 0).sum()"
   ]
  },
  {
   "cell_type": "code",
   "execution_count": 7,
   "id": "3b0ba780-627c-4e10-ad37-32db7fd26688",
   "metadata": {},
   "outputs": [
    {
     "data": {
      "image/png": "[encoded data removed]",
      "text/plain": [
       "<Figure size 640x480 with 1 Axes>"
      ]
     },
     "metadata": {},
     "output_type": "display_data"
    }
   ],
   "source": [
    "sns.histplot(\n",
    "    data=df.to_pandas(),\n",
    "    x=\"n_stacks\",\n",
    "    bins=np.arange(0, 80, 1)\n",
    ");"
   ]
  },
  {
   "cell_type": "code",
   "execution_count": 17,
   "id": "3fca31b7-1271-4f9d-8f03-8d3a19555d71",
   "metadata": {},
   "outputs": [
    {
     "data": {
      "image/png": "[encoded data removed]",
      "text/plain": [
       "<Figure size 640x480 with 1 Axes>"
      ]
     },
     "metadata": {},
     "output_type": "display_data"
    }
   ],
   "source": [
    "plt.scatter(\n",
    "    df[\"n_stacks\"],\n",
    "    df[\"ImprovementVariance\"],\n",
    "    alpha=0.1\n",
    ");\n",
    "plt.xlim([0, 80]);\n",
    "#plt.xscale(\"log\")"
   ]
  },
  {
   "cell_type": "code",
   "execution_count": 13,
   "id": "f81f9194-39b7-4836-b727-f5eca73675f0",
   "metadata": {},
   "outputs": [
    {
     "data": {
      "image/png": "[encoded data removed]",
      "text/plain": [
       "<Figure size 640x480 with 1 Axes>"
      ]
     },
     "metadata": {},
     "output_type": "display_data"
    }
   ],
   "source": [
    "sns.regplot(\n",
    "    data=df.to_pandas(),\n",
    "    x=\"n_stacks\",\n",
    "    y=\"ImprovementVariance\",\n",
    "    #logistic=True,\n",
    "    logx=True,\n",
    "    #order=2\n",
    ");\n",
    "plt.xlim([0, 80]);"
   ]
  },
  {
   "cell_type": "code",
   "execution_count": 11,
   "id": "8376e297-61a8-47d4-a0f3-6f574a569511",
   "metadata": {},
   "outputs": [
    {
     "name": "stdout",
     "output_type": "stream",
     "text": [
      "Packing Index: 139\n",
      "Rerun: 0\n",
      "----------------------------------------------------------------------------------------------------\n",
      "2D Packing MIP with Time Limit 2 [s] in Truck P252646403\n",
      "Stack 0 with items: ['0091017300_03072022000913', '0091017300_03072022013799', '0091017300_03072022013799']\n",
      "Stack 1 with items: ['0091017300_03072022012218', '0091017300_03072022012218', '0091017300_03072022012218', '0091017300_03072022012218']\n",
      "Stack 2 with items: ['0091017300_03072022000913', '0091017300_03072022000913', '0091017300_03072022000913']\n",
      "Stack 3 with items: ['0091017300_03072022012218', '0091017300_03072022012218', '0091017300_03072022012218', '0091017300_03072022012218']\n",
      "Stack 4 with items: ['0091017300_03072022012218', '0091017300_03072022012218', '0091017300_03072022012218', '0091017300_03072022012218']\n",
      "Stack 5 with items: ['0091017300_03072022012218', '0091017300_03072022012218', '0091017300_03072022013799']\n",
      "Stack 6 with items: ['0091017300_03072022010624', '0091017300_03072022012218', '0091017300_03072022012218']\n",
      "Stack 7 with items: ['0091017300_03072022002516', '0091017300_03072022007634', '0091017300_03072022007634']\n",
      "Stack 8 with items: ['0091017300_03072022012983', '0091017300_03072022012684', '0091017300_03072022012684', '0091017300_03072022012983']\n",
      "Stack 9 with items: ['0091017300_03072022011388', '0091017300_03072022011146', '0091017300_03072022009160', '0091017300_03072022011388']\n",
      "Stack 10 with items: ['0091017300_03072022011844', '0091017300_03072022011844']\n",
      "Stack 11 with items: ['0091017300_03072022011844', '0091017300_03072022011844']\n",
      "Stack 12 with items: ['0091017300_03072022003785', '0091017300_03072022003785']\n",
      "Stack 13 with items: ['0091017300_03072022003785', '0091017300_03072022003785']\n",
      "Stack 14 with items: ['0091017300_03072022003785', '0091017300_03072022003785']\n",
      "Stack 15 with items: ['0091017300_03072022003785', '0091017300_03072022003785']\n",
      "Stack 16 with items: ['0091017300_03072022003785', '0091017300_03072022003785']\n",
      "Stack 17 with items: ['0091017300_03072022009858', '0091017300_03072022009858']\n",
      "Stack 18 with items: ['0091017300_03072022005046', '0091017300_03072022012049']\n",
      "Stack 19 with items: ['0091017300_03072022009858', '0091017300_03072022009858']\n",
      "Stack 20 with items: ['0091017300_03072022012594', '0091017300_03072022012049']\n",
      "Stack 21 with items: ['0091017300_03072022005046', '0091017300_03072022009858']\n",
      "Stack 22 with items: ['0091017300_03072022004160', '0091017300_03072022007723']\n",
      "Stack 23 with items: ['0091017300_03072022007247', '0091017300_03072022007247', '0091017300_03072022007247', '0091017300_03072022007247', '0091017300_03072022007247']\n",
      "Stack 24 with items: ['0091017300_03072022004413', '0091017300_03072022004413', '0091017300_03072022004413', '0091017300_03072022004413']\n",
      "MIP Improvement - 2D Vol: 29.2092 [m2] - packed 2D Vol Ratio: 0.8867395264116575 [%] - after 0.0 [s] without stacks:\n",
      "Stack 18 missing: ['0091017300_03072022005046', '0091017300_03072022012049']\n",
      "Stack 20 missing: ['0091017300_03072022012594', '0091017300_03072022012049']\n",
      "Stack 23 missing: ['0091017300_03072022007247', '0091017300_03072022007247', '0091017300_03072022007247', '0091017300_03072022007247', '0091017300_03072022007247']\n",
      "Solve interrupted after 2.014416457968764 [s]\n",
      "Stacks not packed:\n",
      "Stack 18 not in final solution with items: ['0091017300_03072022005046', '0091017300_03072022012049']\n",
      "Stack 20 not in final solution with items: ['0091017300_03072022012594', '0091017300_03072022012049']\n",
      "Stack 23 not in final solution with items: ['0091017300_03072022007247', '0091017300_03072022007247', '0091017300_03072022007247', '0091017300_03072022007247', '0091017300_03072022007247']\n",
      "----------------------------------------------------------------------------------------------------\n"
     ]
    }
   ],
   "source": [
    "#df = pl.DataFrame({\"raw\": texts})\n",
    "print(df[-6, \"logs\"])"
   ]
  },
  {
   "cell_type": "code",
   "execution_count": 36,
   "id": "2e3ee044-99e9-4902-8599-965f19dad369",
   "metadata": {},
   "outputs": [
    {
     "name": "stdout",
     "output_type": "stream",
     "text": [
      "Packing Index: 16\n",
      "Rerun: 0\n",
      "----------------------------------------------------------------------------------------------------\n",
      "2D Packing MIP with Time Limit 2 [s] in Truck P231305201\n",
      "Stack 0 with items: ['0090018400_03072022000935']\n",
      "Stack 1 with items: ['0090018400_03072022000935']\n",
      "Stack 2 with items: ['0090018400_03072022000935']\n",
      "Stack 3 with items: ['0090018400_03072022000935']\n",
      "Stack 4 with items: ['0090018400_03072022000934', '0090018400_03072022000934']\n",
      "Stack 5 with items: ['0090018400_03072022000934']\n",
      "Stack 6 with items: ['0090018400_03072022000896']\n",
      "Stack 7 with items: ['0090018400_03072022000896']\n",
      "Stack 8 with items: ['0090018400_03072022000896']\n",
      "Stack 9 with items: ['0090018400_03072022000896']\n",
      "Stack 10 with items: ['0090018400_03072022000779']\n",
      "Stack 11 with items: ['0090018400_03072022000779']\n",
      "Stack 12 with items: ['0090018400_03072022000779']\n",
      "Stack 13 with items: ['0090018400_03072022000779']\n",
      "Stack 14 with items: ['0090018400_03072022000779']\n",
      "Stack 15 with items: ['0090018400_03072022000757']\n",
      "Stack 16 with items: ['0090018400_03072022000757']\n",
      "Stack 17 with items: ['0090018400_03072022000757']\n",
      "Stack 18 with items: ['0090018400_03072022000757']\n",
      "Stack 19 with items: ['0090018400_03072022000597']\n",
      "Stack 20 with items: ['0090018400_03072022000597']\n",
      "Stack 21 with items: ['0090018400_03072022000597']\n",
      "Stack 22 with items: ['0090018400_03072022000597']\n",
      "Stack 23 with items: ['0090018400_03072022000550']\n",
      "Stack 24 with items: ['0090018400_03072022000550']\n",
      "Stack 25 with items: ['0090018400_03072022000550']\n",
      "Stack 26 with items: ['0090018400_03072022000550']\n",
      "Stack 27 with items: ['0090018400_03072022000550']\n",
      "Stack 28 with items: ['0090018400_03072022000550']\n",
      "Stack 29 with items: ['0090018400_03072022000550']\n",
      "Stack 30 with items: ['0090018400_03072022000550']\n",
      "Stack 31 with items: ['0090018400_03072022000550']\n",
      "Stack 32 with items: ['0090018400_03072022000550']\n",
      "Stack 33 with items: ['0090018400_03072022000550']\n",
      "Stack 34 with items: ['0090018400_03072022000550']\n",
      "Stack 35 with items: ['0090018400_03072022000550']\n",
      "Stack 36 with items: ['0090018400_03072022000093']\n",
      "Stack 37 with items: ['0090018400_03072022000093']\n",
      "Stack 38 with items: ['0090018400_03072022000093']\n",
      "Stack 39 with items: ['0090018400_03072022000412']\n",
      "Stack 40 with items: ['0090018400_03072022000831']\n",
      "Stack 41 with items: ['0090018400_03072022000615']\n",
      "Stack 42 with items: ['0090018400_03072022000412']\n",
      "Stack 43 with items: ['0090018400_03072022000636']\n",
      "Stack 44 with items: ['0090018400_03072022000636']\n",
      "Stack 45 with items: ['0090018400_03072022000636']\n",
      "Stack 46 with items: ['0090018400_03072022000412']\n",
      "Stack 47 with items: ['0090018400_03072022000615']\n",
      "Stack 48 with items: ['0090018400_03072022000615']\n",
      "Stack 49 with items: ['0090018400_03072022000615']\n",
      "Stack 50 with items: ['0090018400_03072022000412']\n",
      "Stack 51 with items: ['0090018400_03072022000615']\n",
      "Stack 52 with items: ['0090018400_03072022000831', '0090018400_03072022000831']\n",
      "Stack 53 with items: ['0090018400_03072022000615']\n",
      "Stack 54 with items: ['0090018400_03072022000636']\n",
      "Stack 55 with items: ['0090018400_03072022000412']\n",
      "Stack 56 with items: ['0090018400_03072022000412']\n",
      "Stack 57 with items: ['0090018400_03072022000615']\n",
      "Stack 58 with items: ['0090018400_03072022000636']\n",
      "Stack 59 with items: ['0090018400_03072022000636']\n",
      "Stack 60 with items: ['0090018400_03072022000636']\n",
      "MIP Improvement - 2D Vol: 25.44 [m2] - packed 2D Vol Ratio: 0.772313296903461 [%] - after 0.0 [s] without stacks:\n",
      "Stack 0 missing: ['0090018400_03072022000935']\n",
      "Stack 1 missing: ['0090018400_03072022000935']\n",
      "Stack 2 missing: ['0090018400_03072022000935']\n",
      "Stack 3 missing: ['0090018400_03072022000935']\n",
      "Stack 4 missing: ['0090018400_03072022000934', '0090018400_03072022000934']\n",
      "Stack 19 missing: ['0090018400_03072022000597']\n",
      "Stack 40 missing: ['0090018400_03072022000831']\n",
      "Stack 60 missing: ['0090018400_03072022000636']\n",
      "Solve interrupted after 2.01891208300367 [s]\n",
      "Stacks not packed:\n",
      "Stack 0 not in final solution with items: ['0090018400_03072022000935']\n",
      "Stack 1 not in final solution with items: ['0090018400_03072022000935']\n",
      "Stack 2 not in final solution with items: ['0090018400_03072022000935']\n",
      "Stack 3 not in final solution with items: ['0090018400_03072022000935']\n",
      "Stack 4 not in final solution with items: ['0090018400_03072022000934', '0090018400_03072022000934']\n",
      "Stack 19 not in final solution with items: ['0090018400_03072022000597']\n",
      "Stack 40 not in final solution with items: ['0090018400_03072022000831']\n",
      "Stack 60 not in final solution with items: ['0090018400_03072022000636']\n",
      "----------------------------------------------------------------------------------------------------\n"
     ]
    }
   ],
   "source": [
    "print(df[510, \"logs\"])"
   ]
  }
 ],
 "metadata": {
  "kernelspec": {
   "display_name": "Python 3 (ipykernel)",
   "language": "python",
   "name": "python3"
  },
  "language_info": {
   "codemirror_mode": {
    "name": "ipython",
    "version": 3
   },
   "file_extension": ".py",
   "mimetype": "text/x-python",
   "name": "python",
   "nbconvert_exporter": "python",
   "pygments_lexer": "ipython3",
   "version": "3.11.4"
  }
 },
 "nbformat": 4,
 "nbformat_minor": 5
}
