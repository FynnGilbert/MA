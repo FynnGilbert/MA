{
 "cells": [
  {
   "cell_type": "code",
   "execution_count": 1,
   "id": "51595832-52a2-4469-8aee-61428a86c0fe",
   "metadata": {},
   "outputs": [],
   "source": [
    "BATCH_SIZE = 1024\n",
    "\n",
    "PAD_SIZE = 80\n",
    "TARGET_LABELS = [\n",
    "    #\"Solved\",\n",
    "    #\"Improvement\",\n",
    "    #\"AreaRatio\",\n",
    "    \"Stacks\"\n",
    "]\n",
    "\n",
    "SEED = 3093453"
   ]
  },
  {
   "cell_type": "markdown",
   "id": "4e6016c6-543d-4ede-b6dd-2a4870f324d6",
   "metadata": {},
   "source": [
    "# Preprocessing"
   ]
  },
  {
   "cell_type": "markdown",
   "id": "053d07e7-6859-4737-9c4b-91eba870632b",
   "metadata": {
    "jp-MarkdownHeadingCollapsed": true
   },
   "source": [
    "## Load Packages and Data"
   ]
  },
  {
   "cell_type": "code",
   "execution_count": 2,
   "id": "67cdfc5c-074f-4f7f-9f9d-39d47b43a1c0",
   "metadata": {},
   "outputs": [],
   "source": [
    "import os\n",
    "import sys\n",
    "\n",
    "import numpy as np\n",
    "import pandas as pd\n",
    "import polars as pl\n",
    "\n",
    "import tensorflow as tf\n",
    "\n",
    "import matplotlib.pyplot as plt\n",
    "import seaborn as sns\n",
    "\n",
    "np.set_printoptions(\n",
    "    edgeitems=30,\n",
    "    linewidth=100_000,\n",
    "    suppress=True\n",
    "    )\n",
    "\n",
    "np.random.seed(SEED)\n",
    "tf.random.set_seed(SEED)\n",
    "\n",
    "sns.set(\n",
    "    context=\"talk\",\n",
    "    style=\"darkgrid\"\n",
    ")\n",
    "\n",
    "cwd = os.getcwd()\n",
    "cwd, _ = os.path.split(cwd)"
   ]
  },
  {
   "cell_type": "code",
   "execution_count": 3,
   "id": "ed6f3329-37c6-4683-ad68-5725ed932f53",
   "metadata": {},
   "outputs": [
    {
     "name": "stdout",
     "output_type": "stream",
     "text": [
      "Found 201177 files belonging to 1 classes.\n",
      "Using 181060 files for training.\n"
     ]
    },
    {
     "name": "stderr",
     "output_type": "stream",
     "text": [
      "2023-12-13 16:48:06.651356: I metal_plugin/src/device/metal_device.cc:1154] Metal device set to: Apple M1 Pro\n",
      "2023-12-13 16:48:06.651433: I metal_plugin/src/device/metal_device.cc:296] systemMemory: 16.00 GB\n",
      "2023-12-13 16:48:06.651437: I metal_plugin/src/device/metal_device.cc:313] maxCacheSize: 5.33 GB\n",
      "2023-12-13 16:48:06.651744: I tensorflow/core/common_runtime/pluggable_device/pluggable_device_factory.cc:306] Could not identify NUMA node of platform GPU ID 0, defaulting to 0. Your kernel may not have been built with NUMA support.\n",
      "2023-12-13 16:48:06.651790: I tensorflow/core/common_runtime/pluggable_device/pluggable_device_factory.cc:272] Created TensorFlow device (/job:localhost/replica:0/task:0/device:GPU:0 with 0 MB memory) -> physical PluggableDevice (device: 0, name: METAL, pci bus id: <undefined>)\n"
     ]
    },
    {
     "name": "stdout",
     "output_type": "stream",
     "text": [
      "Found 201177 files belonging to 1 classes.\n",
      "Using 20117 files for validation.\n"
     ]
    }
   ],
   "source": [
    "import tensorflow as tf\n",
    "from tensorflow import keras\n",
    "\n",
    "train_samples = os.path.join(cwd, \"data\", \"train\", \"2D\", \"MIP\")\n",
    "test_samples = os.path.join(cwd, \"data\", \"test\", \"2D\", \"MIP\")\n",
    "class_names = [\"interrupted\", \"solved\"]\n",
    "\n",
    "train_dataset = keras.preprocessing.text_dataset_from_directory(\n",
    "    directory = train_samples,\n",
    "    labels = None,\n",
    "    batch_size = BATCH_SIZE,\n",
    "    max_length = None,\n",
    "    shuffle = True,\n",
    "    seed = SEED,\n",
    "    validation_split = 0.1,\n",
    "    subset = \"training\",\n",
    "    follow_links = False\n",
    ")\n",
    "\n",
    "val_dataset = keras.preprocessing.text_dataset_from_directory(\n",
    "    directory = train_samples,\n",
    "    labels = None,\n",
    "    batch_size = BATCH_SIZE,\n",
    "    max_length = None,\n",
    "    shuffle = True,\n",
    "    seed = SEED,\n",
    "    validation_split = 0.1,\n",
    "    subset = \"validation\",\n",
    "    follow_links = False\n",
    ")\n",
    "\n",
    "class_names = np.array(class_names)"
   ]
  },
  {
   "cell_type": "code",
   "execution_count": 4,
   "id": "e67b7b15-cae4-480d-807b-11a180484459",
   "metadata": {},
   "outputs": [
    {
     "name": "stdout",
     "output_type": "stream",
     "text": [
      "dataset: X\n",
      "instance: RM7\n",
      "+-----------+\n",
      "2D Packing MIP with Time Limit 30 [s] in Truck P196390505\n",
      "Stack 0 with items: ['0090038200_14062023024567', '0090038200_14062023024567']\n",
      "Stack 1 with items: ['0090038200_14062023022609', '0090038200_14062023022609']\n",
      "Stack 2 with items: ['0090038200_14062023022609', '0090038200_14062023022609']\n",
      "Stack 3 with items: ['0090038200_14062023022609', '0090038200_14062023022609']\n",
      "Stack 4 with items: ['0090038200_14062023022609', '0090038200_14062023022609']\n",
      "Stack 5 with items: ['0090038200_14062023022609', '0090038200_14062023022609']\n",
      "Stack 6 with items: ['0090038200_14062023018013', '0090038200_14062023018013']\n",
      "Stack 7 with items: ['0090038200_14062023018013', '0090038200_14062023018013']\n",
      "Stack 8 with items: ['0090038200_14062023018013', '0090038200_14062023018013']\n",
      "MIP Improvement - 2D Vol: 29.952 [m2] - packed 2D Vol Ratio: 0.909289617486339 [%] - after 0.0 [s] without stacks:\n",
      "Stack 0 missing: ['0090038200_14062023024567', '0090038200_14062023024567']\n",
      "Optimal Solution confirmed after 0.008198532974347472 [s]\n",
      "Stacks not packed:\n",
      "Stack 0 not in final solution with items: ['0090038200_14062023024567', '0090038200_14062023024567']\n"
     ]
    }
   ],
   "source": [
    "for X in train_dataset.take(1):\n",
    "    pass\n",
    "\n",
    "df = pl.DataFrame({\"raw\": X.numpy().astype(str)})\n",
    "print(df[0, 0])"
   ]
  },
  {
   "cell_type": "markdown",
   "id": "3e8b48de-cb45-4f62-99f0-9cf125c35048",
   "metadata": {
    "jp-MarkdownHeadingCollapsed": true
   },
   "source": [
    "## Loading CSVs"
   ]
  },
  {
   "cell_type": "code",
   "execution_count": 5,
   "id": "2c26da7a-f0f1-4b99-b35f-519d9c9549df",
   "metadata": {},
   "outputs": [
    {
     "data": {
      "text/html": [
       "<div><style>\n",
       ".dataframe > thead > tr > th,\n",
       ".dataframe > tbody > tr > td {\n",
       "  text-align: right;\n",
       "  white-space: pre-wrap;\n",
       "}\n",
       "</style>\n",
       "<small>shape: (3_680_457, 13)</small><table border=\"1\" class=\"dataframe\"><thead><tr><th>Supplier code</th><th>Supplier dock</th><th>Plant dock</th><th>Length</th><th>Width</th><th>Height</th><th>Weight</th><th>Nesting height</th><th>dataset</th><th>instance</th><th>item_id</th><th>ForcedLength</th><th>ForcedWidth</th></tr><tr><td>i64</td><td>str</td><td>str</td><td>f64</td><td>f64</td><td>f64</td><td>f64</td><td>f64</td><td>str</td><td>str</td><td>str</td><td>bool</td><td>bool</td></tr></thead><tbody><tr><td>679301</td><td>null</td><td>&quot;169GB-20&quot;</td><td>1.8</td><td>1.2</td><td>2.34</td><td>0.550536</td><td>0.045</td><td>&quot;C&quot;</td><td>&quot;BY&quot;</td><td>&quot;0090016900_270…</td><td>false</td><td>false</td></tr><tr><td>23676300</td><td>null</td><td>&quot;169GD-60&quot;</td><td>2.4</td><td>2.2</td><td>1.52</td><td>0.5944</td><td>0.045</td><td>&quot;C&quot;</td><td>&quot;BY&quot;</td><td>&quot;0090016900_270…</td><td>false</td><td>false</td></tr><tr><td>2555101</td><td>null</td><td>&quot;GRE1&quot;</td><td>1.206</td><td>1.01</td><td>1.085</td><td>0.14081</td><td>0.0</td><td>&quot;C&quot;</td><td>&quot;BY&quot;</td><td>&quot;0090016900_270…</td><td>false</td><td>false</td></tr><tr><td>90016100</td><td>&quot;K11&quot;</td><td>&quot;GRD1&quot;</td><td>2.3</td><td>1.6</td><td>1.0</td><td>1.57</td><td>0.045</td><td>&quot;C&quot;</td><td>&quot;BY&quot;</td><td>&quot;0090016900_270…</td><td>false</td><td>false</td></tr><tr><td>24979000</td><td>null</td><td>&quot;169GB-20&quot;</td><td>2.0</td><td>1.2</td><td>1.22</td><td>0.210962</td><td>0.045</td><td>&quot;C&quot;</td><td>&quot;BY&quot;</td><td>&quot;0090016900_270…</td><td>false</td><td>false</td></tr><tr><td>22060301</td><td>null</td><td>&quot;169GB-30&quot;</td><td>2.6</td><td>1.2</td><td>1.49</td><td>0.640208</td><td>0.045</td><td>&quot;C&quot;</td><td>&quot;BY&quot;</td><td>&quot;0090016900_270…</td><td>false</td><td>false</td></tr><tr><td>1746907</td><td>null</td><td>&quot;GRD1&quot;</td><td>3.2</td><td>0.8</td><td>0.96</td><td>0.1816</td><td>0.045</td><td>&quot;C&quot;</td><td>&quot;BY&quot;</td><td>&quot;0090016900_270…</td><td>false</td><td>false</td></tr><tr><td>23393501</td><td>null</td><td>&quot;169GD-20&quot;</td><td>1.2</td><td>1.0</td><td>0.72</td><td>0.98388</td><td>0.0</td><td>&quot;C&quot;</td><td>&quot;BY&quot;</td><td>&quot;0090016900_270…</td><td>false</td><td>false</td></tr><tr><td>7908416</td><td>null</td><td>&quot;169GB-10&quot;</td><td>1.6</td><td>1.2</td><td>0.93</td><td>0.4597</td><td>0.045</td><td>&quot;C&quot;</td><td>&quot;BY&quot;</td><td>&quot;0090016900_270…</td><td>false</td><td>false</td></tr><tr><td>28415402</td><td>null</td><td>&quot;169GD-60&quot;</td><td>5.4</td><td>2.1</td><td>0.575</td><td>0.307258</td><td>0.235</td><td>&quot;C&quot;</td><td>&quot;BY&quot;</td><td>&quot;0090016900_270…</td><td>false</td><td>false</td></tr><tr><td>679301</td><td>null</td><td>&quot;169GB-20&quot;</td><td>2.4</td><td>1.2</td><td>1.9</td><td>0.518208</td><td>0.045</td><td>&quot;C&quot;</td><td>&quot;BY&quot;</td><td>&quot;0090016900_270…</td><td>false</td><td>false</td></tr><tr><td>679301</td><td>null</td><td>&quot;169GB-20&quot;</td><td>1.8</td><td>1.2</td><td>2.34</td><td>0.551344</td><td>0.045</td><td>&quot;C&quot;</td><td>&quot;BY&quot;</td><td>&quot;0090016900_270…</td><td>false</td><td>false</td></tr><tr><td>&hellip;</td><td>&hellip;</td><td>&hellip;</td><td>&hellip;</td><td>&hellip;</td><td>&hellip;</td><td>&hellip;</td><td>&hellip;</td><td>&hellip;</td><td>&hellip;</td><td>&hellip;</td><td>&hellip;</td><td>&hellip;</td></tr><tr><td>40695600</td><td>null</td><td>&quot;383G4B&quot;</td><td>1.2</td><td>1.0</td><td>0.975</td><td>0.142556</td><td>0.045</td><td>&quot;X&quot;</td><td>&quot;TA6&quot;</td><td>&quot;0090038300_140…</td><td>false</td><td>false</td></tr><tr><td>40695600</td><td>null</td><td>&quot;383G4P&quot;</td><td>1.206</td><td>1.01</td><td>1.085</td><td>0.13445</td><td>0.0</td><td>&quot;X&quot;</td><td>&quot;TA6&quot;</td><td>&quot;0090038300_140…</td><td>false</td><td>false</td></tr><tr><td>40695600</td><td>null</td><td>&quot;383G4B&quot;</td><td>1.2</td><td>1.0</td><td>0.975</td><td>0.137768</td><td>0.045</td><td>&quot;X&quot;</td><td>&quot;TA6&quot;</td><td>&quot;0090038300_140…</td><td>false</td><td>false</td></tr><tr><td>40695600</td><td>null</td><td>&quot;383G4B&quot;</td><td>1.2</td><td>1.0</td><td>0.975</td><td>0.134784</td><td>0.045</td><td>&quot;X&quot;</td><td>&quot;TA6&quot;</td><td>&quot;0090038300_140…</td><td>false</td><td>false</td></tr><tr><td>40695600</td><td>null</td><td>&quot;383G4B&quot;</td><td>1.2</td><td>1.0</td><td>0.93</td><td>0.14039</td><td>0.045</td><td>&quot;X&quot;</td><td>&quot;TA6&quot;</td><td>&quot;0090038300_140…</td><td>false</td><td>false</td></tr><tr><td>40695600</td><td>null</td><td>&quot;383G4B&quot;</td><td>1.2</td><td>1.0</td><td>0.975</td><td>0.13464</td><td>0.045</td><td>&quot;X&quot;</td><td>&quot;TA6&quot;</td><td>&quot;0090038300_140…</td><td>false</td><td>false</td></tr><tr><td>40695600</td><td>null</td><td>&quot;383G4B&quot;</td><td>1.2</td><td>1.0</td><td>0.975</td><td>0.1497</td><td>0.045</td><td>&quot;X&quot;</td><td>&quot;TA6&quot;</td><td>&quot;0090038300_140…</td><td>false</td><td>false</td></tr><tr><td>40695600</td><td>null</td><td>&quot;383G4P&quot;</td><td>1.206</td><td>1.01</td><td>0.385</td><td>0.041208</td><td>0.0</td><td>&quot;X&quot;</td><td>&quot;TA6&quot;</td><td>&quot;0090038300_140…</td><td>false</td><td>false</td></tr><tr><td>40695600</td><td>null</td><td>&quot;383G4B&quot;</td><td>1.206</td><td>1.01</td><td>1.089</td><td>0.09776</td><td>0.0</td><td>&quot;X&quot;</td><td>&quot;TA6&quot;</td><td>&quot;0090038300_140…</td><td>false</td><td>false</td></tr><tr><td>40695600</td><td>null</td><td>&quot;383G4B&quot;</td><td>1.2</td><td>1.0</td><td>0.975</td><td>0.13748</td><td>0.045</td><td>&quot;X&quot;</td><td>&quot;TA6&quot;</td><td>&quot;0090038300_140…</td><td>false</td><td>false</td></tr><tr><td>40695600</td><td>null</td><td>&quot;383G4B&quot;</td><td>1.2</td><td>1.0</td><td>0.975</td><td>0.1292</td><td>0.045</td><td>&quot;X&quot;</td><td>&quot;TA6&quot;</td><td>&quot;0090038300_140…</td><td>false</td><td>false</td></tr><tr><td>40695600</td><td>null</td><td>&quot;383G4B&quot;</td><td>1.2</td><td>1.0</td><td>0.93</td><td>0.14078</td><td>0.045</td><td>&quot;X&quot;</td><td>&quot;TA6&quot;</td><td>&quot;0090038300_140…</td><td>false</td><td>false</td></tr></tbody></table></div>"
      ],
      "text/plain": [
       "shape: (3_680_457, 13)\n",
       "┌────────────┬────────────┬────────────┬────────┬───┬──────────┬───────────┬───────────┬───────────┐\n",
       "│ Supplier   ┆ Supplier   ┆ Plant dock ┆ Length ┆ … ┆ instance ┆ item_id   ┆ ForcedLen ┆ ForcedWid │\n",
       "│ code       ┆ dock       ┆ ---        ┆ ---    ┆   ┆ ---      ┆ ---       ┆ gth       ┆ th        │\n",
       "│ ---        ┆ ---        ┆ str        ┆ f64    ┆   ┆ str      ┆ str       ┆ ---       ┆ ---       │\n",
       "│ i64        ┆ str        ┆            ┆        ┆   ┆          ┆           ┆ bool      ┆ bool      │\n",
       "╞════════════╪════════════╪════════════╪════════╪═══╪══════════╪═══════════╪═══════════╪═══════════╡\n",
       "│ 679301     ┆ null       ┆ 169GB-20   ┆ 1.8    ┆ … ┆ BY       ┆ 009001690 ┆ false     ┆ false     │\n",
       "│            ┆            ┆            ┆        ┆   ┆          ┆ 0_2702202 ┆           ┆           │\n",
       "│            ┆            ┆            ┆        ┆   ┆          ┆ 3000067   ┆           ┆           │\n",
       "│ 23676300   ┆ null       ┆ 169GD-60   ┆ 2.4    ┆ … ┆ BY       ┆ 009001690 ┆ false     ┆ false     │\n",
       "│            ┆            ┆            ┆        ┆   ┆          ┆ 0_2702202 ┆           ┆           │\n",
       "│            ┆            ┆            ┆        ┆   ┆          ┆ 3000300   ┆           ┆           │\n",
       "│ 2555101    ┆ null       ┆ GRE1       ┆ 1.206  ┆ … ┆ BY       ┆ 009001690 ┆ false     ┆ false     │\n",
       "│            ┆            ┆            ┆        ┆   ┆          ┆ 0_2702202 ┆           ┆           │\n",
       "│            ┆            ┆            ┆        ┆   ┆          ┆ 3000321   ┆           ┆           │\n",
       "│ 90016100   ┆ K11        ┆ GRD1       ┆ 2.3    ┆ … ┆ BY       ┆ 009001690 ┆ false     ┆ false     │\n",
       "│            ┆            ┆            ┆        ┆   ┆          ┆ 0_2702202 ┆           ┆           │\n",
       "│            ┆            ┆            ┆        ┆   ┆          ┆ 3000518   ┆           ┆           │\n",
       "│ …          ┆ …          ┆ …          ┆ …      ┆ … ┆ …        ┆ …         ┆ …         ┆ …         │\n",
       "│ 40695600   ┆ null       ┆ 383G4B     ┆ 1.206  ┆ … ┆ TA6      ┆ 009003830 ┆ false     ┆ false     │\n",
       "│            ┆            ┆            ┆        ┆   ┆          ┆ 0_1406202 ┆           ┆           │\n",
       "│            ┆            ┆            ┆        ┆   ┆          ┆ 3011783   ┆           ┆           │\n",
       "│ 40695600   ┆ null       ┆ 383G4B     ┆ 1.2    ┆ … ┆ TA6      ┆ 009003830 ┆ false     ┆ false     │\n",
       "│            ┆            ┆            ┆        ┆   ┆          ┆ 0_1406202 ┆           ┆           │\n",
       "│            ┆            ┆            ┆        ┆   ┆          ┆ 3011902   ┆           ┆           │\n",
       "│ 40695600   ┆ null       ┆ 383G4B     ┆ 1.2    ┆ … ┆ TA6      ┆ 009003830 ┆ false     ┆ false     │\n",
       "│            ┆            ┆            ┆        ┆   ┆          ┆ 0_1406202 ┆           ┆           │\n",
       "│            ┆            ┆            ┆        ┆   ┆          ┆ 3011916   ┆           ┆           │\n",
       "│ 40695600   ┆ null       ┆ 383G4B     ┆ 1.2    ┆ … ┆ TA6      ┆ 009003830 ┆ false     ┆ false     │\n",
       "│            ┆            ┆            ┆        ┆   ┆          ┆ 0_1406202 ┆           ┆           │\n",
       "│            ┆            ┆            ┆        ┆   ┆          ┆ 3011962   ┆           ┆           │\n",
       "└────────────┴────────────┴────────────┴────────┴───┴──────────┴───────────┴───────────┴───────────┘"
      ]
     },
     "execution_count": 5,
     "metadata": {},
     "output_type": "execute_result"
    }
   ],
   "source": [
    "folder = \"truck-item-infos\"\n",
    "file = \"items.csv\"\n",
    "\n",
    "item_path = os.path.join(cwd, folder, file)\n",
    "items = pl.read_csv(source = item_path);\n",
    "\n",
    "items = items.lazy().with_columns([\n",
    "    (pl.col(\"Item ident\").alias(\"item_id\")),\n",
    "    (pl.col(\"Length\") / 1000), # mm to m\n",
    "    (pl.col(\"Width\") / 1000),  # mm to m\n",
    "    (pl.col(\"Height\") / 1000), # mm to m\n",
    "    (pl.col(\"Nesting height\") / 1000), # mm to m\n",
    "    (pl.col(\"Weight\") / 1000), # kg to tons\n",
    "    (pl.col(\"Forced orientation\") == \"lengthwise\").alias(\"ForcedLength\"),\n",
    "    (pl.col(\"Forced orientation\") == \"widthwise\").alias(\"ForcedWidth\"),\n",
    "    ((pl.col(\"Height\") - pl.col(\"Nesting height\")) / 1000).alias(\"NestedHeight\"),\n",
    "    pl.col(\"dataset\").str.extract(\"([A-Z])\")\n",
    "]).drop([\n",
    "    \"Forced orientation\", \"Max stackability\", \"Inventory cost\",\n",
    "    \"Earliest arrival time\", \"Latest arrival time\", \"Number of items\",\n",
    "    \"instance_id\",\n",
    "    \"Stackability code\",\n",
    "    \"Item ident\", # drop because of rename earlier\n",
    "    # Unnecassary columns\n",
    "    \"Product code\",\n",
    "    \"Package\",\n",
    "    \"Plant code\",\n",
    "    \"Product code\",\n",
    "    \"Package code\",\n",
    "    \"NestedHeight\"\n",
    "]).unique()\n",
    "\n",
    "items.collect()"
   ]
  },
  {
   "cell_type": "code",
   "execution_count": 6,
   "id": "0dc63cfa-2e58-450c-8880-6b1bbfc96140",
   "metadata": {},
   "outputs": [
    {
     "data": {
      "text/html": [
       "<div><style>\n",
       ".dataframe > thead > tr > th,\n",
       ".dataframe > tbody > tr > td {\n",
       "  text-align: right;\n",
       "  white-space: pre-wrap;\n",
       "}\n",
       "</style>\n",
       "<small>shape: (897_317, 9)</small><table border=\"1\" class=\"dataframe\"><thead><tr><th>Supplier code</th><th>Supplier loading order</th><th>Supplier dock</th><th>Supplier dock loading order</th><th>Plant dock</th><th>Plant dock loading order</th><th>truck_id</th><th>dataset</th><th>instance</th></tr><tr><td>i64</td><td>i64</td><td>str</td><td>i64</td><td>str</td><td>i64</td><td>str</td><td>str</td><td>str</td></tr></thead><tbody><tr><td>62059600</td><td>1</td><td>null</td><td>1</td><td>&quot;X0&quot;</td><td>1</td><td>&quot;P187731001&quot;</td><td>&quot;A&quot;</td><td>&quot;AS&quot;</td></tr><tr><td>29908700</td><td>1</td><td>null</td><td>1</td><td>&quot;X4&quot;</td><td>1</td><td>&quot;P189730405&quot;</td><td>&quot;A&quot;</td><td>&quot;AS&quot;</td></tr><tr><td>29908700</td><td>1</td><td>null</td><td>1</td><td>&quot;X4&quot;</td><td>1</td><td>&quot;P192730401&quot;</td><td>&quot;A&quot;</td><td>&quot;AS&quot;</td></tr><tr><td>25439300</td><td>1</td><td>null</td><td>1</td><td>&quot;X0&quot;</td><td>1</td><td>&quot;P192731801&quot;</td><td>&quot;A&quot;</td><td>&quot;AS&quot;</td></tr><tr><td>29938000</td><td>1</td><td>null</td><td>1</td><td>&quot;X3&quot;</td><td>1</td><td>&quot;P193709601&quot;</td><td>&quot;A&quot;</td><td>&quot;AS&quot;</td></tr><tr><td>62069600</td><td>1</td><td>null</td><td>1</td><td>&quot;X3&quot;</td><td>1</td><td>&quot;P193730507&quot;</td><td>&quot;A&quot;</td><td>&quot;AS&quot;</td></tr><tr><td>28091900</td><td>1</td><td>null</td><td>1</td><td>&quot;X4&quot;</td><td>1</td><td>&quot;P194708201&quot;</td><td>&quot;A&quot;</td><td>&quot;AS&quot;</td></tr><tr><td>29908700</td><td>1</td><td>null</td><td>1</td><td>&quot;X4&quot;</td><td>1</td><td>&quot;P195730407&quot;</td><td>&quot;A&quot;</td><td>&quot;AS&quot;</td></tr><tr><td>62069600</td><td>1</td><td>null</td><td>1</td><td>&quot;X3&quot;</td><td>1</td><td>&quot;P195730501&quot;</td><td>&quot;A&quot;</td><td>&quot;AS&quot;</td></tr><tr><td>62069600</td><td>1</td><td>null</td><td>1</td><td>&quot;X1&quot;</td><td>1</td><td>&quot;P195730505&quot;</td><td>&quot;A&quot;</td><td>&quot;AS&quot;</td></tr><tr><td>62060800</td><td>1</td><td>null</td><td>1</td><td>&quot;X2&quot;</td><td>1</td><td>&quot;P195731301&quot;</td><td>&quot;A&quot;</td><td>&quot;AS&quot;</td></tr><tr><td>29938000</td><td>1</td><td>null</td><td>1</td><td>&quot;X3&quot;</td><td>1</td><td>&quot;P196709601&quot;</td><td>&quot;A&quot;</td><td>&quot;AS&quot;</td></tr><tr><td>&hellip;</td><td>&hellip;</td><td>&hellip;</td><td>&hellip;</td><td>&hellip;</td><td>&hellip;</td><td>&hellip;</td><td>&hellip;</td><td>&hellip;</td></tr><tr><td>27107000</td><td>1</td><td>null</td><td>0</td><td>&quot;G01&quot;</td><td>1</td><td>&quot;P240277201&quot;</td><td>&quot;X&quot;</td><td>&quot;TR7&quot;</td></tr><tr><td>23321100</td><td>1</td><td>null</td><td>0</td><td>&quot;G01&quot;</td><td>1</td><td>&quot;P240277201&quot;</td><td>&quot;X&quot;</td><td>&quot;TR7&quot;</td></tr><tr><td>9500603</td><td>1</td><td>null</td><td>2</td><td>&quot;G01&quot;</td><td>2</td><td>&quot;P240277505&quot;</td><td>&quot;X&quot;</td><td>&quot;TR7&quot;</td></tr><tr><td>25536102</td><td>1</td><td>null</td><td>0</td><td>&quot;G01&quot;</td><td>2</td><td>&quot;P240278101&quot;</td><td>&quot;X&quot;</td><td>&quot;TR7&quot;</td></tr><tr><td>11628100</td><td>1</td><td>null</td><td>1</td><td>&quot;G08&quot;</td><td>2</td><td>&quot;P240420101&quot;</td><td>&quot;X&quot;</td><td>&quot;TR7&quot;</td></tr><tr><td>11585402</td><td>2</td><td>null</td><td>2</td><td>&quot;G08&quot;</td><td>2</td><td>&quot;P240420401&quot;</td><td>&quot;X&quot;</td><td>&quot;TR7&quot;</td></tr><tr><td>11130702</td><td>1</td><td>null</td><td>1</td><td>&quot;G08&quot;</td><td>2</td><td>&quot;P240421901&quot;</td><td>&quot;X&quot;</td><td>&quot;TR7&quot;</td></tr><tr><td>11130702</td><td>1</td><td>null</td><td>1</td><td>&quot;V55&quot;</td><td>1</td><td>&quot;P240421901&quot;</td><td>&quot;X&quot;</td><td>&quot;TR7&quot;</td></tr><tr><td>61931800</td><td>2</td><td>null</td><td>2</td><td>&quot;G08&quot;</td><td>4</td><td>&quot;P240423101&quot;</td><td>&quot;X&quot;</td><td>&quot;TR7&quot;</td></tr><tr><td>28480902</td><td>1</td><td>null</td><td>1</td><td>&quot;V09&quot;</td><td>3</td><td>&quot;P240424603&quot;</td><td>&quot;X&quot;</td><td>&quot;TR7&quot;</td></tr><tr><td>11501900</td><td>2</td><td>null</td><td>2</td><td>&quot;V11&quot;</td><td>5</td><td>&quot;P240425501&quot;</td><td>&quot;X&quot;</td><td>&quot;TR7&quot;</td></tr><tr><td>11141500</td><td>1</td><td>null</td><td>1</td><td>&quot;G08&quot;</td><td>2</td><td>&quot;P240425501&quot;</td><td>&quot;X&quot;</td><td>&quot;TR7&quot;</td></tr></tbody></table></div>"
      ],
      "text/plain": [
       "shape: (897_317, 9)\n",
       "┌────────────┬────────────┬───────────┬───────────┬───┬───────────┬───────────┬─────────┬──────────┐\n",
       "│ Supplier   ┆ Supplier   ┆ Supplier  ┆ Supplier  ┆ … ┆ Plant     ┆ truck_id  ┆ dataset ┆ instance │\n",
       "│ code       ┆ loading    ┆ dock      ┆ dock      ┆   ┆ dock      ┆ ---       ┆ ---     ┆ ---      │\n",
       "│ ---        ┆ order      ┆ ---       ┆ loading   ┆   ┆ loading   ┆ str       ┆ str     ┆ str      │\n",
       "│ i64        ┆ ---        ┆ str       ┆ order     ┆   ┆ order     ┆           ┆         ┆          │\n",
       "│            ┆ i64        ┆           ┆ ---       ┆   ┆ ---       ┆           ┆         ┆          │\n",
       "│            ┆            ┆           ┆ i64       ┆   ┆ i64       ┆           ┆         ┆          │\n",
       "╞════════════╪════════════╪═══════════╪═══════════╪═══╪═══════════╪═══════════╪═════════╪══════════╡\n",
       "│ 62059600   ┆ 1          ┆ null      ┆ 1         ┆ … ┆ 1         ┆ P18773100 ┆ A       ┆ AS       │\n",
       "│            ┆            ┆           ┆           ┆   ┆           ┆ 1         ┆         ┆          │\n",
       "│ 29908700   ┆ 1          ┆ null      ┆ 1         ┆ … ┆ 1         ┆ P18973040 ┆ A       ┆ AS       │\n",
       "│            ┆            ┆           ┆           ┆   ┆           ┆ 5         ┆         ┆          │\n",
       "│ 29908700   ┆ 1          ┆ null      ┆ 1         ┆ … ┆ 1         ┆ P19273040 ┆ A       ┆ AS       │\n",
       "│            ┆            ┆           ┆           ┆   ┆           ┆ 1         ┆         ┆          │\n",
       "│ 25439300   ┆ 1          ┆ null      ┆ 1         ┆ … ┆ 1         ┆ P19273180 ┆ A       ┆ AS       │\n",
       "│            ┆            ┆           ┆           ┆   ┆           ┆ 1         ┆         ┆          │\n",
       "│ …          ┆ …          ┆ …         ┆ …         ┆ … ┆ …         ┆ …         ┆ …       ┆ …        │\n",
       "│ 61931800   ┆ 2          ┆ null      ┆ 2         ┆ … ┆ 4         ┆ P24042310 ┆ X       ┆ TR7      │\n",
       "│            ┆            ┆           ┆           ┆   ┆           ┆ 1         ┆         ┆          │\n",
       "│ 28480902   ┆ 1          ┆ null      ┆ 1         ┆ … ┆ 3         ┆ P24042460 ┆ X       ┆ TR7      │\n",
       "│            ┆            ┆           ┆           ┆   ┆           ┆ 3         ┆         ┆          │\n",
       "│ 11501900   ┆ 2          ┆ null      ┆ 2         ┆ … ┆ 5         ┆ P24042550 ┆ X       ┆ TR7      │\n",
       "│            ┆            ┆           ┆           ┆   ┆           ┆ 1         ┆         ┆          │\n",
       "│ 11141500   ┆ 1          ┆ null      ┆ 1         ┆ … ┆ 2         ┆ P24042550 ┆ X       ┆ TR7      │\n",
       "│            ┆            ┆           ┆           ┆   ┆           ┆ 1         ┆         ┆          │\n",
       "└────────────┴────────────┴───────────┴───────────┴───┴───────────┴───────────┴─────────┴──────────┘"
      ]
     },
     "execution_count": 6,
     "metadata": {},
     "output_type": "execute_result"
    }
   ],
   "source": [
    "file = \"trucks.csv\"\n",
    "\n",
    "truck_path = os.path.join(cwd, folder, file)\n",
    "\n",
    "truck_clms = [\"Id truck\", \"dataset\", \"instance\",\n",
    "              \"Supplier code\", \"Supplier dock\", \"Plant dock\",\n",
    "              \"Supplier loading order\", \"Supplier dock loading order\", \"Plant dock loading order\",\n",
    "             ]\n",
    "\n",
    "truck_stops = (\n",
    "    pl.read_csv(source = truck_path, columns = truck_clms)\n",
    "    .lazy()\n",
    "    .rename({\"Id truck\": \"truck_id\"})\n",
    "    .sort([\"dataset\", \"instance\", \"truck_id\"])\n",
    "    .with_columns([pl.col(\"dataset\").str.extract(\"(\\w)\")])\n",
    "    .unique()\n",
    ")\n",
    "truck_stops.collect()"
   ]
  },
  {
   "cell_type": "code",
   "execution_count": 7,
   "id": "4e492480-4e8d-4534-8029-096c64ec1da1",
   "metadata": {
    "scrolled": true
   },
   "outputs": [
    {
     "data": {
      "text/html": [
       "<div><style>\n",
       ".dataframe > thead > tr > th,\n",
       ".dataframe > tbody > tr > td {\n",
       "  text-align: right;\n",
       "  white-space: pre-wrap;\n",
       "}\n",
       "</style>\n",
       "<small>shape: (518_012, 8)</small><table border=\"1\" class=\"dataframe\"><thead><tr><th>truck_id</th><th>Length</th><th>Width</th><th>Weight</th><th>EMmm</th><th>EMmr</th><th>dataset</th><th>instance</th></tr><tr><td>str</td><td>f64</td><td>f64</td><td>f64</td><td>f64</td><td>f64</td><td>str</td><td>str</td></tr></thead><tbody><tr><td>&quot;P187731305&quot;</td><td>14.94</td><td>2.5</td><td>24.0</td><td>12.0</td><td>31.5</td><td>&quot;A&quot;</td><td>&quot;AS&quot;</td></tr><tr><td>&quot;P188730401&quot;</td><td>14.94</td><td>2.5</td><td>24.0</td><td>12.0</td><td>31.5</td><td>&quot;A&quot;</td><td>&quot;AS&quot;</td></tr><tr><td>&quot;P188730405&quot;</td><td>14.94</td><td>2.5</td><td>24.0</td><td>12.0</td><td>31.5</td><td>&quot;A&quot;</td><td>&quot;AS&quot;</td></tr><tr><td>&quot;P188730501&quot;</td><td>14.94</td><td>2.5</td><td>24.0</td><td>12.0</td><td>31.5</td><td>&quot;A&quot;</td><td>&quot;AS&quot;</td></tr><tr><td>&quot;P189721903&quot;</td><td>14.94</td><td>2.5</td><td>24.0</td><td>12.0</td><td>31.5</td><td>&quot;A&quot;</td><td>&quot;AS&quot;</td></tr><tr><td>&quot;P189730401&quot;</td><td>14.94</td><td>2.5</td><td>24.0</td><td>12.0</td><td>31.5</td><td>&quot;A&quot;</td><td>&quot;AS&quot;</td></tr><tr><td>&quot;P189731005&quot;</td><td>14.94</td><td>2.5</td><td>24.0</td><td>12.0</td><td>31.5</td><td>&quot;A&quot;</td><td>&quot;AS&quot;</td></tr><tr><td>&quot;P190731053&quot;</td><td>14.94</td><td>2.5</td><td>24.0</td><td>12.0</td><td>31.5</td><td>&quot;A&quot;</td><td>&quot;AS&quot;</td></tr><tr><td>&quot;P192708201&quot;</td><td>14.94</td><td>2.5</td><td>24.0</td><td>12.0</td><td>31.5</td><td>&quot;A&quot;</td><td>&quot;AS&quot;</td></tr><tr><td>&quot;P192717701&quot;</td><td>13.5</td><td>2.58</td><td>24.0</td><td>12.0</td><td>31.5</td><td>&quot;A&quot;</td><td>&quot;AS&quot;</td></tr><tr><td>&quot;P192717901&quot;</td><td>13.5</td><td>2.58</td><td>24.0</td><td>12.0</td><td>31.5</td><td>&quot;A&quot;</td><td>&quot;AS&quot;</td></tr><tr><td>&quot;P192730503&quot;</td><td>14.94</td><td>2.5</td><td>24.0</td><td>12.0</td><td>31.5</td><td>&quot;A&quot;</td><td>&quot;AS&quot;</td></tr><tr><td>&hellip;</td><td>&hellip;</td><td>&hellip;</td><td>&hellip;</td><td>&hellip;</td><td>&hellip;</td><td>&hellip;</td><td>&hellip;</td></tr><tr><td>&quot;P224420411&quot;</td><td>13.5</td><td>2.44</td><td>24.0</td><td>12.0</td><td>31.5</td><td>&quot;X&quot;</td><td>&quot;TR7&quot;</td></tr><tr><td>&quot;P224422507&quot;</td><td>13.5</td><td>2.44</td><td>24.0</td><td>12.0</td><td>31.5</td><td>&quot;X&quot;</td><td>&quot;TR7&quot;</td></tr><tr><td>&quot;P224423707&quot;</td><td>13.5</td><td>2.44</td><td>24.0</td><td>12.0</td><td>31.5</td><td>&quot;X&quot;</td><td>&quot;TR7&quot;</td></tr><tr><td>&quot;P224424603&quot;</td><td>13.5</td><td>2.44</td><td>24.0</td><td>12.0</td><td>31.5</td><td>&quot;X&quot;</td><td>&quot;TR7&quot;</td></tr><tr><td>&quot;P224425001&quot;</td><td>13.5</td><td>2.44</td><td>24.0</td><td>11.5</td><td>31.5</td><td>&quot;X&quot;</td><td>&quot;TR7&quot;</td></tr><tr><td>&quot;P240272901&quot;</td><td>13.5</td><td>2.44</td><td>24.0</td><td>11.5</td><td>31.5</td><td>&quot;X&quot;</td><td>&quot;TR7&quot;</td></tr><tr><td>&quot;P240275101&quot;</td><td>13.5</td><td>2.44</td><td>24.0</td><td>11.5</td><td>31.5</td><td>&quot;X&quot;</td><td>&quot;TR7&quot;</td></tr><tr><td>&quot;P240277101&quot;</td><td>13.5</td><td>2.44</td><td>24.0</td><td>11.5</td><td>31.5</td><td>&quot;X&quot;</td><td>&quot;TR7&quot;</td></tr><tr><td>&quot;P240278701&quot;</td><td>13.5</td><td>2.44</td><td>24.0</td><td>11.5</td><td>31.5</td><td>&quot;X&quot;</td><td>&quot;TR7&quot;</td></tr><tr><td>&quot;P240422001&quot;</td><td>13.5</td><td>2.44</td><td>24.0</td><td>12.0</td><td>31.5</td><td>&quot;X&quot;</td><td>&quot;TR7&quot;</td></tr><tr><td>&quot;P240424707&quot;</td><td>13.5</td><td>2.44</td><td>24.0</td><td>11.5</td><td>31.5</td><td>&quot;X&quot;</td><td>&quot;TR7&quot;</td></tr><tr><td>&quot;P240425001&quot;</td><td>13.5</td><td>2.44</td><td>24.0</td><td>11.5</td><td>31.5</td><td>&quot;X&quot;</td><td>&quot;TR7&quot;</td></tr></tbody></table></div>"
      ],
      "text/plain": [
       "shape: (518_012, 8)\n",
       "┌────────────┬────────┬───────┬────────┬──────┬──────┬─────────┬──────────┐\n",
       "│ truck_id   ┆ Length ┆ Width ┆ Weight ┆ EMmm ┆ EMmr ┆ dataset ┆ instance │\n",
       "│ ---        ┆ ---    ┆ ---   ┆ ---    ┆ ---  ┆ ---  ┆ ---     ┆ ---      │\n",
       "│ str        ┆ f64    ┆ f64   ┆ f64    ┆ f64  ┆ f64  ┆ str     ┆ str      │\n",
       "╞════════════╪════════╪═══════╪════════╪══════╪══════╪═════════╪══════════╡\n",
       "│ P187731305 ┆ 14.94  ┆ 2.5   ┆ 24.0   ┆ 12.0 ┆ 31.5 ┆ A       ┆ AS       │\n",
       "│ P188730401 ┆ 14.94  ┆ 2.5   ┆ 24.0   ┆ 12.0 ┆ 31.5 ┆ A       ┆ AS       │\n",
       "│ P188730405 ┆ 14.94  ┆ 2.5   ┆ 24.0   ┆ 12.0 ┆ 31.5 ┆ A       ┆ AS       │\n",
       "│ P188730501 ┆ 14.94  ┆ 2.5   ┆ 24.0   ┆ 12.0 ┆ 31.5 ┆ A       ┆ AS       │\n",
       "│ …          ┆ …      ┆ …     ┆ …      ┆ …    ┆ …    ┆ …       ┆ …        │\n",
       "│ P240278701 ┆ 13.5   ┆ 2.44  ┆ 24.0   ┆ 11.5 ┆ 31.5 ┆ X       ┆ TR7      │\n",
       "│ P240422001 ┆ 13.5   ┆ 2.44  ┆ 24.0   ┆ 12.0 ┆ 31.5 ┆ X       ┆ TR7      │\n",
       "│ P240424707 ┆ 13.5   ┆ 2.44  ┆ 24.0   ┆ 11.5 ┆ 31.5 ┆ X       ┆ TR7      │\n",
       "│ P240425001 ┆ 13.5   ┆ 2.44  ┆ 24.0   ┆ 11.5 ┆ 31.5 ┆ X       ┆ TR7      │\n",
       "└────────────┴────────┴───────┴────────┴──────┴──────┴─────────┴──────────┘"
      ]
     },
     "execution_count": 7,
     "metadata": {},
     "output_type": "execute_result"
    }
   ],
   "source": [
    "file = \"trucks.csv\"\n",
    "\n",
    "truck_path = os.path.join(cwd, folder, file)\n",
    "\n",
    "truck_clms = [\"Id truck\", \"dataset\", \"instance\",\n",
    "              \"Length\", \"Width\", \"Max weight\",\n",
    "              \"EMmm\", \"EMmr\"\n",
    "             ]\n",
    "\n",
    "truck_dims = (\n",
    "    pl.read_csv(source = truck_path, columns = truck_clms)\n",
    "    .lazy()\n",
    "    .rename({\"Id truck\": \"truck_id\", \"Max weight\": \"Weight\"})\n",
    "    .sort([\"dataset\", \"instance\", \"truck_id\"])\n",
    "    .with_columns([pl.col(\"dataset\").str.extract(\"(\\w)\")])\n",
    "    .unique()\n",
    ")\n",
    "\n",
    "truck_dims = truck_dims.with_columns([\n",
    "    (pl.col(\"Length\") / 1000),\n",
    "    (pl.col(\"Width\") / 1000),\n",
    "    (pl.col(\"Weight\") / 1000),\n",
    "    (pl.col(\"EMmm\") / 1000),\n",
    "    (pl.col(\"EMmr\") / 1000),\n",
    "])\n",
    "\n",
    "truck_dims.collect()"
   ]
  },
  {
   "cell_type": "markdown",
   "id": "e4904732-a116-4f7d-a5c1-8d17caf2a558",
   "metadata": {},
   "source": [
    "## Preprocessing Functions:"
   ]
  },
  {
   "cell_type": "code",
   "execution_count": 8,
   "id": "2d9335a9-2bd8-41f7-ba46-909dee42efc3",
   "metadata": {},
   "outputs": [],
   "source": [
    "import sys\n",
    "sys.path.append(\"..\")\n",
    "\n",
    "from utils.preprocessing import input_output_generation"
   ]
  },
  {
   "cell_type": "code",
   "execution_count": 9,
   "id": "89223fa3-fcbb-4307-afaf-7583d20f9d49",
   "metadata": {},
   "outputs": [],
   "source": [
    "cx, cy = input_output_generation(\n",
    "    X,\n",
    "    #target_labels=TARGET_LABELS,\n",
    "    pad_size=PAD_SIZE,\n",
    "    shuffle=False,\n",
    "    items=items,\n",
    "    truck_stops=truck_stops,\n",
    "    truck_dims=truck_dims,\n",
    ")"
   ]
  },
  {
   "cell_type": "code",
   "execution_count": 10,
   "id": "b2235d83-51e0-4c01-84e7-c04cb712ced5",
   "metadata": {},
   "outputs": [
    {
     "data": {
      "text/plain": [
       "array([[ 2.4       ,  1.56      ,  0.873792  ,  0.        ,  0.        ,  1.        ,  1.        ,  0.03999996,  0.8800001 ],\n",
       "       [ 2.4       ,  1.56      ,  0.872736  ,  0.        ,  0.        ,  1.        ,  0.        ,  0.03999996,  0.8800001 ],\n",
       "       [ 2.4       ,  1.56      ,  0.872736  ,  0.        ,  0.        ,  1.        ,  0.        ,  0.03999996,  0.8800001 ],\n",
       "       [ 2.4       ,  1.56      ,  0.872736  ,  0.        ,  0.        ,  1.        ,  0.        ,  0.03999996,  0.8800001 ],\n",
       "       [ 2.4       ,  1.56      ,  0.872736  ,  0.        ,  0.        ,  1.        ,  0.        ,  0.03999996,  0.8800001 ],\n",
       "       [ 2.4       ,  1.56      ,  0.872736  ,  0.        ,  0.        ,  1.        ,  0.        ,  0.03999996,  0.8800001 ],\n",
       "       [ 2.4       ,  1.56      ,  0.872736  ,  0.        ,  0.        ,  1.        ,  0.        ,  0.03999996,  0.8800001 ],\n",
       "       [ 2.4       ,  1.56      ,  0.872736  ,  0.        ,  0.        ,  1.        ,  0.        ,  0.03999996,  0.8800001 ],\n",
       "       [ 2.4       ,  1.56      ,  0.872736  ,  0.        ,  0.        ,  1.        ,  0.        ,  0.03999996,  0.8800001 ],\n",
       "       [13.5       ,  2.44      , 25.        , 11.5       , 31.5       ,  0.        ,  0.        ,  2.44      ,  0.        ],\n",
       "       [ 0.        ,  0.        ,  0.        ,  0.        ,  0.        ,  0.        ,  0.        ,  0.        ,  0.        ],\n",
       "       [ 0.        ,  0.        ,  0.        ,  0.        ,  0.        ,  0.        ,  0.        ,  0.        ,  0.        ],\n",
       "       [ 0.        ,  0.        ,  0.        ,  0.        ,  0.        ,  0.        ,  0.        ,  0.        ,  0.        ],\n",
       "       [ 0.        ,  0.        ,  0.        ,  0.        ,  0.        ,  0.        ,  0.        ,  0.        ,  0.        ],\n",
       "       [ 0.        ,  0.        ,  0.        ,  0.        ,  0.        ,  0.        ,  0.        ,  0.        ,  0.        ],\n",
       "       [ 0.        ,  0.        ,  0.        ,  0.        ,  0.        ,  0.        ,  0.        ,  0.        ,  0.        ],\n",
       "       [ 0.        ,  0.        ,  0.        ,  0.        ,  0.        ,  0.        ,  0.        ,  0.        ,  0.        ],\n",
       "       [ 0.        ,  0.        ,  0.        ,  0.        ,  0.        ,  0.        ,  0.        ,  0.        ,  0.        ],\n",
       "       [ 0.        ,  0.        ,  0.        ,  0.        ,  0.        ,  0.        ,  0.        ,  0.        ,  0.        ],\n",
       "       [ 0.        ,  0.        ,  0.        ,  0.        ,  0.        ,  0.        ,  0.        ,  0.        ,  0.        ],\n",
       "       [ 0.        ,  0.        ,  0.        ,  0.        ,  0.        ,  0.        ,  0.        ,  0.        ,  0.        ],\n",
       "       [ 0.        ,  0.        ,  0.        ,  0.        ,  0.        ,  0.        ,  0.        ,  0.        ,  0.        ],\n",
       "       [ 0.        ,  0.        ,  0.        ,  0.        ,  0.        ,  0.        ,  0.        ,  0.        ,  0.        ],\n",
       "       [ 0.        ,  0.        ,  0.        ,  0.        ,  0.        ,  0.        ,  0.        ,  0.        ,  0.        ],\n",
       "       [ 0.        ,  0.        ,  0.        ,  0.        ,  0.        ,  0.        ,  0.        ,  0.        ,  0.        ],\n",
       "       [ 0.        ,  0.        ,  0.        ,  0.        ,  0.        ,  0.        ,  0.        ,  0.        ,  0.        ],\n",
       "       [ 0.        ,  0.        ,  0.        ,  0.        ,  0.        ,  0.        ,  0.        ,  0.        ,  0.        ],\n",
       "       [ 0.        ,  0.        ,  0.        ,  0.        ,  0.        ,  0.        ,  0.        ,  0.        ,  0.        ],\n",
       "       [ 0.        ,  0.        ,  0.        ,  0.        ,  0.        ,  0.        ,  0.        ,  0.        ,  0.        ],\n",
       "       [ 0.        ,  0.        ,  0.        ,  0.        ,  0.        ,  0.        ,  0.        ,  0.        ,  0.        ],\n",
       "       [ 0.        ,  0.        ,  0.        ,  0.        ,  0.        ,  0.        ,  0.        ,  0.        ,  0.        ],\n",
       "       [ 0.        ,  0.        ,  0.        ,  0.        ,  0.        ,  0.        ,  0.        ,  0.        ,  0.        ],\n",
       "       [ 0.        ,  0.        ,  0.        ,  0.        ,  0.        ,  0.        ,  0.        ,  0.        ,  0.        ],\n",
       "       [ 0.        ,  0.        ,  0.        ,  0.        ,  0.        ,  0.        ,  0.        ,  0.        ,  0.        ],\n",
       "       [ 0.        ,  0.        ,  0.        ,  0.        ,  0.        ,  0.        ,  0.        ,  0.        ,  0.        ],\n",
       "       [ 0.        ,  0.        ,  0.        ,  0.        ,  0.        ,  0.        ,  0.        ,  0.        ,  0.        ],\n",
       "       [ 0.        ,  0.        ,  0.        ,  0.        ,  0.        ,  0.        ,  0.        ,  0.        ,  0.        ],\n",
       "       [ 0.        ,  0.        ,  0.        ,  0.        ,  0.        ,  0.        ,  0.        ,  0.        ,  0.        ],\n",
       "       [ 0.        ,  0.        ,  0.        ,  0.        ,  0.        ,  0.        ,  0.        ,  0.        ,  0.        ],\n",
       "       [ 0.        ,  0.        ,  0.        ,  0.        ,  0.        ,  0.        ,  0.        ,  0.        ,  0.        ]], dtype=float32)"
      ]
     },
     "execution_count": 10,
     "metadata": {},
     "output_type": "execute_result"
    }
   ],
   "source": [
    "cx[0][0, :40]"
   ]
  },
  {
   "cell_type": "markdown",
   "id": "ba1bff52-d516-4e59-adc3-dc6879865197",
   "metadata": {},
   "source": [
    "# DNN"
   ]
  },
  {
   "cell_type": "markdown",
   "id": "98ba3a13-e18c-42b5-a652-e98181cfadef",
   "metadata": {},
   "source": [
    "## Hyperparameters:"
   ]
  },
  {
   "cell_type": "code",
   "execution_count": 11,
   "id": "bb0d9d3a-8089-45e8-8510-d5692a1239f0",
   "metadata": {},
   "outputs": [],
   "source": [
    "N_FEATURES = cx[0].shape[-1]\n",
    "\n",
    "# number of encoder blocks\n",
    "n_blocks = 6 #6\n",
    "num_heads = 5 #4\n",
    "key_dim = int(N_FEATURES/num_heads)\n",
    "use_bias = True\n",
    "upscale_factor = 1 # 2\n",
    "bias_regularizer = None #tf.keras.regularizers.L1(0.01),\n",
    "use_PreLN = True\n",
    "\n",
    "## Encoder dropout in total and per layer\n",
    "encoder_dropout = 0.1\n",
    "\n",
    "# activation function\n",
    "activation = \"gelu\" # \"relu\" \"gelu\" \"selu\" \"swish\"\n",
    "\n",
    "# Learning Rate\n",
    "initial_lr = 10e-3 # 10e-3\n",
    "lr_decay = 0.9995\n",
    "#decay = 0.001\n",
    "\n",
    "\n",
    "# Optimizer\n",
    "#optimizer = keras.optimizers.SGD(learning_rate=initial_lr)\n",
    "optimizer = tf.keras.optimizers.legacy.Adam(learning_rate = initial_lr)"
   ]
  },
  {
   "cell_type": "markdown",
   "id": "682b6560-02e0-45e1-b69a-99978203bb3b",
   "metadata": {},
   "source": [
    "### Losses and Metrics"
   ]
  },
  {
   "cell_type": "code",
   "execution_count": 12,
   "id": "2b025e4a-1aa1-4c27-ae46-57d143ce6a7c",
   "metadata": {},
   "outputs": [
    {
     "name": "stdout",
     "output_type": "stream",
     "text": [
      "Stacks Prevalence: 36.8%\n"
     ]
    }
   ],
   "source": [
    "loss_solved = tf.keras.losses.BinaryFocalCrossentropy(\n",
    "    gamma=2,\n",
    "    alpha = cy[0].mean(),\n",
    "    name='solved_focal_loss'\n",
    ")\n",
    "\n",
    "loss_improvement = tf.keras.losses.BinaryFocalCrossentropy(\n",
    "    gamma=1.5,\n",
    "    alpha = cy[1].mean(),\n",
    "    name='improvement_focal_loss'\n",
    ")\n",
    "\n",
    "loss_area_ratio = tf.keras.losses.BinaryCrossentropy(\n",
    "    name='area_ratio_crossentropy'\n",
    ")\n",
    "\n",
    "\n",
    "\n",
    "loss_stacks = tf.keras.losses.BinaryFocalCrossentropy(\n",
    "    gamma=6,\n",
    "    alpha = cy[-1].mean(),\n",
    "    name='stacks_focal_loss'\n",
    ")\n",
    "\n",
    "for i, target in enumerate(TARGET_LABELS):\n",
    "    print(f\"{target} Prevalence: {cy[i].mean():.1%}\")"
   ]
  },
  {
   "cell_type": "code",
   "execution_count": 13,
   "id": "4b7c4de6-f775-4acb-8ac1-282e8fad9c04",
   "metadata": {},
   "outputs": [],
   "source": [
    "target_loss_objects = {\n",
    "    \"Solved\": loss_solved,\n",
    "    \"Improvement\": loss_improvement,\n",
    "    \"AreaRatio\": loss_area_ratio,\n",
    "    \"Stacks\": loss_stacks,\n",
    "}\n",
    "\n",
    "loss_objects = [target_loss_objects[target] for target in TARGET_LABELS]\n",
    "mean_losses = [tf.keras.metrics.Mean(name=target) for target in TARGET_LABELS]"
   ]
  },
  {
   "cell_type": "code",
   "execution_count": 14,
   "id": "b57a5050-d077-4ebc-a967-4479557af2eb",
   "metadata": {},
   "outputs": [],
   "source": [
    "all_target_metrics: list[list[tf.keras.metrics]] = {\n",
    "    \"Solved\": [\n",
    "        tf.keras.metrics.Precision(name = \"PRC\"),\n",
    "        tf.keras.metrics.Recall(name = \"SNS\"),\n",
    "        tf.keras.metrics.AUC(curve='PR', name=\"AUC\"),\n",
    "        tf.keras.metrics.BinaryAccuracy(name = \"ACC\")\n",
    "    ],\n",
    "    \"Improvement\": [\n",
    "        tf.keras.metrics.Precision(name = \"PRC\"),\n",
    "        tf.keras.metrics.Recall(name = \"SNS\"),\n",
    "        tf.keras.metrics.AUC(curve='PR', name=\"AUC\"),\n",
    "        tf.keras.metrics.BinaryAccuracy(name = \"ACC\")\n",
    "    ],\n",
    "    \"AreaRatio\": [\n",
    "        keras.metrics.RootMeanSquaredError(name=\"RMSE\"),\n",
    "        keras.metrics.MeanAbsoluteError(name=\"MAE\")\n",
    "    ],\n",
    "    \"Stacks\": [\n",
    "        tf.keras.metrics.Precision(name = \"PRC\"),\n",
    "        tf.keras.metrics.Recall(name = \"SNS\"),\n",
    "        tf.keras.metrics.AUC(curve='PR', name=\"AUC\"),\n",
    "        tf.keras.metrics.BinaryAccuracy(name = \"ACC\")\n",
    "    ],\n",
    "}\n",
    "\n",
    "all_metrics = [all_target_metrics[target] for target in TARGET_LABELS]"
   ]
  },
  {
   "cell_type": "markdown",
   "id": "b2172818-ab30-45a6-a332-0062ac6574e7",
   "metadata": {},
   "source": [
    "## Architecture"
   ]
  },
  {
   "cell_type": "code",
   "execution_count": 15,
   "id": "8b3f6f99-9f5c-4a06-98d8-a9b1b199fa2f",
   "metadata": {},
   "outputs": [],
   "source": [
    "from tensorflow.keras.layers import Masking, BatchNormalization, MultiHeadAttention, LayerNormalization, Dropout\n",
    "from tensorflow.keras.layers import Add, Dense, Input, Reshape, Permute, Lambda, Concatenate\n",
    "from keras import backend as K\n",
    "from tensorflow.keras import Model\n",
    "\n",
    "from utils.DNN.model_layers import TransformerEncoder\n",
    "\n",
    "# build a model using the functional API:\n",
    "\n",
    "# Input\n",
    "input_stack_level = Input(shape=(PAD_SIZE, N_FEATURES), name=\"StackLevelInputFeatures\")\n",
    "input_time_limit = Input(shape=(1), name=\"TimeLimitInput\")\n",
    "inputs = [input_stack_level, input_time_limit]\n",
    "\n",
    "\n",
    "# Masking padded input\n",
    "masking_layer = Masking(\n",
    "    mask_value=0,\n",
    "    input_shape=(PAD_SIZE, N_FEATURES),\n",
    "    dtype=tf.float16,\n",
    "    name=\"MaskingLayer\"\n",
    ")\n",
    "x = masking_layer(input_stack_level)\n",
    "\n",
    "#batch_norm_layer = BatchNormalization(name=\"BatchNormalizationLayer\")\n",
    "#x = batch_norm_layer(masking_layer)\n",
    "\n",
    "\n",
    "# Encoder Block\n",
    "for i in range(1, n_blocks+1):\n",
    "    # Self attention with add and layer norm\n",
    "    self_attention_layer = TransformerEncoder(\n",
    "        num_heads=num_heads, key_dim=key_dim,\n",
    "        activation=activation,\n",
    "        units = N_FEATURES,\n",
    "        upscale_factor=upscale_factor,\n",
    "        dropout=encoder_dropout,\n",
    "        use_bias=use_bias,\n",
    "        use_PreLN=use_PreLN,\n",
    "        bias_regularizer=bias_regularizer,\n",
    "        idx = i,\n",
    "    )\n",
    "    x, _ = self_attention_layer(x)\n",
    "\n",
    "final_layer_norm = LayerNormalization(name=\"FinalLayerNorm\")\n",
    "x = final_layer_norm(x)\n",
    "\n",
    "\n",
    "#self_attention_layer_solved = TransformerEncoder(\n",
    "#    num_heads=num_heads, key_dim=key_dim,\n",
    "#    activation=activation,\n",
    "#    units = N_FEATURES,\n",
    "#    upscale_factor=upscale_factor,\n",
    "#    dropout=encoder_dropout,\n",
    "#    use_bias=use_bias,\n",
    "#    use_PreLN=use_PreLN,\n",
    "#    bias_regularizer=bias_regularizer,\n",
    "#    idx=\"Solved\"\n",
    "#)\n",
    "#attention_solved, _ = self_attention_layer_solved(x)\n",
    "#attention_solved = final_layer_norm(attention_solved)\n",
    "\n",
    "#self_attention_layer_improvement = TransformerEncoder(\n",
    "#    num_heads=num_heads, key_dim=key_dim,\n",
    "#    activation=activation,\n",
    "#    units = N_FEATURES,\n",
    "#    upscale_factor=upscale_factor,\n",
    "#    dropout=encoder_dropout,\n",
    "#    use_bias=use_bias,\n",
    "#    use_PreLN=use_PreLN,\n",
    "#    bias_regularizer=bias_regularizer,\n",
    "#    idx=\"Improvement\",\n",
    "#)\n",
    "#attention_improvement, _ = self_attention_layer_improvement(x)\n",
    "#attention_improvement = final_layer_norm(attention_improvement)\n",
    "\n",
    "\n",
    "\n",
    "\n",
    "# After Attention, reduce to single dimension\n",
    "add_across_dim = Lambda(\n",
    "    lambda x: K.sum(x, axis=1)/PAD_SIZE**1,\n",
    "    output_shape=lambda s: (s[0], s[2]),\n",
    "    name = \"ReduceStackDimensionViaSummation\"\n",
    ")\n",
    "\n",
    "#attention_solved = add_across_dim(attention_solved)\n",
    "#attention_improvement = add_across_dim(attention_improvement)\n",
    "\n",
    "\n",
    "\n",
    "reshape = Lambda(lambda x: tf.squeeze(x), name=\"Output\")\n",
    "\n",
    "# Pipe Attention directly into missing stack prediction:\n",
    "\n",
    "output_stacks = Dense(1, activation='sigmoid', name = \"PredictionStacks\")\n",
    "xx = output_stacks(x)\n",
    "output_stacks = reshape(xx)\n",
    "\n",
    "\n",
    "\n",
    "# Standardize the Time Limit\n",
    "# - The time limit ranges from 0 to 30,\n",
    "# - (tl - 15)/5 should roughly normalize\n",
    "\n",
    "normalize_time_limit = Lambda(\n",
    "    lambda x: (x-15)/5,\n",
    "    name = \"StandardizeTimeLimit\"\n",
    ")\n",
    "input_time_limit = normalize_time_limit(input_time_limit)\n",
    "concatenate_layer = Concatenate(axis=-1, name=f\"ConcatenateLayer\")\n",
    "#x = concatenate_layer([x, input_time_limit])\n",
    "\n",
    "\n",
    "\n",
    "\n",
    "\n",
    "x = add_across_dim(x)\n",
    "\n",
    "\n",
    "xx = concatenate_layer([x, input_time_limit])\n",
    "#xx = concatenate_layer([attention_solved, input_time_limit])\n",
    "fully_connected_layer_solved = Dense(units=N_FEATURES+1, activation=activation,name=f\"FullyConnectedLayerSolved\")\n",
    "xx = fully_connected_layer_solved(xx)\n",
    "output_solved = Dense(1, activation='sigmoid', name = \"PredictionSolved\")\n",
    "xx = output_solved(xx)\n",
    "output_solved = reshape(xx)\n",
    "\n",
    "\n",
    "xx = concatenate_layer([x, input_time_limit])\n",
    "#xx = concatenate_layer([attention_improvement, input_time_limit])\n",
    "fully_connected_layer_improvement = Dense(units=N_FEATURES+1, activation=activation,name=f\"FullyConnectedLayerImprovement\")\n",
    "xx = fully_connected_layer_improvement(xx)\n",
    "output_improvement = Dense(1, activation='sigmoid', name = \"PredictionImprovement\")\n",
    "xx = output_improvement(xx)\n",
    "output_improvement = reshape(xx)\n",
    "\n",
    "xx = concatenate_layer([x, input_time_limit])\n",
    "#xx = concatenate_layer([attention_improvement, input_time_limit])\n",
    "fully_connected_layer_area_ratio = Dense(units=N_FEATURES+1, activation=activation,name=f\"FullyConnectedLayerAreaRatio\")\n",
    "xx = fully_connected_layer_area_ratio(xx)\n",
    "output_area_ratio = Dense(1, activation='sigmoid', name = \"PredictionAreaRatio\")\n",
    "xx = output_area_ratio(xx)\n",
    "output_area_ratio = reshape(xx)\n",
    "\n",
    "\n",
    "\n",
    "\n",
    "target_outputs = {\n",
    "    \"Solved\": output_solved,\n",
    "    \"Improvement\": output_improvement,\n",
    "    \"AreaRatio\": output_area_ratio,\n",
    "    \"Stacks\": output_stacks\n",
    "}\n",
    "\n",
    "outputs = [target_outputs[target] for target in TARGET_LABELS]\n",
    "\n",
    "\n",
    "model = Model(\n",
    "    inputs=inputs,\n",
    "    outputs=outputs,\n",
    ")"
   ]
  },
  {
   "cell_type": "markdown",
   "id": "ecbff812-25bb-4ea0-a14a-048cbc6da1ea",
   "metadata": {
    "jp-MarkdownHeadingCollapsed": true
   },
   "source": [
    "### Model Architecture Inspection:"
   ]
  },
  {
   "cell_type": "code",
   "execution_count": 16,
   "id": "c1c0313b-3fe0-498b-925f-3547fcd860af",
   "metadata": {},
   "outputs": [
    {
     "name": "stdout",
     "output_type": "stream",
     "text": [
      "Model: \"model\"\n",
      "__________________________________________________________________________________________________\n",
      " Layer (type)                Output Shape                 Param #   Connected to                  \n",
      "==================================================================================================\n",
      " StackLevelInputFeatures (I  [(None, 80, 9)]              0         []                            \n",
      " nputLayer)                                                                                       \n",
      "                                                                                                  \n",
      " MaskingLayer (Masking)      (None, 80, 9)                0         ['StackLevelInputFeatures[0][0\n",
      "                                                                    ]']                           \n",
      "                                                                                                  \n",
      " transformer_encoder (Trans  ((None, 80, 9),              420       ['MaskingLayer[0][0]']        \n",
      " formerEncoder)               (None, 5, 80, 80))                                                  \n",
      "                                                                                                  \n",
      " transformer_encoder_1 (Tra  ((None, 80, 9),              420       ['transformer_encoder[0][0]'] \n",
      " nsformerEncoder)             (None, 5, 80, 80))                                                  \n",
      "                                                                                                  \n",
      " transformer_encoder_2 (Tra  ((None, 80, 9),              420       ['transformer_encoder_1[0][0]'\n",
      " nsformerEncoder)             (None, 5, 80, 80))                    ]                             \n",
      "                                                                                                  \n",
      " transformer_encoder_3 (Tra  ((None, 80, 9),              420       ['transformer_encoder_2[0][0]'\n",
      " nsformerEncoder)             (None, 5, 80, 80))                    ]                             \n",
      "                                                                                                  \n",
      " transformer_encoder_4 (Tra  ((None, 80, 9),              420       ['transformer_encoder_3[0][0]'\n",
      " nsformerEncoder)             (None, 5, 80, 80))                    ]                             \n",
      "                                                                                                  \n",
      " transformer_encoder_5 (Tra  ((None, 80, 9),              420       ['transformer_encoder_4[0][0]'\n",
      " nsformerEncoder)             (None, 5, 80, 80))                    ]                             \n",
      "                                                                                                  \n",
      " FinalLayerNorm (LayerNorma  (None, 80, 9)                18        ['transformer_encoder_5[0][0]'\n",
      " lization)                                                          ]                             \n",
      "                                                                                                  \n",
      " PredictionStacks (Dense)    (None, 80, 1)                10        ['FinalLayerNorm[0][0]']      \n",
      "                                                                                                  \n",
      " TimeLimitInput (InputLayer  [(None, 1)]                  0         []                            \n",
      " )                                                                                                \n",
      "                                                                                                  \n",
      " Output (Lambda)             None                         0         ['PredictionStacks[0][0]']    \n",
      "                                                                                                  \n",
      "==================================================================================================\n",
      "Total params: 2548 (9.95 KB)\n",
      "Trainable params: 2548 (9.95 KB)\n",
      "Non-trainable params: 0 (0.00 Byte)\n",
      "__________________________________________________________________________________________________\n"
     ]
    }
   ],
   "source": [
    "_ = model(cx) # just check if it works\n",
    "model.summary()"
   ]
  },
  {
   "cell_type": "code",
   "execution_count": 17,
   "id": "cf228a55-a71a-42ac-bf9c-8df8bc258ac2",
   "metadata": {},
   "outputs": [
    {
     "data": {
      "image/png": "[encoded data removed]",
      "text/plain": [
       "<IPython.core.display.Image object>"
      ]
     },
     "execution_count": 17,
     "metadata": {},
     "output_type": "execute_result"
    }
   ],
   "source": [
    "tf.keras.utils.plot_model(\n",
    "    model,\n",
    "    #to_file,\n",
    "    show_shapes=True\n",
    ")"
   ]
  },
  {
   "cell_type": "markdown",
   "id": "47dfadaf-029c-49d3-81f3-664967ff38b2",
   "metadata": {
    "jp-MarkdownHeadingCollapsed": true
   },
   "source": [
    "## Training Process Functions"
   ]
  },
  {
   "cell_type": "code",
   "execution_count": 18,
   "id": "1911b3da-221c-4414-9358-7fee5a42a3e2",
   "metadata": {},
   "outputs": [],
   "source": [
    "def geometric_decay(epoch: int, initial_lr:float=10e-3, lr_decay:float=0.9) -> float:\n",
    "    \"\"\"\n",
    "    Exponential decay learning rate schedule\n",
    "    \"\"\"\n",
    "    return initial_lr * lr_decay**epoch\n",
    "\n",
    "#xx = np.arange(5000)\n",
    "#yy = geometric_decay(xx, lr_decay=0.9995)\n",
    "#plt.plot(xx, yy);"
   ]
  },
  {
   "cell_type": "code",
   "execution_count": 19,
   "id": "bf804408-85ea-4824-8a74-fb9feb1807f3",
   "metadata": {},
   "outputs": [],
   "source": [
    "def print_status_bar(iteration, total, losses, all_metrics=None, training:bool=True):\n",
    "    tabs = \"\\t\\t\\t\\t\\t\\t\\t\\t\\t\\t\\t\\t\\t\\t\"\n",
    "    metrics = tabs.join([\n",
    "        f\"{TARGET_LABELS[i]:<12}\\tLoss: {losses[i].result():.4f}\" +\n",
    "        \"\\t\".join([\n",
    "            f\"{m.name:>10}: {m.result():.2%}\"\n",
    "            if m.name not in [\"MAE\", \"RMSE\"]\n",
    "            else f\"{m.name:>10}: {m.result():.4f}\"\n",
    "            for m in metrics\n",
    "        ])\n",
    "        for i, metrics in enumerate(all_metrics)\n",
    "    ])\n",
    "    \n",
    "    if training:\n",
    "        prefix=\"Training\"\n",
    "    else:\n",
    "        prefix=\"Validation\"\n",
    "    \n",
    "    print(f\"\\r{prefix}-Iteration: {iteration+1:0>3}/{total:<3}\\tLR: {float(optimizer.lr):<1000.9f}\" + metrics,\n",
    "          end=\"\")\n"
   ]
  },
  {
   "cell_type": "code",
   "execution_count": 20,
   "id": "71f44dd2-a301-4c37-919b-5a93fbe6c531",
   "metadata": {},
   "outputs": [],
   "source": [
    "@tf.function\n",
    "def model_pass(inputs, targets, training):\n",
    "    \"\"\"\n",
    "    Usual Tensorflow model passing of inputs throught the network.\n",
    "    If in training mode, the optimizier can apply the gradients\n",
    "    observed with GradientTape to the model parameters\n",
    "    \"\"\"\n",
    "    \n",
    "    with tf.GradientTape() as tape:\n",
    "        \n",
    "        outputs = model(inputs, training=training)\n",
    "\n",
    "        # Single output is not a list!\n",
    "        if type(outputs) != list:\n",
    "            outputs = [outputs]\n",
    "            \n",
    "        losses = [l(t, o) for l,o,t in zip(loss_objects, outputs, targets)]\n",
    "        \n",
    "        if training:\n",
    "            gradients = tape.gradient(losses, model.trainable_variables)\n",
    "            optimizer.apply_gradients(zip(gradients, model.trainable_variables))\n",
    "            \n",
    "        for i, mean_loss in enumerate(mean_losses):\n",
    "            mean_loss(losses)\n",
    "        \n",
    "    return outputs\n"
   ]
  },
  {
   "cell_type": "code",
   "execution_count": 21,
   "id": "555d2a8e-ff78-42a9-871c-fabbc1da5929",
   "metadata": {},
   "outputs": [],
   "source": [
    "def run_epoch(dataset, all_metrics:list[list[tf.keras.metrics]],\n",
    "              epoch:int, history:pd.DataFrame, training:bool=True,\n",
    "              shuffle:bool=True):\n",
    "    \"\"\"\n",
    "    Single epoch, running several training steps over a dataset\n",
    "    \"\"\"\n",
    "\n",
    "    for step, X_batch in enumerate(dataset):\n",
    "        \n",
    "        X_batch, y_batch = input_output_generation(\n",
    "            X_batch,\n",
    "            items=items,\n",
    "            truck_stops=truck_stops,\n",
    "            truck_dims=truck_dims,\n",
    "            target_labels=TARGET_LABELS,\n",
    "            shuffle=shuffle,\n",
    "            pad_size=PAD_SIZE\n",
    "        )\n",
    "        \n",
    "        outputs = model_pass(X_batch, y_batch, training=training)\n",
    "        \n",
    "        for i, metrics in enumerate(all_metrics):\n",
    "            for metric in metrics:\n",
    "                metric(y_batch[i].reshape(-1), outputs[i].numpy().reshape(-1))\n",
    "    \n",
    "        print_status_bar(step, len(dataset), mean_losses, all_metrics, training=training)\n",
    "    \n",
    "        #### LEARNING RATE UPDATE ####\n",
    "        if training:\n",
    "            optimizer.lr = geometric_decay((epoch-1)*len(dataset)+step, initial_lr, lr_decay)\n",
    "    \n",
    "    print(\"\\n\")\n",
    "\n",
    "    #### UPDATE METRICS\n",
    "    for i, metrics in enumerate(all_metrics):\n",
    "        for metric in metrics:\n",
    "            data = pd.DataFrame({\n",
    "                \"Epoch\": [epoch],\n",
    "                \"Target\": [TARGET_LABELS[i]],\n",
    "                \"Metric\": [metric.name if training else f\"Val-\"+metric.name],\n",
    "                \"Value\": [float(metric.result())],\n",
    "            })\n",
    "            history = pd.concat([history, data])\n",
    "            metric.reset_states()\n",
    "\n",
    "    for i, mean_loss in enumerate(mean_losses):\n",
    "        data = pd.DataFrame({\n",
    "            \"Epoch\": [epoch],\n",
    "            \"Target\": [TARGET_LABELS[i]],\n",
    "            \"Metric\": [\"Loss\" if training else f\"Val-\"+\"Loss\"],\n",
    "            \"Value\": [float(mean_loss.result())],\n",
    "        })\n",
    "        history = pd.concat([history, data])\n",
    "        mean_loss.reset_states()\n",
    "            \n",
    "    return history"
   ]
  },
  {
   "cell_type": "markdown",
   "id": "228ef915-1e01-42dd-b423-71593e828fcf",
   "metadata": {},
   "source": [
    "## Model Training"
   ]
  },
  {
   "cell_type": "code",
   "execution_count": 22,
   "id": "a8175650-b296-4222-b028-ecb715c458c0",
   "metadata": {},
   "outputs": [],
   "source": [
    "clms = [\"Epoch\", \"Target\", \"Metric\", \"Value\"]\n",
    "track = pd.DataFrame(columns = clms)"
   ]
  },
  {
   "cell_type": "code",
   "execution_count": null,
   "id": "464563b0-8ebe-4448-9105-a25ed5e36383",
   "metadata": {},
   "outputs": [
    {
     "name": "stdout",
     "output_type": "stream",
     "text": [
      "Epoch 001/003\n"
     ]
    },
    {
     "name": "stderr",
     "output_type": "stream",
     "text": [
      "2023-12-13 16:49:05.708906: I tensorflow/core/grappler/optimizers/custom_graph_optimizer_registry.cc:117] Plugin optimizer for device_type GPU is enabled.\n"
     ]
    },
    {
     "name": "stdout",
     "output_type": "stream",
     "text": [
      "Training-Iteration: 015/177\tLR: 0.009935195                                                                                                                                                                                                                                                                                                                                                                                                                                                                                                                                                                                                                                                                                                                                                                                                                                                                                                                                                                                                                             Stacks      \tLoss: 0.0348       PRC: 1.01%\t       SNS: 6.20%\t       AUC: 1.28%\t       ACC: 88.36%%"
     ]
    }
   ],
   "source": [
    "n_epochs = 3\n",
    "\n",
    "for epoch in range(1, n_epochs + 1):\n",
    "    \n",
    "    print(f\"Epoch {epoch:0>3}/{ n_epochs:0>3}\")\n",
    "\n",
    "    track = run_epoch(train_dataset, all_metrics, epoch=epoch, history=track, training=True, shuffle=True)\n",
    "    track = run_epoch(val_dataset, all_metrics, epoch=epoch, history=track, training=False, shuffle=True)\n",
    "\n",
    "    # make an intermediate save of the model\n",
    "    model_path = os.path.join(cwd, \"models\", \"01_Multitask\", f\"Improvement-MODEL-{epoch}.tf\")\n",
    "    model.save(model_path, overwrite=True, save_format=\"tf\")\n",
    "\n",
    "    print(\"-\"*120)"
   ]
  },
  {
   "cell_type": "code",
   "execution_count": null,
   "id": "7c961887-1831-43e7-98a7-51b71bf3bc92",
   "metadata": {},
   "outputs": [],
   "source": [
    "history = track\\\n",
    "    .pivot_table(\n",
    "        values = [\"Value\"],\n",
    "        columns=[\"Metric\"],\n",
    "        index=[\"Epoch\", \"Target\"]\n",
    "    )\\\n",
    "    .reset_index()\\\n",
    "    .set_index(\"Epoch\", drop=True)\n",
    "\n",
    "clms = history.columns\n",
    "history.columns = [clm[i>=1] for i, clm in enumerate(clms)]\n",
    "history"
   ]
  },
  {
   "cell_type": "code",
   "execution_count": null,
   "id": "19eb1501-21f7-4ef2-96a7-af4205bf0d81",
   "metadata": {},
   "outputs": [],
   "source": [
    "clms = history.columns\n",
    "\n",
    "fig, ax = plt.subplots(len(TARGET_LABELS), 2, figsize=(16, 9*len(TARGET_LABELS)))\n",
    "\n",
    "colors = [\"cyan\", \"orange\", \"blue\", \"forestgreen\", \"red\", \"purple\"]\n",
    "\n",
    "for i, target in enumerate(TARGET_LABELS):\n",
    "    history.loc[(history.Target == target), (~clms.str.contains(\"Val-\"))&(~clms.str.contains(\"Loss\"))]\\\n",
    "        .plot(ax=ax[i, 0], ls = \"--\", color = colors, label = \"Training\")\n",
    "    history.loc[(history.Target == target), (clms.str.contains(\"Val-\"))&(~clms.str.contains(\"Loss\"))]\\\n",
    "        .plot(ax=ax[i, 0], lw = 3, color = colors, label = \"Validation\")\n",
    "    ax[i, 0].set(ylabel = target)\n",
    "\n",
    "    # Plot the loss\n",
    "    history.loc[(history.Target == target), (~clms.str.contains(\"Val-\"))&(clms.str.contains(\"Loss\"))]\\\n",
    "        .plot(ax=ax[i, 1], ls = \"--\", color = \"red\", label = \"Training\")\n",
    "    history.loc[(history.Target == target), (clms.str.contains(\"Val-\"))&(clms.str.contains(\"Loss\"))]\\\n",
    "        .plot(ax=ax[i, 1], lw = 3, color = \"red\", label = \"Validation\")\n",
    "    ax[i, 1].set(yscale = \"log\")\n",
    "\n",
    "ax[0, 0].set(title=\"Metrics\")\n",
    "ax[0, 1].set(title=\"Loss\");\n"
   ]
  },
  {
   "cell_type": "markdown",
   "id": "ebcb1d76-f599-4e84-97b5-2c0c76f86adf",
   "metadata": {},
   "source": [
    "Tradeoff between Sensitivity and Precision can be seen very good here.\n",
    "Most likely explanation:\n",
    "- the bias of the final layer before the sigmoid has changed drastically.\n",
    "- if the bias increases, predicted probabilities increase. This means more found solved cases and higher Sensitivity\n",
    "- if the bias decreases, predicted probabilities decrease. This means less found solved cases, only the more certain cases. Higher Precision"
   ]
  },
  {
   "cell_type": "markdown",
   "id": "b808e5f5-47fc-49e1-b1b7-7ad7a4e7a3f8",
   "metadata": {
    "jp-MarkdownHeadingCollapsed": true
   },
   "source": [
    "### Visualize Attention Scores:"
   ]
  },
  {
   "cell_type": "code",
   "execution_count": null,
   "id": "1f185a32-7dcb-42fc-9a63-1d90aac13633",
   "metadata": {},
   "outputs": [],
   "source": [
    "from utils.DNN.utils import get_attention_scores\n",
    "\n",
    "attention = get_attention_scores(model, model_inputs=cx, layer_name=\"transformer_encoder_15\")\n",
    "attention.shape\n",
    "#cx[0][24].round(2)[:40]"
   ]
  },
  {
   "cell_type": "code",
   "execution_count": null,
   "id": "377285ec-90de-4f20-8823-ca2b52c1d01f",
   "metadata": {},
   "outputs": [],
   "source": [
    "instance, head = 24, 3 # 18: 36 # 24 is a very simple but good example\n",
    "\n",
    "attention_matrix = attention[instance, head, :, :]\n",
    "\n",
    "# truncate:\n",
    "n_inputs = np.argmax(np.all(cx[0][instance].round(2) == 0, axis=1))\n",
    "attention_matrix = attention_matrix[:n_inputs, :n_inputs]\n",
    "\n",
    "plt.figure(figsize=(12, 12))\n",
    "sns.heatmap(attention_matrix.T,\n",
    "            square=True,\n",
    "            #vmin=0, vmax=1\n",
    "           );"
   ]
  },
  {
   "cell_type": "code",
   "execution_count": null,
   "id": "6b68e4b5-2601-433d-9910-212c9dbee80f",
   "metadata": {},
   "outputs": [],
   "source": [
    "instances = [28, 24, 25, 26]\n",
    "heads = list(range(num_heads))\n",
    "\n",
    "fig, ax = plt.subplots(len(instances), num_heads, figsize=(16, len(instances)*5))\n",
    "\n",
    "for i, instance in enumerate(instances):\n",
    "    for h, head in enumerate(heads):\n",
    "\n",
    "        # Truncate\n",
    "        attention_matrix = attention[instance, head, :, :]\n",
    "        n_inputs = np.argmax(np.all(cx[0][instance].round(2) == 0, axis=1))\n",
    "        attention_matrix = attention_matrix[:n_inputs, :n_inputs]\n",
    "        \n",
    "        sns.heatmap(\n",
    "            attention_matrix.T,\n",
    "            square=True,\n",
    "            cbar=False,\n",
    "            #vmin=0, vmax=0.1,\n",
    "            ax=ax[i, h]\n",
    "        );"
   ]
  },
  {
   "cell_type": "markdown",
   "id": "63e0a478-caf6-4a26-a06f-5b0507c62ceb",
   "metadata": {},
   "source": [
    "# Load the model to see if it works"
   ]
  },
  {
   "cell_type": "code",
   "execution_count": null,
   "id": "b0150bde-1688-4a1d-822b-12088e32045e",
   "metadata": {},
   "outputs": [],
   "source": [
    "model_path = os.path.join(cwd, \"models\", f\"EncoderUpdate-20.tf\")\n",
    "\n",
    "loaded_model = tf.keras.models.load_model(model_path)\n",
    "y_pred = loaded_model(cx);"
   ]
  },
  {
   "cell_type": "code",
   "execution_count": null,
   "id": "a5fd136e-0080-4029-93fa-0b59d98db727",
   "metadata": {},
   "outputs": [],
   "source": [
    "pred_df = data=pd.DataFrame([y_pred[1].numpy(), cy[1]]).T\n",
    "pred_df.columns = [\"prediction\", \"improvement\"]\n",
    "\n",
    "sns.histplot(\n",
    "    data=pred_df,\n",
    "    x=\"prediction\",\n",
    "    hue=\"improvement\",\n",
    "    bins=np.arange(0, 1, 0.02)\n",
    ");"
   ]
  },
  {
   "cell_type": "code",
   "execution_count": null,
   "id": "3519120a-8b78-49df-8403-88d108a56831",
   "metadata": {},
   "outputs": [],
   "source": [
    "test_dataset = keras.preprocessing.text_dataset_from_directory(\n",
    "    directory = test_samples,\n",
    "    labels = None,\n",
    "    batch_size = BATCH_SIZE,\n",
    "    max_length = None,\n",
    "    shuffle = True,\n",
    "    seed = SEED,\n",
    ")"
   ]
  },
  {
   "cell_type": "code",
   "execution_count": null,
   "id": "3a7b1039-2be9-42c4-8dcb-d0f6651c9c37",
   "metadata": {},
   "outputs": [],
   "source": [
    "run_epoch(test_dataset, all_metrics, epoch=epoch, history=track, training=False, shuffle=True)"
   ]
  }
 ],
 "metadata": {
  "kernelspec": {
   "display_name": "Python 3 (ipykernel)",
   "language": "python",
   "name": "python3"
  },
  "language_info": {
   "codemirror_mode": {
    "name": "ipython",
    "version": 3
   },
   "file_extension": ".py",
   "mimetype": "text/x-python",
   "name": "python",
   "nbconvert_exporter": "python",
   "pygments_lexer": "ipython3",
   "version": "3.11.4"
  }
 },
 "nbformat": 4,
 "nbformat_minor": 5
}
