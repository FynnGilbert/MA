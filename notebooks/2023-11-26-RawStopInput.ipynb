{
 "cells": [
  {
   "cell_type": "code",
   "execution_count": 1,
   "id": "51595832-52a2-4469-8aee-61428a86c0fe",
   "metadata": {},
   "outputs": [],
   "source": [
    "BATCH_SIZE = 1024\n",
    "#BATCH_SIZE = 2048\n",
    "#BATCH_SIZE = 512\n",
    "PAD_SIZE = 80\n",
    "TARGET_LABELS = [\n",
    "    \"Solved\",\n",
    "    \"Improvement\",\n",
    "    #\"Improvements\",\n",
    "    #\"AreaRatio\",\n",
    "    #\"FirstUpdate\",\n",
    "    \"Stacks\"\n",
    "]\n",
    "\n",
    "SEED = 3093453"
   ]
  },
  {
   "cell_type": "markdown",
   "id": "4e6016c6-543d-4ede-b6dd-2a4870f324d6",
   "metadata": {},
   "source": [
    "# Preprocessing"
   ]
  },
  {
   "cell_type": "markdown",
   "id": "053d07e7-6859-4737-9c4b-91eba870632b",
   "metadata": {
    "jp-MarkdownHeadingCollapsed": true
   },
   "source": [
    "## Load Packages and Data"
   ]
  },
  {
   "cell_type": "code",
   "execution_count": 2,
   "id": "67cdfc5c-074f-4f7f-9f9d-39d47b43a1c0",
   "metadata": {},
   "outputs": [],
   "source": [
    "import os\n",
    "import sys\n",
    "\n",
    "import numpy as np\n",
    "import pandas as pd\n",
    "import polars as pl\n",
    "\n",
    "import tensorflow as tf\n",
    "from tensorflow import keras\n",
    "\n",
    "import matplotlib.pyplot as plt\n",
    "import seaborn as sns\n",
    "\n",
    "sys.path.append(\"..\")\n",
    "\n",
    "np.set_printoptions(edgeitems=15, suppress=True)\n",
    "np.core.arrayprint._line_width = 250\n",
    "\n",
    "np.random.seed(SEED)\n",
    "tf.random.set_seed(SEED)\n",
    "\n",
    "sns.set(\n",
    "    context=\"talk\",\n",
    "    style=\"darkgrid\"\n",
    ")"
   ]
  },
  {
   "cell_type": "code",
   "execution_count": 3,
   "id": "52e0e78e-ece4-4159-aa86-3cd0d407c31f",
   "metadata": {},
   "outputs": [
    {
     "data": {
      "text/plain": [
       "'/Users/fynn/Uni/MA'"
      ]
     },
     "execution_count": 3,
     "metadata": {},
     "output_type": "execute_result"
    }
   ],
   "source": [
    "cwd = os.getcwd()\n",
    "cwd, _ = os.path.split(cwd)\n",
    "cwd"
   ]
  },
  {
   "cell_type": "code",
   "execution_count": 4,
   "id": "ed6f3329-37c6-4683-ad68-5725ed932f53",
   "metadata": {},
   "outputs": [
    {
     "name": "stdout",
     "output_type": "stream",
     "text": [
      "Found 710800 files belonging to 2 classes.\n",
      "Using 639720 files for training.\n"
     ]
    },
    {
     "name": "stderr",
     "output_type": "stream",
     "text": [
      "2023-11-27 08:38:17.448591: I metal_plugin/src/device/metal_device.cc:1154] Metal device set to: Apple M1 Pro\n",
      "2023-11-27 08:38:17.448635: I metal_plugin/src/device/metal_device.cc:296] systemMemory: 16.00 GB\n",
      "2023-11-27 08:38:17.448642: I metal_plugin/src/device/metal_device.cc:313] maxCacheSize: 5.33 GB\n",
      "2023-11-27 08:38:17.448740: I tensorflow/core/common_runtime/pluggable_device/pluggable_device_factory.cc:306] Could not identify NUMA node of platform GPU ID 0, defaulting to 0. Your kernel may not have been built with NUMA support.\n",
      "2023-11-27 08:38:17.448758: I tensorflow/core/common_runtime/pluggable_device/pluggable_device_factory.cc:272] Created TensorFlow device (/job:localhost/replica:0/task:0/device:GPU:0 with 0 MB memory) -> physical PluggableDevice (device: 0, name: METAL, pci bus id: <undefined>)\n"
     ]
    },
    {
     "name": "stdout",
     "output_type": "stream",
     "text": [
      "Found 710800 files belonging to 2 classes.\n",
      "Using 71080 files for validation.\n"
     ]
    }
   ],
   "source": [
    "samples = os.path.join(cwd, \"data\", \"2D\", \"MIP\")\n",
    "class_names = [\"interrupted\", \"solved\"]\n",
    "\n",
    "train_dataset = keras.preprocessing.text_dataset_from_directory(\n",
    "    directory = samples,\n",
    "    labels = \"inferred\",\n",
    "    label_mode = \"binary\",\n",
    "    class_names = class_names,\n",
    "    batch_size = BATCH_SIZE,\n",
    "    max_length = None,\n",
    "    shuffle = True,\n",
    "    seed = SEED,\n",
    "    validation_split = 0.1,\n",
    "    subset = \"training\",\n",
    "    follow_links = False\n",
    ")\n",
    "\n",
    "val_dataset = keras.preprocessing.text_dataset_from_directory(\n",
    "    directory = samples,\n",
    "    labels = \"inferred\",\n",
    "    label_mode = \"binary\",\n",
    "    class_names = class_names,\n",
    "    batch_size = BATCH_SIZE,\n",
    "    max_length = None,\n",
    "    shuffle = True,\n",
    "    seed = SEED,\n",
    "    validation_split = 0.1,\n",
    "    subset = \"validation\",\n",
    "    follow_links = False\n",
    ")\n",
    "\n",
    "class_names = np.array(class_names)"
   ]
  },
  {
   "cell_type": "code",
   "execution_count": 5,
   "id": "e67b7b15-cae4-480d-807b-11a180484459",
   "metadata": {},
   "outputs": [
    {
     "name": "stdout",
     "output_type": "stream",
     "text": [
      "dataset: C\n",
      "instance: SA2\n",
      "+-----------+\n",
      "2D Packing MIP with Time Limit 15 [s] in Truck P096224209\n",
      "Stack 0 with items: ['0090017100_28022023016116']\n",
      "Stack 1 with items: ['0090017100_28022023001003']\n",
      "Stack 2 with items: ['0090017100_28022023023052', '0090017100_28022023013670']\n",
      "Stack 3 with items: ['0090017100_28022023010325', '0090017100_28022023010325']\n",
      "Stack 4 with items: ['0090017100_28022023010325', '0090017100_28022023010325']\n",
      "Stack 5 with items: ['0090017100_28022023010325', '0090017100_28022023010325']\n",
      "Stack 6 with items: ['0090017100_28022023010325', '0090017100_28022023010325']\n",
      "Stack 7 with items: ['0090017100_28022023010325', '0090017100_28022023010325']\n",
      "Stack 8 with items: ['0090017100_28022023010325', '0090017100_28022023010325']\n",
      "Stack 9 with items: ['0090017100_28022023009937', '0090017100_28022023009937']\n",
      "Stack 10 with items: ['0090017100_28022023009937', '0090017100_28022023009937']\n",
      "Stack 11 with items: ['0090017100_28022023009937', '0090017100_28022023009937']\n",
      "Stack 12 with items: ['0090017100_28022023009937', '0090017100_28022023009937']\n",
      "Stack 13 with items: ['0090017100_28022023004028', '0090017100_28022023002903']\n",
      "Stack 14 with items: ['0090017100_28022023002903']\n",
      "Stack 15 with items: ['0090017100_28022023004294']\n",
      "MIP Improvement - 2D Vol: 28.46412 [m2] - packed 2D Vol Ratio: 0.864120218579235 [%] - after 0.0 [s] without stacks:\n",
      "Stack 13 missing: ['0090017100_28022023004028', '0090017100_28022023002903']\n",
      "Stack 15 missing: ['0090017100_28022023004294']\n",
      "MIP Improvement - 2D Vol: 30.6331 [m2] - packed 2D Vol Ratio: 0.9299666059502125 [%] - after 0.02850508689880371 [s]\n",
      "MIP Improvement - 2D Vol: 30.8551 [m2] - packed 2D Vol Ratio: 0.9367061323618702 [%] - after 2.6898510456085205 [s]\n",
      "Optimal Solution confirmed after 7.272033233661205 [s]\n",
      "Stacks not packed:\n",
      "Stack 1 not in final solution with items: ['0090017100_28022023001003']\n"
     ]
    }
   ],
   "source": [
    "for X,y in train_dataset.take(1):\n",
    "    pass\n",
    "\n",
    "df = pl.DataFrame({\"raw\": X.numpy().astype(str)})\n",
    "print(df[0, 0])"
   ]
  },
  {
   "cell_type": "markdown",
   "id": "3e8b48de-cb45-4f62-99f0-9cf125c35048",
   "metadata": {
    "jp-MarkdownHeadingCollapsed": true
   },
   "source": [
    "## Loading CSVs"
   ]
  },
  {
   "cell_type": "code",
   "execution_count": 6,
   "id": "2c26da7a-f0f1-4b99-b35f-519d9c9549df",
   "metadata": {},
   "outputs": [
    {
     "data": {
      "text/html": [
       "<div><style>\n",
       ".dataframe > thead > tr > th,\n",
       ".dataframe > tbody > tr > td {\n",
       "  text-align: right;\n",
       "  white-space: pre-wrap;\n",
       "}\n",
       "</style>\n",
       "<small>shape: (5, 17)</small><table border=\"1\" class=\"dataframe\"><thead><tr><th>Supplier code</th><th>Supplier dock</th><th>Plant code</th><th>Plant dock</th><th>Product code</th><th>Package code</th><th>Length</th><th>Width</th><th>Height</th><th>Weight</th><th>Nesting height</th><th>dataset</th><th>instance</th><th>item_id</th><th>ForcedLength</th><th>ForcedWidth</th><th>NestedHeight</th></tr><tr><td>i64</td><td>str</td><td>i64</td><td>str</td><td>str</td><td>str</td><td>f64</td><td>f64</td><td>f64</td><td>f64</td><td>f64</td><td>str</td><td>str</td><td>str</td><td>bool</td><td>bool</td><td>f64</td></tr></thead><tbody><tr><td>679301</td><td>null</td><td>90016900</td><td>&quot;169GB-20&quot;</td><td>&quot;8200665427&quot;</td><td>&quot;MTEM--4462&quot;</td><td>2.4</td><td>1.2</td><td>1.62</td><td>0.457104</td><td>0.045</td><td>&quot;C&quot;</td><td>&quot;BY&quot;</td><td>&quot;0090016900_270…</td><td>false</td><td>false</td><td>1.575</td></tr><tr><td>22060301</td><td>null</td><td>90016900</td><td>&quot;169GB-10&quot;</td><td>&quot;8200659611&quot;</td><td>&quot;SFD---1200&quot;</td><td>1.6</td><td>1.2</td><td>0.93</td><td>0.405136</td><td>0.045</td><td>&quot;C&quot;</td><td>&quot;BY&quot;</td><td>&quot;0090016900_270…</td><td>false</td><td>false</td><td>0.885</td></tr><tr><td>2573225</td><td>null</td><td>90016900</td><td>&quot;GRF1&quot;</td><td>&quot;259971716R&quot;</td><td>&quot;CON-S-0130&quot;</td><td>0.78</td><td>0.57</td><td>0.478</td><td>0.04088</td><td>0.047</td><td>&quot;C&quot;</td><td>&quot;BY&quot;</td><td>&quot;0090016900_270…</td><td>false</td><td>true</td><td>0.431</td></tr><tr><td>61199400</td><td>null</td><td>90016900</td><td>&quot;169GD-60&quot;</td><td>&quot;8200733103&quot;</td><td>&quot;SLI---0760&quot;</td><td>1.2</td><td>1.0</td><td>0.93</td><td>0.176252</td><td>0.045</td><td>&quot;C&quot;</td><td>&quot;BY&quot;</td><td>&quot;0090016900_270…</td><td>false</td><td>false</td><td>0.885</td></tr><tr><td>28681300</td><td>null</td><td>90016900</td><td>&quot;169GD-60&quot;</td><td>&quot;8200677116&quot;</td><td>&quot;SLI---0770&quot;</td><td>1.2</td><td>1.0</td><td>0.975</td><td>0.276804</td><td>0.045</td><td>&quot;C&quot;</td><td>&quot;BY&quot;</td><td>&quot;0090016900_270…</td><td>false</td><td>false</td><td>0.93</td></tr></tbody></table></div>"
      ],
      "text/plain": [
       "shape: (5, 17)\n",
       "┌───────────┬───────────┬───────────┬───────────┬───┬───────────┬───────────┬───────────┬──────────┐\n",
       "│ Supplier  ┆ Supplier  ┆ Plant     ┆ Plant     ┆ … ┆ item_id   ┆ ForcedLen ┆ ForcedWid ┆ NestedHe │\n",
       "│ code      ┆ dock      ┆ code      ┆ dock      ┆   ┆ ---       ┆ gth       ┆ th        ┆ ight     │\n",
       "│ ---       ┆ ---       ┆ ---       ┆ ---       ┆   ┆ str       ┆ ---       ┆ ---       ┆ ---      │\n",
       "│ i64       ┆ str       ┆ i64       ┆ str       ┆   ┆           ┆ bool      ┆ bool      ┆ f64      │\n",
       "╞═══════════╪═══════════╪═══════════╪═══════════╪═══╪═══════════╪═══════════╪═══════════╪══════════╡\n",
       "│ 679301    ┆ null      ┆ 90016900  ┆ 169GB-20  ┆ … ┆ 009001690 ┆ false     ┆ false     ┆ 1.575    │\n",
       "│           ┆           ┆           ┆           ┆   ┆ 0_2702202 ┆           ┆           ┆          │\n",
       "│           ┆           ┆           ┆           ┆   ┆ 3000086   ┆           ┆           ┆          │\n",
       "│ 22060301  ┆ null      ┆ 90016900  ┆ 169GB-10  ┆ … ┆ 009001690 ┆ false     ┆ false     ┆ 0.885    │\n",
       "│           ┆           ┆           ┆           ┆   ┆ 0_2702202 ┆           ┆           ┆          │\n",
       "│           ┆           ┆           ┆           ┆   ┆ 3000178   ┆           ┆           ┆          │\n",
       "│ 2573225   ┆ null      ┆ 90016900  ┆ GRF1      ┆ … ┆ 009001690 ┆ false     ┆ true      ┆ 0.431    │\n",
       "│           ┆           ┆           ┆           ┆   ┆ 0_2702202 ┆           ┆           ┆          │\n",
       "│           ┆           ┆           ┆           ┆   ┆ 3000202   ┆           ┆           ┆          │\n",
       "│ 61199400  ┆ null      ┆ 90016900  ┆ 169GD-60  ┆ … ┆ 009001690 ┆ false     ┆ false     ┆ 0.885    │\n",
       "│           ┆           ┆           ┆           ┆   ┆ 0_2702202 ┆           ┆           ┆          │\n",
       "│           ┆           ┆           ┆           ┆   ┆ 3000285   ┆           ┆           ┆          │\n",
       "│ 28681300  ┆ null      ┆ 90016900  ┆ 169GD-60  ┆ … ┆ 009001690 ┆ false     ┆ false     ┆ 0.93     │\n",
       "│           ┆           ┆           ┆           ┆   ┆ 0_2702202 ┆           ┆           ┆          │\n",
       "│           ┆           ┆           ┆           ┆   ┆ 3000357   ┆           ┆           ┆          │\n",
       "└───────────┴───────────┴───────────┴───────────┴───┴───────────┴───────────┴───────────┴──────────┘"
      ]
     },
     "execution_count": 6,
     "metadata": {},
     "output_type": "execute_result"
    }
   ],
   "source": [
    "folder = \"truck-item-infos\"\n",
    "file = \"items.csv\"\n",
    "\n",
    "item_path = os.path.join(cwd, folder, file)\n",
    "items = pl.read_csv(source = item_path);\n",
    "\n",
    "items = items.lazy().with_columns([\n",
    "    (pl.col(\"Item ident\").alias(\"item_id\")),\n",
    "    (pl.col(\"Length\") / 1000), # mm to m\n",
    "    (pl.col(\"Width\") / 1000),  # mm to m\n",
    "    (pl.col(\"Height\") / 1000), # mm to m\n",
    "    (pl.col(\"Nesting height\") / 1000), # mm to m\n",
    "    (pl.col(\"Weight\") / 1000), # kg to tons\n",
    "    (pl.col(\"Forced orientation\") == \"lengthwise\").alias(\"ForcedLength\"),\n",
    "    (pl.col(\"Forced orientation\") == \"widthwise\").alias(\"ForcedWidth\"),\n",
    "    ((pl.col(\"Height\") - pl.col(\"Nesting height\")) / 1000).alias(\"NestedHeight\"),\n",
    "    pl.col(\"dataset\").str.extract(\"([A-Z])\")\n",
    "]).drop([\n",
    "    \"Forced orientation\", \"Max stackability\", \"Inventory cost\",\n",
    "    \"Earliest arrival time\", \"Latest arrival time\", \"Number of items\",\n",
    "    \"instance_id\",\n",
    "    \"Stackability code\",\n",
    "    \"Item ident\" # drop because of rename earlier\n",
    "]).unique()\n",
    "\n",
    "items.collect().head()"
   ]
  },
  {
   "cell_type": "code",
   "execution_count": 7,
   "id": "0dc63cfa-2e58-450c-8880-6b1bbfc96140",
   "metadata": {},
   "outputs": [
    {
     "data": {
      "text/html": [
       "<div><style>\n",
       ".dataframe > thead > tr > th,\n",
       ".dataframe > tbody > tr > td {\n",
       "  text-align: right;\n",
       "  white-space: pre-wrap;\n",
       "}\n",
       "</style>\n",
       "<small>shape: (5, 9)</small><table border=\"1\" class=\"dataframe\"><thead><tr><th>Supplier code</th><th>Supplier loading order</th><th>Supplier dock</th><th>Supplier dock loading order</th><th>Plant dock</th><th>Plant dock loading order</th><th>truck_id</th><th>dataset</th><th>instance</th></tr><tr><td>i64</td><td>i64</td><td>str</td><td>i64</td><td>str</td><td>i64</td><td>str</td><td>str</td><td>str</td></tr></thead><tbody><tr><td>62059600</td><td>1</td><td>null</td><td>1</td><td>&quot;X0&quot;</td><td>1</td><td>&quot;P187731005&quot;</td><td>&quot;A&quot;</td><td>&quot;AS&quot;</td></tr><tr><td>29908700</td><td>1</td><td>null</td><td>1</td><td>&quot;X4&quot;</td><td>1</td><td>&quot;P189730405&quot;</td><td>&quot;A&quot;</td><td>&quot;AS&quot;</td></tr><tr><td>62059600</td><td>1</td><td>null</td><td>1</td><td>&quot;X0&quot;</td><td>1</td><td>&quot;P190731051&quot;</td><td>&quot;A&quot;</td><td>&quot;AS&quot;</td></tr><tr><td>29918200</td><td>1</td><td>null</td><td>1</td><td>&quot;X1&quot;</td><td>2</td><td>&quot;P192717701&quot;</td><td>&quot;A&quot;</td><td>&quot;AS&quot;</td></tr><tr><td>40010000</td><td>1</td><td>null</td><td>1</td><td>&quot;X1&quot;</td><td>1</td><td>&quot;P192717901&quot;</td><td>&quot;A&quot;</td><td>&quot;AS&quot;</td></tr></tbody></table></div>"
      ],
      "text/plain": [
       "shape: (5, 9)\n",
       "┌────────────┬────────────┬───────────┬───────────┬───┬───────────┬───────────┬─────────┬──────────┐\n",
       "│ Supplier   ┆ Supplier   ┆ Supplier  ┆ Supplier  ┆ … ┆ Plant     ┆ truck_id  ┆ dataset ┆ instance │\n",
       "│ code       ┆ loading    ┆ dock      ┆ dock      ┆   ┆ dock      ┆ ---       ┆ ---     ┆ ---      │\n",
       "│ ---        ┆ order      ┆ ---       ┆ loading   ┆   ┆ loading   ┆ str       ┆ str     ┆ str      │\n",
       "│ i64        ┆ ---        ┆ str       ┆ order     ┆   ┆ order     ┆           ┆         ┆          │\n",
       "│            ┆ i64        ┆           ┆ ---       ┆   ┆ ---       ┆           ┆         ┆          │\n",
       "│            ┆            ┆           ┆ i64       ┆   ┆ i64       ┆           ┆         ┆          │\n",
       "╞════════════╪════════════╪═══════════╪═══════════╪═══╪═══════════╪═══════════╪═════════╪══════════╡\n",
       "│ 62059600   ┆ 1          ┆ null      ┆ 1         ┆ … ┆ 1         ┆ P18773100 ┆ A       ┆ AS       │\n",
       "│            ┆            ┆           ┆           ┆   ┆           ┆ 5         ┆         ┆          │\n",
       "│ 29908700   ┆ 1          ┆ null      ┆ 1         ┆ … ┆ 1         ┆ P18973040 ┆ A       ┆ AS       │\n",
       "│            ┆            ┆           ┆           ┆   ┆           ┆ 5         ┆         ┆          │\n",
       "│ 62059600   ┆ 1          ┆ null      ┆ 1         ┆ … ┆ 1         ┆ P19073105 ┆ A       ┆ AS       │\n",
       "│            ┆            ┆           ┆           ┆   ┆           ┆ 1         ┆         ┆          │\n",
       "│ 29918200   ┆ 1          ┆ null      ┆ 1         ┆ … ┆ 2         ┆ P19271770 ┆ A       ┆ AS       │\n",
       "│            ┆            ┆           ┆           ┆   ┆           ┆ 1         ┆         ┆          │\n",
       "│ 40010000   ┆ 1          ┆ null      ┆ 1         ┆ … ┆ 1         ┆ P19271790 ┆ A       ┆ AS       │\n",
       "│            ┆            ┆           ┆           ┆   ┆           ┆ 1         ┆         ┆          │\n",
       "└────────────┴────────────┴───────────┴───────────┴───┴───────────┴───────────┴─────────┴──────────┘"
      ]
     },
     "execution_count": 7,
     "metadata": {},
     "output_type": "execute_result"
    }
   ],
   "source": [
    "file = \"trucks.csv\"\n",
    "\n",
    "truck_path = os.path.join(cwd, folder, file)\n",
    "\n",
    "truck_clms = [\"Id truck\", \"dataset\", \"instance\",\n",
    "              \"Supplier code\", \"Supplier dock\", \"Plant dock\",\n",
    "              \"Supplier loading order\", \"Supplier dock loading order\", \"Plant dock loading order\",\n",
    "             ]\n",
    "\n",
    "truck_stops = (\n",
    "    pl.read_csv(source = truck_path, columns = truck_clms)\n",
    "    .lazy()\n",
    "    .rename({\"Id truck\": \"truck_id\"})\n",
    "    .sort([\"dataset\", \"instance\", \"truck_id\"])\n",
    "    .with_columns([pl.col(\"dataset\").str.extract(\"(\\w)\")])\n",
    "    .unique()\n",
    ")\n",
    "truck_stops.collect().head()"
   ]
  },
  {
   "cell_type": "code",
   "execution_count": 8,
   "id": "4e492480-4e8d-4534-8029-096c64ec1da1",
   "metadata": {},
   "outputs": [
    {
     "data": {
      "text/html": [
       "<div><style>\n",
       ".dataframe > thead > tr > th,\n",
       ".dataframe > tbody > tr > td {\n",
       "  text-align: right;\n",
       "  white-space: pre-wrap;\n",
       "}\n",
       "</style>\n",
       "<small>shape: (5, 8)</small><table border=\"1\" class=\"dataframe\"><thead><tr><th>truck_id</th><th>Length</th><th>Width</th><th>Weight</th><th>EMmm</th><th>EMmr</th><th>dataset</th><th>instance</th></tr><tr><td>str</td><td>f64</td><td>f64</td><td>f64</td><td>f64</td><td>f64</td><td>str</td><td>str</td></tr></thead><tbody><tr><td>&quot;P187731305&quot;</td><td>14.94</td><td>2.5</td><td>24.0</td><td>12.0</td><td>31.5</td><td>&quot;A&quot;</td><td>&quot;AS&quot;</td></tr><tr><td>&quot;P188721401&quot;</td><td>14.94</td><td>2.5</td><td>24.0</td><td>12.0</td><td>31.5</td><td>&quot;A&quot;</td><td>&quot;AS&quot;</td></tr><tr><td>&quot;P188730503&quot;</td><td>14.94</td><td>2.5</td><td>24.0</td><td>12.0</td><td>31.5</td><td>&quot;A&quot;</td><td>&quot;AS&quot;</td></tr><tr><td>&quot;P188731303&quot;</td><td>14.94</td><td>2.5</td><td>24.0</td><td>12.0</td><td>31.5</td><td>&quot;A&quot;</td><td>&quot;AS&quot;</td></tr><tr><td>&quot;P189709601&quot;</td><td>14.94</td><td>2.5</td><td>24.0</td><td>12.0</td><td>31.5</td><td>&quot;A&quot;</td><td>&quot;AS&quot;</td></tr></tbody></table></div>"
      ],
      "text/plain": [
       "shape: (5, 8)\n",
       "┌────────────┬────────┬───────┬────────┬──────┬──────┬─────────┬──────────┐\n",
       "│ truck_id   ┆ Length ┆ Width ┆ Weight ┆ EMmm ┆ EMmr ┆ dataset ┆ instance │\n",
       "│ ---        ┆ ---    ┆ ---   ┆ ---    ┆ ---  ┆ ---  ┆ ---     ┆ ---      │\n",
       "│ str        ┆ f64    ┆ f64   ┆ f64    ┆ f64  ┆ f64  ┆ str     ┆ str      │\n",
       "╞════════════╪════════╪═══════╪════════╪══════╪══════╪═════════╪══════════╡\n",
       "│ P187731305 ┆ 14.94  ┆ 2.5   ┆ 24.0   ┆ 12.0 ┆ 31.5 ┆ A       ┆ AS       │\n",
       "│ P188721401 ┆ 14.94  ┆ 2.5   ┆ 24.0   ┆ 12.0 ┆ 31.5 ┆ A       ┆ AS       │\n",
       "│ P188730503 ┆ 14.94  ┆ 2.5   ┆ 24.0   ┆ 12.0 ┆ 31.5 ┆ A       ┆ AS       │\n",
       "│ P188731303 ┆ 14.94  ┆ 2.5   ┆ 24.0   ┆ 12.0 ┆ 31.5 ┆ A       ┆ AS       │\n",
       "│ P189709601 ┆ 14.94  ┆ 2.5   ┆ 24.0   ┆ 12.0 ┆ 31.5 ┆ A       ┆ AS       │\n",
       "└────────────┴────────┴───────┴────────┴──────┴──────┴─────────┴──────────┘"
      ]
     },
     "execution_count": 8,
     "metadata": {},
     "output_type": "execute_result"
    }
   ],
   "source": [
    "file = \"trucks.csv\"\n",
    "\n",
    "truck_path = os.path.join(cwd, folder, file)\n",
    "\n",
    "truck_clms = [\"Id truck\", \"dataset\", \"instance\",\n",
    "              \"Length\", \"Width\", \"Max weight\",\n",
    "              \"EMmm\", \"EMmr\"\n",
    "             ]\n",
    "\n",
    "truck_dims = (\n",
    "    pl.read_csv(source = truck_path, columns = truck_clms)\n",
    "    .lazy()\n",
    "    .rename({\"Id truck\": \"truck_id\", \"Max weight\": \"Weight\"})\n",
    "    .sort([\"dataset\", \"instance\", \"truck_id\"])\n",
    "    .with_columns([pl.col(\"dataset\").str.extract(\"(\\w)\")])\n",
    "    .unique()\n",
    ")\n",
    "\n",
    "truck_dims = truck_dims.with_columns([\n",
    "    (pl.col(\"Length\") / 1000),\n",
    "    (pl.col(\"Width\") / 1000),\n",
    "    (pl.col(\"Weight\") / 1000),\n",
    "    (pl.col(\"EMmm\") / 1000),\n",
    "    (pl.col(\"EMmr\") / 1000),\n",
    "])\n",
    "\n",
    "truck_dims.collect().head()"
   ]
  },
  {
   "cell_type": "markdown",
   "id": "e4904732-a116-4f7d-a5c1-8d17caf2a558",
   "metadata": {},
   "source": [
    "## Preprocessing Functions:"
   ]
  },
  {
   "cell_type": "code",
   "execution_count": 9,
   "id": "f191cc73-619b-4f7e-9f1d-2ed53bca5583",
   "metadata": {
    "scrolled": true
   },
   "outputs": [
    {
     "data": {
      "text/plain": [
       "array([[   0.      ,    1.206   ,    1.01    ,    0.07465 ,    0.      ,\n",
       "           0.      ,    2.      ,    2.      ,    1.      ],\n",
       "       [   0.      ,    1.206   ,    1.01    ,    0.5669  ,    0.      ,\n",
       "           0.      ,    2.      ,    2.      ,    3.      ],\n",
       "       [   0.      ,    1.8     ,    1.205   ,    0.84    ,    0.      ,\n",
       "           0.      ,    3.      ,    3.      ,    3.      ],\n",
       "       [   0.      ,    1.8     ,    1.205   ,    0.84    ,    0.      ,\n",
       "           0.      ,    3.      ,    3.      ,    3.      ],\n",
       "       [   0.      ,    1.8     ,    1.205   ,    0.84    ,    0.      ,\n",
       "           0.      ,    3.      ,    3.      ,    3.      ],\n",
       "       [   0.      ,    1.8     ,    1.205   ,    0.84    ,    0.      ,\n",
       "           0.      ,    3.      ,    3.      ,    3.      ],\n",
       "       [   0.      ,    1.8     ,    1.205   ,    0.84    ,    0.      ,\n",
       "           0.      ,    3.      ,    3.      ,    3.      ],\n",
       "       [   0.      ,    1.8     ,    1.205   ,    0.84    ,    0.      ,\n",
       "           0.      ,    3.      ,    3.      ,    3.      ],\n",
       "       [   0.      ,    1.8     ,    1.205   ,    0.84    ,    0.      ,\n",
       "           0.      ,    3.      ,    3.      ,    3.      ],\n",
       "       [   0.      ,    1.8     ,    1.205   ,    0.84    ,    0.      ,\n",
       "           0.      ,    3.      ,    3.      ,    3.      ],\n",
       "       [   0.      ,    1.8     ,    1.205   ,    0.84    ,    0.      ,\n",
       "           0.      ,    3.      ,    3.      ,    3.      ],\n",
       "       [   0.      ,    1.8     ,    1.205   ,    0.84    ,    0.      ,\n",
       "           0.      ,    3.      ,    3.      ,    3.      ],\n",
       "       [   0.      ,    1.8     ,    1.205   ,    0.84    ,    0.      ,\n",
       "           0.      ,    3.      ,    3.      ,    3.      ],\n",
       "       [   0.      ,    1.8     ,    1.205   ,    0.84    ,    0.      ,\n",
       "           0.      ,    3.      ,    3.      ,    3.      ],\n",
       "       [   0.      ,    1.8     ,    1.205   ,    0.42    ,    0.      ,\n",
       "           0.      ,    3.      ,    3.      ,    3.      ],\n",
       "       ...,\n",
       "       [1023.      ,    1.2     ,    1.      ,    0.66094 ,    0.      ,\n",
       "           0.      ,    1.      ,    1.      ,    2.      ],\n",
       "       [1023.      ,    1.2     ,    1.      ,    0.79009 ,    0.      ,\n",
       "           0.      ,    1.      ,    1.      ,    2.      ],\n",
       "       [1023.      ,    1.2     ,    1.      ,    1.10637 ,    0.      ,\n",
       "           0.      ,    2.      ,    2.      ,    2.      ],\n",
       "       [1023.      ,    1.2     ,    1.      ,    0.9121  ,    0.      ,\n",
       "           0.      ,    2.      ,    2.      ,    2.      ],\n",
       "       [1023.      ,    1.2     ,    1.      ,    0.8682  ,    0.      ,\n",
       "           0.      ,    2.      ,    2.      ,    2.      ],\n",
       "       [1023.      ,    1.2     ,    1.      ,    0.8724  ,    0.      ,\n",
       "           0.      ,    2.      ,    2.      ,    2.      ],\n",
       "       [1023.      ,    1.2     ,    1.      ,    1.21295 ,    0.      ,\n",
       "           0.      ,    2.      ,    2.      ,    2.      ],\n",
       "       [1023.      ,    1.6     ,    1.2     ,    1.007804,    0.      ,\n",
       "           0.      ,    1.      ,    1.      ,    5.      ],\n",
       "       [1023.      ,    1.6     ,    1.2     ,    1.067758,    0.      ,\n",
       "           0.      ,    1.      ,    1.      ,    5.      ],\n",
       "       [1023.      ,    1.6     ,    1.2     ,    1.02534 ,    0.      ,\n",
       "           0.      ,    1.      ,    1.      ,    5.      ],\n",
       "       [1023.      ,    1.6     ,    1.2     ,    0.6319  ,    0.      ,\n",
       "           0.      ,    1.      ,    1.      ,    5.      ],\n",
       "       [1023.      ,    1.6     ,    1.2     ,    1.007804,    0.      ,\n",
       "           0.      ,    1.      ,    1.      ,    5.      ],\n",
       "       [1023.      ,    1.6     ,    1.2     ,    0.65773 ,    0.      ,\n",
       "           0.      ,    1.      ,    1.      ,    5.      ],\n",
       "       [1023.      ,    1.6     ,    1.2     ,    0.97368 ,    0.      ,\n",
       "           0.      ,    1.      ,    1.      ,    5.      ],\n",
       "       [1023.      ,   13.5     ,    2.44    ,   24.      ,   12.      ,\n",
       "          31.5     ,    0.      ,    0.      ,    0.      ]])"
      ]
     },
     "execution_count": 9,
     "metadata": {},
     "output_type": "execute_result"
    }
   ],
   "source": [
    "from utils.preprocessing_2 import extract_raw_data, explode_instances_into_stacks, explode_stacks_into_items\n",
    "from utils.preprocessing_2 import join_items, group_items_by_stack, join_truck_loading_order, append_truck_info\n",
    "\n",
    "XX = (\n",
    "    df.lazy()\n",
    "    .pipe(extract_raw_data)\n",
    "    .pipe(explode_instances_into_stacks)\n",
    "    .pipe(explode_stacks_into_items)\n",
    "    .pipe(join_items, items)\n",
    "    .pipe(group_items_by_stack)\n",
    "    .pipe(join_truck_loading_order, truck_stops)\n",
    "    .pipe(append_truck_info, truck_dims)\n",
    "    .collect()\n",
    "    .to_numpy()\n",
    ")\n",
    "\n",
    "XX"
   ]
  },
  {
   "cell_type": "code",
   "execution_count": 10,
   "id": "a4c5abbd-dbdb-49a6-a47b-a8c47618b916",
   "metadata": {},
   "outputs": [
    {
     "data": {
      "text/plain": [
       "(1024, 80, 11)"
      ]
     },
     "execution_count": 10,
     "metadata": {},
     "output_type": "execute_result"
    }
   ],
   "source": [
    "def get_tensor_representation(X):\n",
    "\n",
    "    X[:,-3] = np.log1p(X[:,-3])\n",
    "\n",
    "    # add columns for Length and Width Remainder\n",
    "    X = np.append(X, np.zeros((X.shape[0], 3)), axis=1)\n",
    "    \n",
    "    indices = np.unique(X[:, 0])\n",
    "    indices = np.sort(indices)   # necessary to keep output order same as input order!?!\n",
    "\n",
    "    # (batch_size, ?, features)\n",
    "    X = np.array([X[X[:,0] == idx] for idx in indices], dtype = \"object\")\n",
    "\n",
    "    \n",
    "\n",
    "    # pad the variable length number of stacks into fixed\n",
    "    #  (batch_size, pad_size, features)\n",
    "    X = tf.keras.utils.pad_sequences(X, maxlen=PAD_SIZE, padding = \"post\", dtype=\"float64\")\n",
    "    # drop the index column (batch_size, pad_len, n_features)\n",
    "    X = X[:,:,1:].astype(float)\n",
    "\n",
    "    # Add Length and width Remainder\n",
    "    for xx in X:\n",
    "        truck_width = max(xx[:,1])\n",
    "        # Length Remainder\n",
    "        xx[:,-3] = truck_width % xx[:,0]\n",
    "        # Width Remainder\n",
    "        xx[:,-2] = truck_width % xx[:,1]\n",
    "    \n",
    "    X = np.nan_to_num(X)\n",
    "    \n",
    "    return X\n",
    "\n",
    "c = get_tensor_representation(XX)\n",
    "c.shape"
   ]
  },
  {
   "cell_type": "code",
   "execution_count": 11,
   "id": "1dab19ec-58a3-4088-a89b-934e01616d60",
   "metadata": {},
   "outputs": [],
   "source": [
    "def get_additional_labels(df: pl.DataFrame) -> dict[str: np.array]:\n",
    "    \"\"\"\n",
    "    \"\"\"\n",
    "\n",
    "    pattern = \"MIP Improvement - 2D Vol: \\d*\\.\\d* \\[m2\\] - packed 2D Vol Ratio\\: \\d*\\.\\d* \\[\\%\\] - after \\d*\\.\\d* \\[s\\]\"\n",
    "    mip_improvements = df[\"raw\"].str.extract_all(pattern)#.list[-1][2]\n",
    "\n",
    "    # mip_improvements: pl.Series[list[str]]\n",
    "    # with entries according to the pattern, i.e all MIP improvement rows\n",
    "    \n",
    "    y_num_improvements = mip_improvements.list.len()-1\n",
    "    \n",
    "    y_improvement = y_num_improvements > 0\n",
    "\n",
    "    y_packed_area_ratio = mip_improvements.list[-1].str.extract(\"\\: (\\d*\\.\\d*) \\[\\%\\]\").cast(pl.Float32)\n",
    "\n",
    "    y_packed_area = mip_improvements.list[-1].str.extract(\"- 2D Vol: (\\d*\\.\\d*) \\[m2\\]\").cast(pl.Float32)\n",
    "\n",
    "    y_first_update = mip_improvements.list[1].str.extract(\"- after (\\d*\\.\\d*) \\[s\\]\").cast(pl.Float32).fill_null(0)\n",
    "    \n",
    "    y_last_update = mip_improvements.list[-1].str.extract(\"- after (\\d*\\.\\d*) \\[s\\]\").cast(pl.Float32)\n",
    "\n",
    "    # missing stacks:\n",
    "    y_stack_not_included = np.zeros((len(df), PAD_SIZE), dtype=float)\n",
    "    pattern = \"Stack (\\d*) not in final solution with items:\"\n",
    "    x = df[\"raw\"].str.extract_all(pattern).map_elements(lambda x: [int(i.split(\" \")[1]) for i in x])\n",
    "    \n",
    "    for i, missing_stacks in enumerate(x):\n",
    "        for j in missing_stacks:\n",
    "            y_stack_not_included[i, j] +=1\n",
    "\n",
    "\n",
    "    y = [\n",
    "        y_improvement.to_numpy().astype(int),\n",
    "        #y_num_improvements.to_numpy().astype(int),\n",
    "        #y_packed_area_ratio.to_numpy(),\n",
    "        #y_packed_area.to_numpy(),\n",
    "        #np.log1p(y_first_update.to_numpy()),\n",
    "        #y_last_update.to_numpy(),\n",
    "        y_stack_not_included\n",
    "    ]\n",
    "    \n",
    "    return y\n",
    "\n",
    "#pattern = \"Stack (\\d*) not in final solution with items:\"\n",
    "#df[\"raw\"].str.extract_all(pattern).apply(lambda x: [i.split(\" \")[1] for i in x])\n",
    "#x = df[\"raw\"].str.extract_all(pattern).map_elements(lambda x: [int(i.split(\" \")[1]) for i in x])"
   ]
  },
  {
   "cell_type": "code",
   "execution_count": 12,
   "id": "bafa29a5-dc95-42ea-b83c-71eb6033d6b4",
   "metadata": {},
   "outputs": [],
   "source": [
    "pattern = \"MIP Improvement - 2D Vol: \\d*\\.\\d* \\[m2\\] - packed 2D Vol Ratio\\: \\d*\\.\\d* \\[\\%\\] - after \\d*\\.\\d* \\[s\\]\"\n",
    "mip_improvements = df[\"raw\"].str.extract_all(pattern)#.list[-1][2]\n",
    "y_num_improvements = mip_improvements.list.len()-1\n",
    "y_improvement = y_num_improvements > 0\n",
    "\n",
    "y_first_improvement = mip_improvements.list[1].str.extract(\"- after (\\d*\\.\\d*) \\[s\\]\").cast(pl.Float32).fill_null(0)"
   ]
  },
  {
   "cell_type": "code",
   "execution_count": 13,
   "id": "40b87667-6312-4513-8242-501990e1deac",
   "metadata": {},
   "outputs": [],
   "source": [
    "y_stack_not_included = np.zeros((BATCH_SIZE, PAD_SIZE), dtype=float)\n",
    "pattern = \"Stack (\\d*) not in final solution with items:\"\n",
    "x = df[\"raw\"].str.extract_all(pattern).map_elements(lambda x: [int(i.split(\" \")[1]) for i in x])\n",
    "    \n",
    "for i, missing_stacks in enumerate(x):\n",
    "    for j in missing_stacks:\n",
    "        y_stack_not_included[i, j] +=1"
   ]
  },
  {
   "cell_type": "code",
   "execution_count": 14,
   "id": "c124bd32-2e6d-49c5-8860-26ab6cb216f3",
   "metadata": {},
   "outputs": [],
   "source": [
    "def polars_transformation(X_batch, y_batch, shuffle=True) -> (np.array, np.array):\n",
    "    \"\"\"\n",
    "\n",
    "    Returns:\n",
    "    --------\n",
    "    X: np.array[float32]\n",
    "        3D Feature Tensor of shape (Batch_size, Pad_size, n_features=7)\n",
    "\n",
    "        - Batch_size: Truck Optimization Instances\n",
    "        - Pad_size: Stacks (or Trucks), padded up to create tensors\n",
    "        - n_features: Length, Width, Weight, L/W Forced Orientation\n",
    "                      packing order, is_truck\n",
    "    \"\"\"\n",
    "    \n",
    "    df = pl.DataFrame({\"raw\": X_batch.numpy().astype(str)})\n",
    "    \n",
    "    X = (\n",
    "        df.lazy()\n",
    "        .pipe(extract_raw_data)\n",
    "        .pipe(explode_instances_into_stacks)\n",
    "        .pipe(explode_stacks_into_items)\n",
    "        .pipe(join_items, items)\n",
    "        .pipe(group_items_by_stack)\n",
    "        .pipe(join_truck_loading_order, truck_stops)\n",
    "        .pipe(append_truck_info, truck_dims)\n",
    "        .collect()\n",
    "        .to_numpy()\n",
    "    )\n",
    "\n",
    "    X = get_tensor_representation(X)\n",
    "\n",
    "    # fill final column with bool for stack not in initial solution\n",
    "    pattern = \"Stack (\\d*) missing:\"\n",
    "    x = df[\"raw\"].str.extract_all(pattern).map_elements(lambda x: [int(i.split(\" \")[1]) for i in x])\n",
    "\n",
    "    for i, missing_stacks in enumerate(x):\n",
    "        for j in missing_stacks:\n",
    "            X[i, j, -1] +=1\n",
    "\n",
    "    \n",
    "    # extract the time limit\n",
    "    pattern = \"2D Packing MIP with Time Limit (\\d*\\.?\\d*) \\[s\\]\"\n",
    "    x_time_limit = df[\"raw\"].str.extract(pattern).cast(pl.Float32).to_numpy()\n",
    "\n",
    "    y_batch = y_batch.numpy()\n",
    "    y_batch = [y_batch]\n",
    "    y_extra = get_additional_labels(df)\n",
    "\n",
    "    if shuffle:\n",
    "        idx = np.arange(X.shape[1])\n",
    "        idx = np.random.choice(idx, size=PAD_SIZE, replace=False)\n",
    "        X = X[:,idx,:]\n",
    "        y_extra[-1] = y_extra[-1][:,idx]\n",
    "\n",
    "    \n",
    "    y_batch += y_extra\n",
    "    # Drop y_batch\n",
    "    #y_batch = y_extra\n",
    "\n",
    "    X = [X, x_time_limit]\n",
    "    \n",
    "    return X, y_batch\n",
    "\n",
    "cx, cy = polars_transformation(X, y, shuffle=False)"
   ]
  },
  {
   "cell_type": "code",
   "execution_count": 15,
   "id": "b2235d83-51e0-4c01-84e7-c04cb712ced5",
   "metadata": {
    "scrolled": true
   },
   "outputs": [
    {
     "data": {
      "text/plain": [
       "array([[ 1.206,  1.01 ,  0.075,  0.   ,  0.   ,  1.099,  2.   ,  1.   ,\n",
       "         0.028,  0.42 ,  0.   ],\n",
       "       [ 1.206,  1.01 ,  0.567,  0.   ,  0.   ,  1.099,  2.   ,  3.   ,\n",
       "         0.028,  0.42 ,  0.   ],\n",
       "       [ 1.8  ,  1.205,  0.84 ,  0.   ,  0.   ,  1.386,  3.   ,  3.   ,\n",
       "         0.64 ,  0.03 ,  0.   ],\n",
       "       [ 1.8  ,  1.205,  0.84 ,  0.   ,  0.   ,  1.386,  3.   ,  3.   ,\n",
       "         0.64 ,  0.03 ,  0.   ],\n",
       "       [ 1.8  ,  1.205,  0.84 ,  0.   ,  0.   ,  1.386,  3.   ,  3.   ,\n",
       "         0.64 ,  0.03 ,  0.   ],\n",
       "       [ 1.8  ,  1.205,  0.84 ,  0.   ,  0.   ,  1.386,  3.   ,  3.   ,\n",
       "         0.64 ,  0.03 ,  0.   ],\n",
       "       [ 1.8  ,  1.205,  0.84 ,  0.   ,  0.   ,  1.386,  3.   ,  3.   ,\n",
       "         0.64 ,  0.03 ,  0.   ],\n",
       "       [ 1.8  ,  1.205,  0.84 ,  0.   ,  0.   ,  1.386,  3.   ,  3.   ,\n",
       "         0.64 ,  0.03 ,  0.   ],\n",
       "       [ 1.8  ,  1.205,  0.84 ,  0.   ,  0.   ,  1.386,  3.   ,  3.   ,\n",
       "         0.64 ,  0.03 ,  0.   ],\n",
       "       [ 1.8  ,  1.205,  0.84 ,  0.   ,  0.   ,  1.386,  3.   ,  3.   ,\n",
       "         0.64 ,  0.03 ,  0.   ],\n",
       "       [ 1.8  ,  1.205,  0.84 ,  0.   ,  0.   ,  1.386,  3.   ,  3.   ,\n",
       "         0.64 ,  0.03 ,  0.   ],\n",
       "       [ 1.8  ,  1.205,  0.84 ,  0.   ,  0.   ,  1.386,  3.   ,  3.   ,\n",
       "         0.64 ,  0.03 ,  0.   ],\n",
       "       [ 1.8  ,  1.205,  0.84 ,  0.   ,  0.   ,  1.386,  3.   ,  3.   ,\n",
       "         0.64 ,  0.03 ,  0.   ],\n",
       "       [ 1.8  ,  1.205,  0.84 ,  0.   ,  0.   ,  1.386,  3.   ,  3.   ,\n",
       "         0.64 ,  0.03 ,  1.   ],\n",
       "       [ 1.8  ,  1.205,  0.42 ,  0.   ,  0.   ,  1.386,  3.   ,  3.   ,\n",
       "         0.64 ,  0.03 ,  0.   ],\n",
       "       [ 1.8  ,  0.8  ,  0.096,  0.   ,  0.   ,  1.386,  3.   ,  3.   ,\n",
       "         0.64 ,  0.04 ,  1.   ],\n",
       "       [13.5  ,  2.44 , 24.   , 12.   , 31.5  ,  0.   ,  0.   ,  0.   ,\n",
       "         2.44 ,  0.   ,  0.   ],\n",
       "       [ 0.   ,  0.   ,  0.   ,  0.   ,  0.   ,  0.   ,  0.   ,  0.   ,\n",
       "         0.   ,  0.   ,  0.   ],\n",
       "       [ 0.   ,  0.   ,  0.   ,  0.   ,  0.   ,  0.   ,  0.   ,  0.   ,\n",
       "         0.   ,  0.   ,  0.   ],\n",
       "       [ 0.   ,  0.   ,  0.   ,  0.   ,  0.   ,  0.   ,  0.   ,  0.   ,\n",
       "         0.   ,  0.   ,  0.   ],\n",
       "       [ 0.   ,  0.   ,  0.   ,  0.   ,  0.   ,  0.   ,  0.   ,  0.   ,\n",
       "         0.   ,  0.   ,  0.   ],\n",
       "       [ 0.   ,  0.   ,  0.   ,  0.   ,  0.   ,  0.   ,  0.   ,  0.   ,\n",
       "         0.   ,  0.   ,  0.   ],\n",
       "       [ 0.   ,  0.   ,  0.   ,  0.   ,  0.   ,  0.   ,  0.   ,  0.   ,\n",
       "         0.   ,  0.   ,  0.   ],\n",
       "       [ 0.   ,  0.   ,  0.   ,  0.   ,  0.   ,  0.   ,  0.   ,  0.   ,\n",
       "         0.   ,  0.   ,  0.   ],\n",
       "       [ 0.   ,  0.   ,  0.   ,  0.   ,  0.   ,  0.   ,  0.   ,  0.   ,\n",
       "         0.   ,  0.   ,  0.   ],\n",
       "       [ 0.   ,  0.   ,  0.   ,  0.   ,  0.   ,  0.   ,  0.   ,  0.   ,\n",
       "         0.   ,  0.   ,  0.   ],\n",
       "       [ 0.   ,  0.   ,  0.   ,  0.   ,  0.   ,  0.   ,  0.   ,  0.   ,\n",
       "         0.   ,  0.   ,  0.   ],\n",
       "       [ 0.   ,  0.   ,  0.   ,  0.   ,  0.   ,  0.   ,  0.   ,  0.   ,\n",
       "         0.   ,  0.   ,  0.   ],\n",
       "       [ 0.   ,  0.   ,  0.   ,  0.   ,  0.   ,  0.   ,  0.   ,  0.   ,\n",
       "         0.   ,  0.   ,  0.   ],\n",
       "       [ 0.   ,  0.   ,  0.   ,  0.   ,  0.   ,  0.   ,  0.   ,  0.   ,\n",
       "         0.   ,  0.   ,  0.   ],\n",
       "       [ 0.   ,  0.   ,  0.   ,  0.   ,  0.   ,  0.   ,  0.   ,  0.   ,\n",
       "         0.   ,  0.   ,  0.   ],\n",
       "       [ 0.   ,  0.   ,  0.   ,  0.   ,  0.   ,  0.   ,  0.   ,  0.   ,\n",
       "         0.   ,  0.   ,  0.   ],\n",
       "       [ 0.   ,  0.   ,  0.   ,  0.   ,  0.   ,  0.   ,  0.   ,  0.   ,\n",
       "         0.   ,  0.   ,  0.   ],\n",
       "       [ 0.   ,  0.   ,  0.   ,  0.   ,  0.   ,  0.   ,  0.   ,  0.   ,\n",
       "         0.   ,  0.   ,  0.   ],\n",
       "       [ 0.   ,  0.   ,  0.   ,  0.   ,  0.   ,  0.   ,  0.   ,  0.   ,\n",
       "         0.   ,  0.   ,  0.   ],\n",
       "       [ 0.   ,  0.   ,  0.   ,  0.   ,  0.   ,  0.   ,  0.   ,  0.   ,\n",
       "         0.   ,  0.   ,  0.   ],\n",
       "       [ 0.   ,  0.   ,  0.   ,  0.   ,  0.   ,  0.   ,  0.   ,  0.   ,\n",
       "         0.   ,  0.   ,  0.   ],\n",
       "       [ 0.   ,  0.   ,  0.   ,  0.   ,  0.   ,  0.   ,  0.   ,  0.   ,\n",
       "         0.   ,  0.   ,  0.   ],\n",
       "       [ 0.   ,  0.   ,  0.   ,  0.   ,  0.   ,  0.   ,  0.   ,  0.   ,\n",
       "         0.   ,  0.   ,  0.   ],\n",
       "       [ 0.   ,  0.   ,  0.   ,  0.   ,  0.   ,  0.   ,  0.   ,  0.   ,\n",
       "         0.   ,  0.   ,  0.   ]])"
      ]
     },
     "execution_count": 15,
     "metadata": {},
     "output_type": "execute_result"
    }
   ],
   "source": [
    "cx[0][0, :40].round(3)"
   ]
  },
  {
   "cell_type": "markdown",
   "id": "ba1bff52-d516-4e59-adc3-dc6879865197",
   "metadata": {},
   "source": [
    "# DNN"
   ]
  },
  {
   "cell_type": "markdown",
   "id": "98ba3a13-e18c-42b5-a652-e98181cfadef",
   "metadata": {},
   "source": [
    "## Hyperparameters:"
   ]
  },
  {
   "cell_type": "code",
   "execution_count": 16,
   "id": "bb0d9d3a-8089-45e8-8510-d5692a1239f0",
   "metadata": {},
   "outputs": [
    {
     "name": "stdout",
     "output_type": "stream",
     "text": [
      "Encoder Layer Dropout of 20.0% resulting in a total Dropout of 30.0% over 4 encoders\n"
     ]
    }
   ],
   "source": [
    "N_FEATURES = cx[0].shape[-1]\n",
    "\n",
    "# number of encoder blocks\n",
    "n_blocks = 4 #6\n",
    "num_heads = 4 #4\n",
    "key_dim = int(N_FEATURES/num_heads)\n",
    "use_bias = True \n",
    "dff_upscale = 1\n",
    "# use_PreLN = True\n",
    "\n",
    "## Encoder dropout in total and per layer\n",
    "total_encoder_dropout = 0.3\n",
    "encoder_dropout = 1-(1-total_encoder_dropout)**(1/n_blocks)\n",
    "encoder_dropout = 0.2\n",
    "print(f\"Encoder Layer Dropout of {encoder_dropout:.1%} resulting in a total Dropout of {total_encoder_dropout:.1%} over {n_blocks} encoders\")\n",
    "\n",
    "# activation function\n",
    "activation = \"gelu\" # \"relu\" \"gelu\" \"selu\" \"swish\"\n",
    "\n",
    "# Learning Rate\n",
    "initial_lr = 10e-3 # 10e-3\n",
    "lr_decay = 0.9995 # 0.9\n",
    "\n",
    "\n",
    "# Optimizer\n",
    "#optimizer = keras.optimizers.SGD(learning_rate=initial_lr)\n",
    "optimizer = tf.keras.optimizers.legacy.Adam(learning_rate = initial_lr)"
   ]
  },
  {
   "cell_type": "markdown",
   "id": "682b6560-02e0-45e1-b69a-99978203bb3b",
   "metadata": {
    "jp-MarkdownHeadingCollapsed": true
   },
   "source": [
    "### Losses and Metrics"
   ]
  },
  {
   "cell_type": "code",
   "execution_count": 17,
   "id": "2b025e4a-1aa1-4c27-ae46-57d143ce6a7c",
   "metadata": {},
   "outputs": [
    {
     "name": "stdout",
     "output_type": "stream",
     "text": [
      "Solved Prevalence: 39.16%\n",
      "Improved Prevalence: 43.85%\n"
     ]
    }
   ],
   "source": [
    "# Loss Function\n",
    "#loss_fn = tf.keras.losses.BinaryCrossentropy(name=\"binary_crossentropy\",)\n",
    "\n",
    "# Focal Loss\n",
    "\n",
    "loss_solved = tf.keras.losses.BinaryFocalCrossentropy(\n",
    "    gamma=2,\n",
    "    alpha = 1-y.numpy().mean(),\n",
    "    name='solved_focal_loss'\n",
    ")\n",
    "\n",
    "loss_improvement = tf.keras.losses.BinaryFocalCrossentropy(\n",
    "    gamma=1.5, #1.2\n",
    "    alpha = 1-y_improvement.mean(),\n",
    "    name='improvement_focal_loss'\n",
    ")\n",
    "\n",
    "\n",
    "loss_stacks = tf.keras.losses.BinaryFocalCrossentropy(\n",
    "    gamma=6,\n",
    "    alpha = 1-y_stack_not_included.mean(),\n",
    "    name='stacks_focal_loss'\n",
    ")\n",
    "\n",
    "print(f\"Solved Prevalence: {y.numpy().mean():.2%}\")\n",
    "print(f\"Improved Prevalence: {y_improvement.mean():.2%}\")"
   ]
  },
  {
   "cell_type": "code",
   "execution_count": 18,
   "id": "4b7c4de6-f775-4acb-8ac1-282e8fad9c04",
   "metadata": {},
   "outputs": [],
   "source": [
    "loss_objects = [\n",
    "    loss_solved,\n",
    "    loss_improvement,\n",
    "    loss_stacks\n",
    "]\n",
    "\n",
    "mean_losses = [tf.keras.metrics.Mean(name=target) for target in TARGET_LABELS]"
   ]
  },
  {
   "cell_type": "code",
   "execution_count": 19,
   "id": "1e3e5121-bd70-407e-89eb-d7cae6c21c73",
   "metadata": {},
   "outputs": [],
   "source": [
    "all_metrics: list[list[tf.keras.metrics]] = [\n",
    "    [\n",
    "        tf.keras.metrics.Precision(name = \"PRC\"),\n",
    "        tf.keras.metrics.Recall(name = \"SNS\"),\n",
    "        tf.keras.metrics.AUC(curve='PR', name=\"AUC\"),\n",
    "        tf.keras.metrics.BinaryAccuracy(name = \"ACC\")\n",
    "    ],\n",
    "    [\n",
    "        tf.keras.metrics.Precision(name = \"PRC\"),\n",
    "        tf.keras.metrics.Recall(name = \"SNS\"),\n",
    "        tf.keras.metrics.AUC(curve='PR', name=\"AUC\"),\n",
    "        tf.keras.metrics.BinaryAccuracy(name = \"ACC\")\n",
    "    ],\n",
    "    [\n",
    "        tf.keras.metrics.Precision(name = \"PRC\"),\n",
    "        tf.keras.metrics.Recall(name = \"SNS\"),\n",
    "        tf.keras.metrics.AUC(curve='PR', name=\"AUC\"),\n",
    "        tf.keras.metrics.BinaryAccuracy(name = \"ACC\")\n",
    "    ],\n",
    "]"
   ]
  },
  {
   "cell_type": "markdown",
   "id": "b2172818-ab30-45a6-a332-0062ac6574e7",
   "metadata": {},
   "source": [
    "## Architecture"
   ]
  },
  {
   "cell_type": "code",
   "execution_count": 20,
   "id": "8b3f6f99-9f5c-4a06-98d8-a9b1b199fa2f",
   "metadata": {},
   "outputs": [],
   "source": [
    "from tensorflow.keras.layers import Masking, BatchNormalization, Dropout\n",
    "from tensorflow.keras.layers import Add, Dense, Input, Reshape, Permute, Lambda, Concatenate\n",
    "from keras import backend as K\n",
    "from tensorflow.keras import Model\n",
    "\n",
    "from utils.DNN.encoder import Encoder\n",
    "\n",
    "# build a model using the functional API:\n",
    "\n",
    "# Input\n",
    "input_stack_level = Input(shape=(PAD_SIZE, N_FEATURES), name=\"StackLevelInputFeatures\")\n",
    "input_time_limit = Input(shape=(1), name=\"TimeLimitInput\")\n",
    "inputs = [input_stack_level, input_time_limit]\n",
    "\n",
    "\n",
    "# Masking padded input\n",
    "masking_layer = Masking(\n",
    "    mask_value=0,\n",
    "    input_shape=(PAD_SIZE, N_FEATURES),\n",
    "    dtype=tf.float16, # float, # tf.float16\n",
    "    name=\"MaskingLayer\"\n",
    ")\n",
    "x = masking_layer(input_stack_level)\n",
    "\n",
    "batch_norm_layer = BatchNormalization(name=\"BatchNormalizationLayer\")\n",
    "x = batch_norm_layer(x)\n",
    "\n",
    "encoder = Encoder(\n",
    "    num_layers=n_blocks,\n",
    "    num_heads=num_heads,\n",
    "    d_model=N_FEATURES,\n",
    "    dff=N_FEATURES*dff_upscale,\n",
    "    activation=activation,\n",
    "    dropout=encoder_dropout,\n",
    "    use_bias=use_bias\n",
    ")\n",
    "x = encoder(x)\n",
    "\n",
    "\n",
    "\n",
    "\n",
    "# After Attention, reduce to single dimension\n",
    "add_across_dim = Lambda(\n",
    "    lambda x: K.sum(x, axis=1)/PAD_SIZE**1,\n",
    "    output_shape=lambda s: (s[0], s[2]),\n",
    "    name = \"ReduceStackDimensionViaSummation\"\n",
    ")\n",
    "\n",
    "\n",
    "\n",
    "\n",
    "\n",
    "reshape = Lambda(lambda x: tf.squeeze(x), name=\"Output\")\n",
    "\n",
    "# Pipe Attention directly into missing stack prediction:\n",
    "\n",
    "output_stacks = Dense(1, activation='sigmoid', name = \"PredictionStacks\")\n",
    "#xx = output_stacks(attention_stacks)\n",
    "xx = output_stacks(x)\n",
    "output_stacks = reshape(xx)\n",
    "\n",
    "\n",
    "\n",
    "# Standardize the Time Limit\n",
    "# - The time limit ranges from 0 to 30,\n",
    "# - (tl - 15)/5 should roughly normalize\n",
    "\n",
    "normalize_time_limit = Lambda(\n",
    "    lambda x: (x-15)/5,\n",
    "    #output_shape=lambda s: (s[0], s[2]),\n",
    "    name = \"StandardizeTimeLimit\"\n",
    ")\n",
    "input_time_limit = normalize_time_limit(input_time_limit)\n",
    "concatenate_layer = Concatenate(axis=-1, name=f\"ConcatenateLayer\")\n",
    "#x = concatenate_layer([x, input_time_limit])\n",
    "\n",
    "\n",
    "\n",
    "\n",
    "\n",
    "x = add_across_dim(x)\n",
    "\n",
    "xx = concatenate_layer([x, input_time_limit])\n",
    "fully_connected_layer_solved = Dense(units=N_FEATURES+1, activation=activation,name=f\"FullyConnectedLayerSolved\")\n",
    "xx = fully_connected_layer_solved(xx)\n",
    "output_solved = Dense(1, activation='sigmoid', name = \"PredictionSolved\")\n",
    "xx = output_solved(xx)\n",
    "output_solved = reshape(xx)\n",
    "\n",
    "\n",
    "xx = concatenate_layer([x, input_time_limit])\n",
    "fully_connected_layer_improvement = Dense(units=N_FEATURES+1, activation=activation,name=f\"FullyConnectedLayerImprovement\")\n",
    "xx = fully_connected_layer_improvement(xx)\n",
    "output_improvement = Dense(1, activation='sigmoid', name = \"PredictionImprovement\")\n",
    "xx = output_improvement(xx)\n",
    "output_improvement = reshape(xx)\n",
    "\n",
    "\n",
    "\n",
    "\n",
    "\n",
    "outputs = [\n",
    "    output_solved,\n",
    "    output_improvement,\n",
    "    #output_improvements,\n",
    "    #output_area,\n",
    "    #output_first_improvement,\n",
    "    output_stacks\n",
    "]\n",
    "\n",
    "\n",
    "model = Model(\n",
    "    inputs=inputs,\n",
    "    #outputs=x,\n",
    "    outputs=outputs,\n",
    ")"
   ]
  },
  {
   "cell_type": "code",
   "execution_count": 21,
   "id": "c1c0313b-3fe0-498b-925f-3547fcd860af",
   "metadata": {},
   "outputs": [
    {
     "name": "stdout",
     "output_type": "stream",
     "text": [
      "Model: \"model\"\n",
      "__________________________________________________________________________________________________\n",
      " Layer (type)                Output Shape                 Param #   Connected to                  \n",
      "==================================================================================================\n",
      " StackLevelInputFeatures (I  [(None, 80, 11)]             0         []                            \n",
      " nputLayer)                                                                                       \n",
      "                                                                                                  \n",
      " MaskingLayer (Masking)      (None, 80, 11)               0         ['StackLevelInputFeatures[0][0\n",
      "                                                                    ]']                           \n",
      "                                                                                                  \n",
      " BatchNormalizationLayer (B  (None, 80, 11)               44        ['MaskingLayer[0][0]']        \n",
      " atchNormalization)                                                                               \n",
      "                                                                                                  \n",
      " TransformerEncoder (Encode  (None, 80, 11)               9548      ['BatchNormalizationLayer[0][0\n",
      " r)                                                                 ]']                           \n",
      "                                                                                                  \n",
      " TimeLimitInput (InputLayer  [(None, 1)]                  0         []                            \n",
      " )                                                                                                \n",
      "                                                                                                  \n",
      " ReduceStackDimensionViaSum  (None, 11)                   0         ['TransformerEncoder[0][0]']  \n",
      " mation (Lambda)                                                                                  \n",
      "                                                                                                  \n",
      " StandardizeTimeLimit (Lamb  (None, 1)                    0         ['TimeLimitInput[0][0]']      \n",
      " da)                                                                                              \n",
      "                                                                                                  \n",
      " ConcatenateLayer (Concaten  (None, 12)                   0         ['ReduceStackDimensionViaSumma\n",
      " ate)                                                               tion[0][0]',                  \n",
      "                                                                     'StandardizeTimeLimit[0][0]',\n",
      "                                                                     'ReduceStackDimensionViaSumma\n",
      "                                                                    tion[0][0]',                  \n",
      "                                                                     'StandardizeTimeLimit[0][0]']\n",
      "                                                                                                  \n",
      " FullyConnectedLayerSolved   (None, 12)                   156       ['ConcatenateLayer[0][0]']    \n",
      " (Dense)                                                                                          \n",
      "                                                                                                  \n",
      " FullyConnectedLayerImprove  (None, 12)                   156       ['ConcatenateLayer[1][0]']    \n",
      " ment (Dense)                                                                                     \n",
      "                                                                                                  \n",
      " PredictionSolved (Dense)    (None, 1)                    13        ['FullyConnectedLayerSolved[0]\n",
      "                                                                    [0]']                         \n",
      "                                                                                                  \n",
      " PredictionImprovement (Den  (None, 1)                    13        ['FullyConnectedLayerImproveme\n",
      " se)                                                                nt[0][0]']                    \n",
      "                                                                                                  \n",
      " PredictionStacks (Dense)    (None, 80, 1)                12        ['TransformerEncoder[0][0]']  \n",
      "                                                                                                  \n",
      " Output (Lambda)             None                         0         ['PredictionStacks[0][0]',    \n",
      "                                                                     'PredictionSolved[0][0]',    \n",
      "                                                                     'PredictionImprovement[0][0]'\n",
      "                                                                    ]                             \n",
      "                                                                                                  \n",
      "==================================================================================================\n",
      "Total params: 9942 (38.84 KB)\n",
      "Trainable params: 9920 (38.75 KB)\n",
      "Non-trainable params: 22 (88.00 Byte)\n",
      "__________________________________________________________________________________________________\n"
     ]
    }
   ],
   "source": [
    "_ = model(cx) # just check if it works\n",
    "model.summary()"
   ]
  },
  {
   "cell_type": "code",
   "execution_count": 22,
   "id": "cf228a55-a71a-42ac-bf9c-8df8bc258ac2",
   "metadata": {},
   "outputs": [
    {
     "data": {
      "image/png": "[encoded data removed]",
      "text/plain": [
       "<IPython.core.display.Image object>"
      ]
     },
     "execution_count": 22,
     "metadata": {},
     "output_type": "execute_result"
    }
   ],
   "source": [
    "tf.keras.utils.plot_model(\n",
    "    model,\n",
    "    #to_file,\n",
    "    show_shapes=True\n",
    ")"
   ]
  },
  {
   "cell_type": "markdown",
   "id": "47dfadaf-029c-49d3-81f3-664967ff38b2",
   "metadata": {},
   "source": [
    "## Training Process Functions"
   ]
  },
  {
   "cell_type": "code",
   "execution_count": 23,
   "id": "1911b3da-221c-4414-9358-7fee5a42a3e2",
   "metadata": {},
   "outputs": [
    {
     "data": {
      "image/png": "[encoded data removed]",
      "text/plain": [
       "<Figure size 640x480 with 1 Axes>"
      ]
     },
     "metadata": {},
     "output_type": "display_data"
    }
   ],
   "source": [
    "def geometric_decay(epoch: int, initial_lr:float=10e-3, lr_decay:float=0.9) -> float:\n",
    "    \"\"\"\n",
    "    Exponential decay learning rate schedule\n",
    "    \"\"\"\n",
    "    return initial_lr * lr_decay**epoch\n",
    "\n",
    "xx = np.arange(5000)\n",
    "yy = geometric_decay(xx, lr_decay=0.9995)\n",
    "plt.plot(xx, yy);"
   ]
  },
  {
   "cell_type": "code",
   "execution_count": 24,
   "id": "bf804408-85ea-4824-8a74-fb9feb1807f3",
   "metadata": {},
   "outputs": [],
   "source": [
    "def print_status_bar(iteration, total, losses, all_metrics=None, training:bool=True):\n",
    "    tabs = \"\\t\\t\\t\\t\\t\\t\\t\\t\\t\\t\\t\\t\\t\\t\"\n",
    "    metrics = tabs.join([\n",
    "        f\"{TARGET_LABELS[i]:<12}\\tLoss: {losses[i].result():.4f}\" +\n",
    "        \"\\t\".join([\n",
    "            f\"{m.name:>10}: {m.result():.2%}\"\n",
    "            if m.name not in [\"MAE\", \"RMSE\"]\n",
    "            else f\"{m.name:>10}: {m.result():.4f}\"\n",
    "            for m in metrics\n",
    "        ])\n",
    "        for i, metrics in enumerate(all_metrics)\n",
    "    ])\n",
    "    \n",
    "    if training:\n",
    "        prefix=\"Training\"\n",
    "    else:\n",
    "        prefix=\"Validation\"\n",
    "    \n",
    "    print(f\"\\r{prefix}-Iteration: {iteration+1:0>3}/{total:<3}\\tLR: {float(optimizer.lr):<1000.9f}\" + metrics,\n",
    "          end=\"\")\n"
   ]
  },
  {
   "cell_type": "code",
   "execution_count": 25,
   "id": "71f44dd2-a301-4c37-919b-5a93fbe6c531",
   "metadata": {},
   "outputs": [],
   "source": [
    "@tf.function\n",
    "def model_pass(inputs, targets, training:bool=False):\n",
    "    \"\"\"\n",
    "    Usual Tensorflow model passing of inputs throught the network.\n",
    "    If in training mode, the optimizier can apply the gradients\n",
    "    observed with GradientTape to the model parameters\n",
    "    \"\"\"\n",
    "    \n",
    "    with tf.GradientTape() as tape:\n",
    "        \n",
    "        outputs = model(inputs, training=training)\n",
    "        losses = [l(t, o) for l,o,t in zip(loss_objects, outputs, targets)]\n",
    "        \n",
    "        if training:\n",
    "            gradients = tape.gradient(losses, model.trainable_variables)\n",
    "            optimizer.apply_gradients(zip(gradients, model.trainable_variables))\n",
    "            \n",
    "        for i, mean_loss in enumerate(mean_losses):\n",
    "            mean_loss(losses[i])\n",
    "        \n",
    "    return outputs\n"
   ]
  },
  {
   "cell_type": "code",
   "execution_count": 26,
   "id": "8fbef86c-e0d2-4f2f-988e-441e5109278a",
   "metadata": {},
   "outputs": [],
   "source": [
    "#@tf.function\n",
    "#def model_pass(inputs, targets, training:bool=False, weights=[0.2, 0.7, 0.1]):\n",
    "#    \"\"\"\n",
    "#    Usual Tensorflow model passing of inputs throught the network.\n",
    "#    If in training mode, the optimizier can apply the gradients\n",
    "#    observed with GradientTape to the model parameters\n",
    "#    \"\"\"\n",
    "#    \n",
    "#    with tf.GradientTape() as tape:\n",
    "#        \n",
    "#        outputs = model(inputs, training=training)\n",
    "#        losses = [l(t, o)*w for l,o,t, w in zip(loss_objects, outputs, targets, weights)]\n",
    "#        \n",
    "#        if training:\n",
    "#            gradients = tape.gradient(losses, model.trainable_variables)\n",
    "#            optimizer.apply_gradients(zip(gradients, model.trainable_variables))\n",
    "#            \n",
    "#        for i, mean_loss in enumerate(mean_losses):\n",
    "#            mean_loss(losses[i])\n",
    "#        \n",
    "#    return outputs\n"
   ]
  },
  {
   "cell_type": "code",
   "execution_count": 27,
   "id": "555d2a8e-ff78-42a9-871c-fabbc1da5929",
   "metadata": {},
   "outputs": [],
   "source": [
    "def run_epoch(dataset, all_metrics:list[list[tf.keras.metrics]],\n",
    "              epoch:int, history:pd.DataFrame, training:bool=True,\n",
    "              shuffle:bool=True):\n",
    "    \"\"\"\n",
    "    Single epoch, running several training steps over a dataset\n",
    "    \"\"\"\n",
    "\n",
    "    for step, (X_batch, y_batch) in enumerate(dataset):\n",
    "        \n",
    "        X_batch, y_batch = polars_transformation(X_batch, y_batch, shuffle=shuffle)\n",
    "        \n",
    "        outputs = model_pass(X_batch, y_batch, training=training)\n",
    "        #mean_loss(loss)\n",
    "        \n",
    "        for i, metrics in enumerate(all_metrics):\n",
    "            for metric in metrics:\n",
    "                metric(y_batch[i].reshape(-1), outputs[i].numpy().reshape(-1))\n",
    "    \n",
    "        print_status_bar(step, len(dataset), mean_losses, all_metrics, training=training)\n",
    "    \n",
    "        #### LEARNING RATE UPDATE ####\n",
    "        if training:\n",
    "            optimizer.lr = geometric_decay((epoch-1)*len(dataset)+step, initial_lr, lr_decay)\n",
    "    \n",
    "    print(\"\\n\")\n",
    "\n",
    "    #### UPDATE METRICS\n",
    "    for i, metrics in enumerate(all_metrics):\n",
    "        for metric in metrics:\n",
    "            data = pd.DataFrame({\n",
    "                \"Epoch\": [epoch],\n",
    "                \"Target\": [TARGET_LABELS[i]],\n",
    "                \"Metric\": [metric.name if training else f\"Val-\"+metric.name],\n",
    "                \"Value\": [float(metric.result())],\n",
    "            })\n",
    "            history = pd.concat([history, data])\n",
    "            metric.reset_states()\n",
    "\n",
    "    for i, mean_loss in enumerate(mean_losses):\n",
    "        data = pd.DataFrame({\n",
    "            \"Epoch\": [epoch],\n",
    "            \"Target\": [TARGET_LABELS[i]],\n",
    "            \"Metric\": [\"Loss\" if training else f\"Val-\"+\"Loss\"],\n",
    "            \"Value\": [float(mean_loss.result())],\n",
    "        })\n",
    "        history = pd.concat([history, data])\n",
    "        mean_loss.reset_states()\n",
    "            \n",
    "    return history"
   ]
  },
  {
   "cell_type": "markdown",
   "id": "228ef915-1e01-42dd-b423-71593e828fcf",
   "metadata": {},
   "source": [
    "## Model Training"
   ]
  },
  {
   "cell_type": "code",
   "execution_count": 28,
   "id": "a8175650-b296-4222-b028-ecb715c458c0",
   "metadata": {},
   "outputs": [],
   "source": [
    "clms = [\"Epoch\", \"Target\", \"Metric\", \"Value\"]\n",
    "track = pd.DataFrame(columns = clms)"
   ]
  },
  {
   "cell_type": "code",
   "execution_count": 29,
   "id": "464563b0-8ebe-4448-9105-a25ed5e36383",
   "metadata": {},
   "outputs": [
    {
     "name": "stdout",
     "output_type": "stream",
     "text": [
      "Epoch 001/015\n"
     ]
    },
    {
     "name": "stderr",
     "output_type": "stream",
     "text": [
      "2023-11-27 08:40:15.899618: I tensorflow/core/grappler/optimizers/custom_graph_optimizer_registry.cc:117] Plugin optimizer for device_type GPU is enabled.\n"
     ]
    },
    {
     "name": "stdout",
     "output_type": "stream",
     "text": [
      "Training-Iteration: 241/625\tLR: 0.008873375                                                                                                                                                                                                                                                                                                                                                                                                                                                                                                                                                                                                                                                                                                                                                                                                                                                                                                                                                                                                                             Solved      \tLoss: 0.1474       PRC: 70.64%\t       SNS: 41.68%\t       AUC: 67.86%\t       ACC: 70.05%\t\t\t\t\t\t\t\t\t\t\t\t\t\tImprovement \tLoss: 0.2371       PRC: 58.52%\t       SNS: 56.96%\t       AUC: 58.52%\t       ACC: 60.87%\t\t\t\t\t\t\t\t\t\t\t\t\t\tStacks      \tLoss: 0.0035       PRC: 6.76%\t       SNS: 6.92%\t       AUC: 3.63%\t       ACC: 96.94%%"
     ]
    },
    {
     "ename": "KeyboardInterrupt",
     "evalue": "",
     "output_type": "error",
     "traceback": [
      "\u001b[0;31m---------------------------------------------------------------------------\u001b[0m",
      "\u001b[0;31mKeyboardInterrupt\u001b[0m                         Traceback (most recent call last)",
      "\u001b[0;32m/var/folders/j4/qmf6qmvd1gv0nctgx3m6jm3r0000gn/T/ipykernel_73305/4138865351.py\u001b[0m in \u001b[0;36m?\u001b[0;34m()\u001b[0m\n\u001b[1;32m      3\u001b[0m \u001b[0;32mfor\u001b[0m \u001b[0mepoch\u001b[0m \u001b[0;32min\u001b[0m \u001b[0mrange\u001b[0m\u001b[0;34m(\u001b[0m\u001b[0;36m1\u001b[0m\u001b[0;34m,\u001b[0m \u001b[0mn_epochs\u001b[0m \u001b[0;34m+\u001b[0m \u001b[0;36m1\u001b[0m\u001b[0;34m)\u001b[0m\u001b[0;34m:\u001b[0m\u001b[0;34m\u001b[0m\u001b[0;34m\u001b[0m\u001b[0m\n\u001b[1;32m      4\u001b[0m \u001b[0;34m\u001b[0m\u001b[0m\n\u001b[1;32m      5\u001b[0m     \u001b[0mprint\u001b[0m\u001b[0;34m(\u001b[0m\u001b[0;34mf\"Epoch {epoch:0>3}/{ n_epochs:0>3}\"\u001b[0m\u001b[0;34m)\u001b[0m\u001b[0;34m\u001b[0m\u001b[0;34m\u001b[0m\u001b[0m\n\u001b[1;32m      6\u001b[0m \u001b[0;34m\u001b[0m\u001b[0m\n\u001b[0;32m----> 7\u001b[0;31m     \u001b[0mtrack\u001b[0m \u001b[0;34m=\u001b[0m \u001b[0mrun_epoch\u001b[0m\u001b[0;34m(\u001b[0m\u001b[0mtrain_dataset\u001b[0m\u001b[0;34m,\u001b[0m \u001b[0mall_metrics\u001b[0m\u001b[0;34m,\u001b[0m \u001b[0mepoch\u001b[0m\u001b[0;34m=\u001b[0m\u001b[0mepoch\u001b[0m\u001b[0;34m,\u001b[0m \u001b[0mhistory\u001b[0m\u001b[0;34m=\u001b[0m\u001b[0mtrack\u001b[0m\u001b[0;34m,\u001b[0m \u001b[0mtraining\u001b[0m\u001b[0;34m=\u001b[0m\u001b[0;32mTrue\u001b[0m\u001b[0;34m,\u001b[0m \u001b[0mshuffle\u001b[0m\u001b[0;34m=\u001b[0m\u001b[0;32mTrue\u001b[0m\u001b[0;34m)\u001b[0m\u001b[0;34m\u001b[0m\u001b[0;34m\u001b[0m\u001b[0m\n\u001b[0m\u001b[1;32m      8\u001b[0m     \u001b[0mtrack\u001b[0m \u001b[0;34m=\u001b[0m \u001b[0mrun_epoch\u001b[0m\u001b[0;34m(\u001b[0m\u001b[0mval_dataset\u001b[0m\u001b[0;34m,\u001b[0m \u001b[0mall_metrics\u001b[0m\u001b[0;34m,\u001b[0m \u001b[0mepoch\u001b[0m\u001b[0;34m=\u001b[0m\u001b[0mepoch\u001b[0m\u001b[0;34m,\u001b[0m \u001b[0mhistory\u001b[0m\u001b[0;34m=\u001b[0m\u001b[0mtrack\u001b[0m\u001b[0;34m,\u001b[0m \u001b[0mtraining\u001b[0m\u001b[0;34m=\u001b[0m\u001b[0;32mFalse\u001b[0m\u001b[0;34m,\u001b[0m \u001b[0mshuffle\u001b[0m\u001b[0;34m=\u001b[0m\u001b[0;32mTrue\u001b[0m\u001b[0;34m)\u001b[0m\u001b[0;34m\u001b[0m\u001b[0;34m\u001b[0m\u001b[0m\n\u001b[1;32m      9\u001b[0m \u001b[0;34m\u001b[0m\u001b[0m\n\u001b[1;32m     10\u001b[0m     \u001b[0;31m# make an intermediate save of the model\u001b[0m\u001b[0;34m\u001b[0m\u001b[0;34m\u001b[0m\u001b[0m\n",
      "\u001b[0;32m/var/folders/j4/qmf6qmvd1gv0nctgx3m6jm3r0000gn/T/ipykernel_73305/102180396.py\u001b[0m in \u001b[0;36m?\u001b[0;34m(dataset, all_metrics, epoch, history, training, shuffle)\u001b[0m\n\u001b[1;32m     13\u001b[0m         \u001b[0;31m#mean_loss(loss)\u001b[0m\u001b[0;34m\u001b[0m\u001b[0;34m\u001b[0m\u001b[0m\n\u001b[1;32m     14\u001b[0m \u001b[0;34m\u001b[0m\u001b[0m\n\u001b[1;32m     15\u001b[0m         \u001b[0;32mfor\u001b[0m \u001b[0mi\u001b[0m\u001b[0;34m,\u001b[0m \u001b[0mmetrics\u001b[0m \u001b[0;32min\u001b[0m \u001b[0menumerate\u001b[0m\u001b[0;34m(\u001b[0m\u001b[0mall_metrics\u001b[0m\u001b[0;34m)\u001b[0m\u001b[0;34m:\u001b[0m\u001b[0;34m\u001b[0m\u001b[0;34m\u001b[0m\u001b[0m\n\u001b[1;32m     16\u001b[0m             \u001b[0;32mfor\u001b[0m \u001b[0mmetric\u001b[0m \u001b[0;32min\u001b[0m \u001b[0mmetrics\u001b[0m\u001b[0;34m:\u001b[0m\u001b[0;34m\u001b[0m\u001b[0;34m\u001b[0m\u001b[0m\n\u001b[0;32m---> 17\u001b[0;31m                 \u001b[0mmetric\u001b[0m\u001b[0;34m(\u001b[0m\u001b[0my_batch\u001b[0m\u001b[0;34m[\u001b[0m\u001b[0mi\u001b[0m\u001b[0;34m]\u001b[0m\u001b[0;34m.\u001b[0m\u001b[0mreshape\u001b[0m\u001b[0;34m(\u001b[0m\u001b[0;34m-\u001b[0m\u001b[0;36m1\u001b[0m\u001b[0;34m)\u001b[0m\u001b[0;34m,\u001b[0m \u001b[0moutputs\u001b[0m\u001b[0;34m[\u001b[0m\u001b[0mi\u001b[0m\u001b[0;34m]\u001b[0m\u001b[0;34m.\u001b[0m\u001b[0mnumpy\u001b[0m\u001b[0;34m(\u001b[0m\u001b[0;34m)\u001b[0m\u001b[0;34m.\u001b[0m\u001b[0mreshape\u001b[0m\u001b[0;34m(\u001b[0m\u001b[0;34m-\u001b[0m\u001b[0;36m1\u001b[0m\u001b[0;34m)\u001b[0m\u001b[0;34m)\u001b[0m\u001b[0;34m\u001b[0m\u001b[0;34m\u001b[0m\u001b[0m\n\u001b[0m\u001b[1;32m     18\u001b[0m \u001b[0;34m\u001b[0m\u001b[0m\n\u001b[1;32m     19\u001b[0m         \u001b[0mprint_status_bar\u001b[0m\u001b[0;34m(\u001b[0m\u001b[0mstep\u001b[0m\u001b[0;34m,\u001b[0m \u001b[0mlen\u001b[0m\u001b[0;34m(\u001b[0m\u001b[0mdataset\u001b[0m\u001b[0;34m)\u001b[0m\u001b[0;34m,\u001b[0m \u001b[0mmean_losses\u001b[0m\u001b[0;34m,\u001b[0m \u001b[0mall_metrics\u001b[0m\u001b[0;34m,\u001b[0m \u001b[0mtraining\u001b[0m\u001b[0;34m=\u001b[0m\u001b[0mtraining\u001b[0m\u001b[0;34m)\u001b[0m\u001b[0;34m\u001b[0m\u001b[0;34m\u001b[0m\u001b[0m\n\u001b[1;32m     20\u001b[0m \u001b[0;34m\u001b[0m\u001b[0m\n",
      "\u001b[0;32m~/Uni/MA/.venv/lib/python3.11/site-packages/keras/src/metrics/base_metric.py\u001b[0m in \u001b[0;36m?\u001b[0;34m(self, *args, **kwargs)\u001b[0m\n\u001b[1;32m    212\u001b[0m         from keras.src.distribute import (\n\u001b[1;32m    213\u001b[0m             \u001b[0mdistributed_training_utils\u001b[0m\u001b[0;34m,\u001b[0m\u001b[0;34m\u001b[0m\u001b[0;34m\u001b[0m\u001b[0m\n\u001b[1;32m    214\u001b[0m         )\n\u001b[1;32m    215\u001b[0m \u001b[0;34m\u001b[0m\u001b[0m\n\u001b[0;32m--> 216\u001b[0;31m         return distributed_training_utils.call_replica_local_fn(\n\u001b[0m\u001b[1;32m    217\u001b[0m             \u001b[0mreplica_local_fn\u001b[0m\u001b[0;34m,\u001b[0m \u001b[0;34m*\u001b[0m\u001b[0margs\u001b[0m\u001b[0;34m,\u001b[0m \u001b[0;34m**\u001b[0m\u001b[0mkwargs\u001b[0m\u001b[0;34m\u001b[0m\u001b[0;34m\u001b[0m\u001b[0m\n\u001b[1;32m    218\u001b[0m         )\n",
      "\u001b[0;32m~/Uni/MA/.venv/lib/python3.11/site-packages/keras/src/distribute/distributed_training_utils.py\u001b[0m in \u001b[0;36m?\u001b[0;34m(fn, *args, **kwargs)\u001b[0m\n\u001b[1;32m     58\u001b[0m     \u001b[0mis_tpu\u001b[0m \u001b[0;34m=\u001b[0m \u001b[0mbackend\u001b[0m\u001b[0;34m.\u001b[0m\u001b[0mis_tpu_strategy\u001b[0m\u001b[0;34m(\u001b[0m\u001b[0mstrategy\u001b[0m\u001b[0;34m)\u001b[0m\u001b[0;34m\u001b[0m\u001b[0;34m\u001b[0m\u001b[0m\n\u001b[1;32m     59\u001b[0m     \u001b[0;32mif\u001b[0m \u001b[0;34m(\u001b[0m\u001b[0;32mnot\u001b[0m \u001b[0mis_tpu\u001b[0m\u001b[0;34m)\u001b[0m \u001b[0;32mand\u001b[0m \u001b[0mstrategy\u001b[0m \u001b[0;32mand\u001b[0m \u001b[0mtf\u001b[0m\u001b[0;34m.\u001b[0m\u001b[0mdistribute\u001b[0m\u001b[0;34m.\u001b[0m\u001b[0min_cross_replica_context\u001b[0m\u001b[0;34m(\u001b[0m\u001b[0;34m)\u001b[0m\u001b[0;34m:\u001b[0m\u001b[0;34m\u001b[0m\u001b[0;34m\u001b[0m\u001b[0m\n\u001b[1;32m     60\u001b[0m         \u001b[0;32mwith\u001b[0m \u001b[0mstrategy\u001b[0m\u001b[0;34m.\u001b[0m\u001b[0mscope\u001b[0m\u001b[0;34m(\u001b[0m\u001b[0;34m)\u001b[0m\u001b[0;34m:\u001b[0m\u001b[0;34m\u001b[0m\u001b[0;34m\u001b[0m\u001b[0m\n\u001b[1;32m     61\u001b[0m             \u001b[0;32mreturn\u001b[0m \u001b[0mstrategy\u001b[0m\u001b[0;34m.\u001b[0m\u001b[0mextended\u001b[0m\u001b[0;34m.\u001b[0m\u001b[0mcall_for_each_replica\u001b[0m\u001b[0;34m(\u001b[0m\u001b[0mfn\u001b[0m\u001b[0;34m,\u001b[0m \u001b[0margs\u001b[0m\u001b[0;34m,\u001b[0m \u001b[0mkwargs\u001b[0m\u001b[0;34m)\u001b[0m\u001b[0;34m\u001b[0m\u001b[0;34m\u001b[0m\u001b[0m\n\u001b[0;32m---> 62\u001b[0;31m     \u001b[0;32mreturn\u001b[0m \u001b[0mfn\u001b[0m\u001b[0;34m(\u001b[0m\u001b[0;34m*\u001b[0m\u001b[0margs\u001b[0m\u001b[0;34m,\u001b[0m \u001b[0;34m**\u001b[0m\u001b[0mkwargs\u001b[0m\u001b[0;34m)\u001b[0m\u001b[0;34m\u001b[0m\u001b[0;34m\u001b[0m\u001b[0m\n\u001b[0m",
      "\u001b[0;32m~/Uni/MA/.venv/lib/python3.11/site-packages/keras/src/metrics/base_metric.py\u001b[0m in \u001b[0;36m?\u001b[0;34m(*args, **kwargs)\u001b[0m\n\u001b[1;32m    183\u001b[0m                 \u001b[0;32mfor\u001b[0m \u001b[0marg\u001b[0m \u001b[0;32min\u001b[0m \u001b[0mtf\u001b[0m\u001b[0;34m.\u001b[0m\u001b[0mnest\u001b[0m\u001b[0;34m.\u001b[0m\u001b[0mflatten\u001b[0m\u001b[0;34m(\u001b[0m\u001b[0;34m(\u001b[0m\u001b[0margs\u001b[0m\u001b[0;34m,\u001b[0m \u001b[0mkwargs\u001b[0m\u001b[0;34m)\u001b[0m\u001b[0;34m)\u001b[0m\u001b[0;34m\u001b[0m\u001b[0;34m\u001b[0m\u001b[0m\n\u001b[1;32m    184\u001b[0m             ):\n\u001b[1;32m    185\u001b[0m                 \u001b[0mupdate_op\u001b[0m \u001b[0;34m=\u001b[0m \u001b[0;32mNone\u001b[0m\u001b[0;34m\u001b[0m\u001b[0;34m\u001b[0m\u001b[0m\n\u001b[1;32m    186\u001b[0m             \u001b[0;32melse\u001b[0m\u001b[0;34m:\u001b[0m\u001b[0;34m\u001b[0m\u001b[0;34m\u001b[0m\u001b[0m\n\u001b[0;32m--> 187\u001b[0;31m                 \u001b[0mupdate_op\u001b[0m \u001b[0;34m=\u001b[0m \u001b[0mself\u001b[0m\u001b[0;34m.\u001b[0m\u001b[0mupdate_state\u001b[0m\u001b[0;34m(\u001b[0m\u001b[0;34m*\u001b[0m\u001b[0margs\u001b[0m\u001b[0;34m,\u001b[0m \u001b[0;34m**\u001b[0m\u001b[0mkwargs\u001b[0m\u001b[0;34m)\u001b[0m\u001b[0;34m\u001b[0m\u001b[0;34m\u001b[0m\u001b[0m\n\u001b[0m\u001b[1;32m    188\u001b[0m             \u001b[0mupdate_ops\u001b[0m \u001b[0;34m=\u001b[0m \u001b[0;34m[\u001b[0m\u001b[0;34m]\u001b[0m\u001b[0;34m\u001b[0m\u001b[0;34m\u001b[0m\u001b[0m\n\u001b[1;32m    189\u001b[0m             \u001b[0;32mif\u001b[0m \u001b[0mupdate_op\u001b[0m \u001b[0;32mis\u001b[0m \u001b[0;32mnot\u001b[0m \u001b[0;32mNone\u001b[0m\u001b[0;34m:\u001b[0m\u001b[0;34m\u001b[0m\u001b[0;34m\u001b[0m\u001b[0m\n\u001b[1;32m    190\u001b[0m                 \u001b[0mupdate_ops\u001b[0m\u001b[0;34m.\u001b[0m\u001b[0mappend\u001b[0m\u001b[0;34m(\u001b[0m\u001b[0mupdate_op\u001b[0m\u001b[0;34m)\u001b[0m\u001b[0;34m\u001b[0m\u001b[0;34m\u001b[0m\u001b[0m\n",
      "\u001b[0;32m~/Uni/MA/.venv/lib/python3.11/site-packages/keras/src/utils/metrics_utils.py\u001b[0m in \u001b[0;36m?\u001b[0;34m(metric_obj, *args, **kwargs)\u001b[0m\n\u001b[1;32m     73\u001b[0m                     \u001b[0;34m\"scope. \"\u001b[0m\u001b[0;34m\u001b[0m\u001b[0;34m\u001b[0m\u001b[0m\n\u001b[1;32m     74\u001b[0m                 )\n\u001b[1;32m     75\u001b[0m \u001b[0;34m\u001b[0m\u001b[0m\n\u001b[1;32m     76\u001b[0m         \u001b[0;32mwith\u001b[0m \u001b[0mtf_utils\u001b[0m\u001b[0;34m.\u001b[0m\u001b[0mgraph_context_for_symbolic_tensors\u001b[0m\u001b[0;34m(\u001b[0m\u001b[0;34m*\u001b[0m\u001b[0margs\u001b[0m\u001b[0;34m,\u001b[0m \u001b[0;34m**\u001b[0m\u001b[0mkwargs\u001b[0m\u001b[0;34m)\u001b[0m\u001b[0;34m:\u001b[0m\u001b[0;34m\u001b[0m\u001b[0;34m\u001b[0m\u001b[0m\n\u001b[0;32m---> 77\u001b[0;31m             \u001b[0mresult\u001b[0m \u001b[0;34m=\u001b[0m \u001b[0mupdate_state_fn\u001b[0m\u001b[0;34m(\u001b[0m\u001b[0;34m*\u001b[0m\u001b[0margs\u001b[0m\u001b[0;34m,\u001b[0m \u001b[0;34m**\u001b[0m\u001b[0mkwargs\u001b[0m\u001b[0;34m)\u001b[0m\u001b[0;34m\u001b[0m\u001b[0;34m\u001b[0m\u001b[0m\n\u001b[0m\u001b[1;32m     78\u001b[0m         \u001b[0;32mif\u001b[0m \u001b[0;32mnot\u001b[0m \u001b[0mtf\u001b[0m\u001b[0;34m.\u001b[0m\u001b[0mexecuting_eagerly\u001b[0m\u001b[0;34m(\u001b[0m\u001b[0;34m)\u001b[0m\u001b[0;34m:\u001b[0m\u001b[0;34m\u001b[0m\u001b[0;34m\u001b[0m\u001b[0m\n\u001b[1;32m     79\u001b[0m             \u001b[0mresult\u001b[0m \u001b[0;34m=\u001b[0m \u001b[0mtf\u001b[0m\u001b[0;34m.\u001b[0m\u001b[0mcompat\u001b[0m\u001b[0;34m.\u001b[0m\u001b[0mv1\u001b[0m\u001b[0;34m.\u001b[0m\u001b[0mget_default_graph\u001b[0m\u001b[0;34m(\u001b[0m\u001b[0;34m)\u001b[0m\u001b[0;34m.\u001b[0m\u001b[0mget_operations\u001b[0m\u001b[0;34m(\u001b[0m\u001b[0;34m)\u001b[0m\u001b[0;34m[\u001b[0m\u001b[0;34m-\u001b[0m\u001b[0;36m1\u001b[0m\u001b[0;34m]\u001b[0m\u001b[0;34m\u001b[0m\u001b[0;34m\u001b[0m\u001b[0m\n\u001b[1;32m     80\u001b[0m             \u001b[0mmetric_obj\u001b[0m\u001b[0;34m.\u001b[0m\u001b[0madd_update\u001b[0m\u001b[0;34m(\u001b[0m\u001b[0mresult\u001b[0m\u001b[0;34m)\u001b[0m\u001b[0;34m\u001b[0m\u001b[0;34m\u001b[0m\u001b[0m\n",
      "\u001b[0;32m~/Uni/MA/.venv/lib/python3.11/site-packages/keras/src/metrics/base_metric.py\u001b[0m in \u001b[0;36m?\u001b[0;34m(*args, **kwargs)\u001b[0m\n\u001b[1;32m    136\u001b[0m                 \u001b[0mcontrol_status\u001b[0m \u001b[0;34m=\u001b[0m \u001b[0mtf\u001b[0m\u001b[0;34m.\u001b[0m\u001b[0m__internal__\u001b[0m\u001b[0;34m.\u001b[0m\u001b[0mautograph\u001b[0m\u001b[0;34m.\u001b[0m\u001b[0mcontrol_status_ctx\u001b[0m\u001b[0;34m(\u001b[0m\u001b[0;34m)\u001b[0m\u001b[0;34m\u001b[0m\u001b[0;34m\u001b[0m\u001b[0m\n\u001b[1;32m    137\u001b[0m                 ag_update_state = tf.__internal__.autograph.tf_convert(\n\u001b[1;32m    138\u001b[0m                     \u001b[0mobj_update_state\u001b[0m\u001b[0;34m,\u001b[0m \u001b[0mcontrol_status\u001b[0m\u001b[0;34m\u001b[0m\u001b[0;34m\u001b[0m\u001b[0m\n\u001b[1;32m    139\u001b[0m                 )\n\u001b[0;32m--> 140\u001b[0;31m                 \u001b[0;32mreturn\u001b[0m \u001b[0mag_update_state\u001b[0m\u001b[0;34m(\u001b[0m\u001b[0;34m*\u001b[0m\u001b[0margs\u001b[0m\u001b[0;34m,\u001b[0m \u001b[0;34m**\u001b[0m\u001b[0mkwargs\u001b[0m\u001b[0;34m)\u001b[0m\u001b[0;34m\u001b[0m\u001b[0;34m\u001b[0m\u001b[0m\n\u001b[0m",
      "\u001b[0;32m~/Uni/MA/.venv/lib/python3.11/site-packages/tensorflow/python/autograph/impl/api.py\u001b[0m in \u001b[0;36m?\u001b[0;34m(*args, **kwargs)\u001b[0m\n\u001b[1;32m    687\u001b[0m           optional_features=optional_features)\n\u001b[1;32m    688\u001b[0m       \u001b[0;32mtry\u001b[0m\u001b[0;34m:\u001b[0m\u001b[0;34m\u001b[0m\u001b[0;34m\u001b[0m\u001b[0m\n\u001b[1;32m    689\u001b[0m         \u001b[0;32mwith\u001b[0m \u001b[0mconversion_ctx\u001b[0m\u001b[0;34m:\u001b[0m\u001b[0;34m\u001b[0m\u001b[0;34m\u001b[0m\u001b[0m\n\u001b[1;32m    690\u001b[0m           \u001b[0;32mreturn\u001b[0m \u001b[0mconverted_call\u001b[0m\u001b[0;34m(\u001b[0m\u001b[0mf\u001b[0m\u001b[0;34m,\u001b[0m \u001b[0margs\u001b[0m\u001b[0;34m,\u001b[0m \u001b[0mkwargs\u001b[0m\u001b[0;34m,\u001b[0m \u001b[0moptions\u001b[0m\u001b[0;34m=\u001b[0m\u001b[0moptions\u001b[0m\u001b[0;34m)\u001b[0m\u001b[0;34m\u001b[0m\u001b[0;34m\u001b[0m\u001b[0m\n\u001b[0;32m--> 691\u001b[0;31m       \u001b[0;32mexcept\u001b[0m \u001b[0mException\u001b[0m \u001b[0;32mas\u001b[0m \u001b[0me\u001b[0m\u001b[0;34m:\u001b[0m  \u001b[0;31m# pylint:disable=broad-except\u001b[0m\u001b[0;34m\u001b[0m\u001b[0;34m\u001b[0m\u001b[0m\n\u001b[0m\u001b[1;32m    692\u001b[0m         \u001b[0;32mif\u001b[0m \u001b[0mhasattr\u001b[0m\u001b[0;34m(\u001b[0m\u001b[0me\u001b[0m\u001b[0;34m,\u001b[0m \u001b[0;34m'ag_error_metadata'\u001b[0m\u001b[0;34m)\u001b[0m\u001b[0;34m:\u001b[0m\u001b[0;34m\u001b[0m\u001b[0;34m\u001b[0m\u001b[0m\n\u001b[1;32m    693\u001b[0m           \u001b[0;32mraise\u001b[0m \u001b[0me\u001b[0m\u001b[0;34m.\u001b[0m\u001b[0mag_error_metadata\u001b[0m\u001b[0;34m.\u001b[0m\u001b[0mto_exception\u001b[0m\u001b[0;34m(\u001b[0m\u001b[0me\u001b[0m\u001b[0;34m)\u001b[0m\u001b[0;34m\u001b[0m\u001b[0;34m\u001b[0m\u001b[0m\n\u001b[1;32m    694\u001b[0m         \u001b[0;32melse\u001b[0m\u001b[0;34m:\u001b[0m\u001b[0;34m\u001b[0m\u001b[0;34m\u001b[0m\u001b[0m\n",
      "\u001b[0;32m~/Uni/MA/.venv/lib/python3.11/site-packages/tensorflow/python/autograph/impl/api.py\u001b[0m in \u001b[0;36m?\u001b[0;34m(f, args, kwargs, caller_fn_scope, options)\u001b[0m\n\u001b[1;32m    327\u001b[0m     \u001b[0moptions\u001b[0m \u001b[0;34m=\u001b[0m \u001b[0mcaller_fn_scope\u001b[0m\u001b[0;34m.\u001b[0m\u001b[0mcallopts\u001b[0m\u001b[0;34m\u001b[0m\u001b[0;34m\u001b[0m\u001b[0m\n\u001b[1;32m    328\u001b[0m \u001b[0;34m\u001b[0m\u001b[0m\n\u001b[1;32m    329\u001b[0m   \u001b[0;32mif\u001b[0m \u001b[0mconversion\u001b[0m\u001b[0;34m.\u001b[0m\u001b[0mis_in_allowlist_cache\u001b[0m\u001b[0;34m(\u001b[0m\u001b[0mf\u001b[0m\u001b[0;34m,\u001b[0m \u001b[0moptions\u001b[0m\u001b[0;34m)\u001b[0m\u001b[0;34m:\u001b[0m\u001b[0;34m\u001b[0m\u001b[0;34m\u001b[0m\u001b[0m\n\u001b[1;32m    330\u001b[0m     \u001b[0mlogging\u001b[0m\u001b[0;34m.\u001b[0m\u001b[0mlog\u001b[0m\u001b[0;34m(\u001b[0m\u001b[0;36m2\u001b[0m\u001b[0;34m,\u001b[0m \u001b[0;34m'Allowlisted %s: from cache'\u001b[0m\u001b[0;34m,\u001b[0m \u001b[0mf\u001b[0m\u001b[0;34m)\u001b[0m\u001b[0;34m\u001b[0m\u001b[0;34m\u001b[0m\u001b[0m\n\u001b[0;32m--> 331\u001b[0;31m     \u001b[0;32mreturn\u001b[0m \u001b[0m_call_unconverted\u001b[0m\u001b[0;34m(\u001b[0m\u001b[0mf\u001b[0m\u001b[0;34m,\u001b[0m \u001b[0margs\u001b[0m\u001b[0;34m,\u001b[0m \u001b[0mkwargs\u001b[0m\u001b[0;34m,\u001b[0m \u001b[0moptions\u001b[0m\u001b[0;34m,\u001b[0m \u001b[0;32mFalse\u001b[0m\u001b[0;34m)\u001b[0m\u001b[0;34m\u001b[0m\u001b[0;34m\u001b[0m\u001b[0m\n\u001b[0m\u001b[1;32m    332\u001b[0m \u001b[0;34m\u001b[0m\u001b[0m\n\u001b[1;32m    333\u001b[0m   \u001b[0;32mif\u001b[0m \u001b[0mag_ctx\u001b[0m\u001b[0;34m.\u001b[0m\u001b[0mcontrol_status_ctx\u001b[0m\u001b[0;34m(\u001b[0m\u001b[0;34m)\u001b[0m\u001b[0;34m.\u001b[0m\u001b[0mstatus\u001b[0m \u001b[0;34m==\u001b[0m \u001b[0mag_ctx\u001b[0m\u001b[0;34m.\u001b[0m\u001b[0mStatus\u001b[0m\u001b[0;34m.\u001b[0m\u001b[0mDISABLED\u001b[0m\u001b[0;34m:\u001b[0m\u001b[0;34m\u001b[0m\u001b[0;34m\u001b[0m\u001b[0m\n\u001b[1;32m    334\u001b[0m     \u001b[0mlogging\u001b[0m\u001b[0;34m.\u001b[0m\u001b[0mlog\u001b[0m\u001b[0;34m(\u001b[0m\u001b[0;36m2\u001b[0m\u001b[0;34m,\u001b[0m \u001b[0;34m'Allowlisted: %s: AutoGraph is disabled in context'\u001b[0m\u001b[0;34m,\u001b[0m \u001b[0mf\u001b[0m\u001b[0;34m)\u001b[0m\u001b[0;34m\u001b[0m\u001b[0;34m\u001b[0m\u001b[0m\n",
      "\u001b[0;32m~/Uni/MA/.venv/lib/python3.11/site-packages/tensorflow/python/autograph/impl/api.py\u001b[0m in \u001b[0;36m?\u001b[0;34m(f, args, kwargs, options, update_cache)\u001b[0m\n\u001b[1;32m    455\u001b[0m       isinstance(f.__self__, tf_method_target.TfMethodTarget)):\n\u001b[1;32m    456\u001b[0m     \u001b[0;32mreturn\u001b[0m \u001b[0mf\u001b[0m\u001b[0;34m.\u001b[0m\u001b[0m__self__\u001b[0m\u001b[0;34m.\u001b[0m\u001b[0mcall\u001b[0m\u001b[0;34m(\u001b[0m\u001b[0margs\u001b[0m\u001b[0;34m,\u001b[0m \u001b[0mkwargs\u001b[0m\u001b[0;34m)\u001b[0m\u001b[0;34m\u001b[0m\u001b[0;34m\u001b[0m\u001b[0m\n\u001b[1;32m    457\u001b[0m \u001b[0;34m\u001b[0m\u001b[0m\n\u001b[1;32m    458\u001b[0m   \u001b[0;32mif\u001b[0m \u001b[0mkwargs\u001b[0m \u001b[0;32mis\u001b[0m \u001b[0;32mnot\u001b[0m \u001b[0;32mNone\u001b[0m\u001b[0;34m:\u001b[0m\u001b[0;34m\u001b[0m\u001b[0;34m\u001b[0m\u001b[0m\n\u001b[0;32m--> 459\u001b[0;31m     \u001b[0;32mreturn\u001b[0m \u001b[0mf\u001b[0m\u001b[0;34m(\u001b[0m\u001b[0;34m*\u001b[0m\u001b[0margs\u001b[0m\u001b[0;34m,\u001b[0m \u001b[0;34m**\u001b[0m\u001b[0mkwargs\u001b[0m\u001b[0;34m)\u001b[0m\u001b[0;34m\u001b[0m\u001b[0;34m\u001b[0m\u001b[0m\n\u001b[0m\u001b[1;32m    460\u001b[0m   \u001b[0;32mreturn\u001b[0m \u001b[0mf\u001b[0m\u001b[0;34m(\u001b[0m\u001b[0;34m*\u001b[0m\u001b[0margs\u001b[0m\u001b[0;34m)\u001b[0m\u001b[0;34m\u001b[0m\u001b[0;34m\u001b[0m\u001b[0m\n",
      "\u001b[0;32m~/Uni/MA/.venv/lib/python3.11/site-packages/keras/src/metrics/confusion_metrics.py\u001b[0m in \u001b[0;36m?\u001b[0;34m(self, y_true, y_pred, sample_weight)\u001b[0m\n\u001b[1;32m    612\u001b[0m \u001b[0;34m\u001b[0m\u001b[0m\n\u001b[1;32m    613\u001b[0m         \u001b[0mReturns\u001b[0m\u001b[0;34m:\u001b[0m\u001b[0;34m\u001b[0m\u001b[0;34m\u001b[0m\u001b[0m\n\u001b[1;32m    614\u001b[0m           \u001b[0mUpdate\u001b[0m \u001b[0mop\u001b[0m\u001b[0;34m.\u001b[0m\u001b[0;34m\u001b[0m\u001b[0;34m\u001b[0m\u001b[0m\n\u001b[1;32m    615\u001b[0m         \"\"\"\n\u001b[0;32m--> 616\u001b[0;31m         return metrics_utils.update_confusion_matrix_variables(\n\u001b[0m\u001b[1;32m    617\u001b[0m             {\n\u001b[1;32m    618\u001b[0m                 \u001b[0mmetrics_utils\u001b[0m\u001b[0;34m.\u001b[0m\u001b[0mConfusionMatrix\u001b[0m\u001b[0;34m.\u001b[0m\u001b[0mTRUE_POSITIVES\u001b[0m\u001b[0;34m:\u001b[0m \u001b[0mself\u001b[0m\u001b[0;34m.\u001b[0m\u001b[0mtrue_positives\u001b[0m\u001b[0;34m,\u001b[0m  \u001b[0;31m# noqa: E501\u001b[0m\u001b[0;34m\u001b[0m\u001b[0;34m\u001b[0m\u001b[0m\n\u001b[1;32m    619\u001b[0m                 \u001b[0mmetrics_utils\u001b[0m\u001b[0;34m.\u001b[0m\u001b[0mConfusionMatrix\u001b[0m\u001b[0;34m.\u001b[0m\u001b[0mFALSE_NEGATIVES\u001b[0m\u001b[0;34m:\u001b[0m \u001b[0mself\u001b[0m\u001b[0;34m.\u001b[0m\u001b[0mfalse_negatives\u001b[0m\u001b[0;34m,\u001b[0m  \u001b[0;31m# noqa: E501\u001b[0m\u001b[0;34m\u001b[0m\u001b[0;34m\u001b[0m\u001b[0m\n",
      "\u001b[0;32m~/Uni/MA/.venv/lib/python3.11/site-packages/keras/src/utils/metrics_utils.py\u001b[0m in \u001b[0;36m?\u001b[0;34m(variables_to_update, y_true, y_pred, thresholds, top_k, class_id, sample_weight, multi_label, label_weights, thresholds_distributed_evenly)\u001b[0m\n\u001b[1;32m    706\u001b[0m         \u001b[0mlabels_extra_dim\u001b[0m \u001b[0;34m=\u001b[0m \u001b[0mtf\u001b[0m\u001b[0;34m.\u001b[0m\u001b[0mexpand_dims\u001b[0m\u001b[0;34m(\u001b[0m\u001b[0mtf\u001b[0m\u001b[0;34m.\u001b[0m\u001b[0mcast\u001b[0m\u001b[0;34m(\u001b[0m\u001b[0my_true\u001b[0m\u001b[0;34m,\u001b[0m \u001b[0mdtype\u001b[0m\u001b[0;34m=\u001b[0m\u001b[0mtf\u001b[0m\u001b[0;34m.\u001b[0m\u001b[0mbool\u001b[0m\u001b[0;34m)\u001b[0m\u001b[0;34m,\u001b[0m \u001b[0;36m0\u001b[0m\u001b[0;34m)\u001b[0m\u001b[0;34m\u001b[0m\u001b[0;34m\u001b[0m\u001b[0m\n\u001b[1;32m    707\u001b[0m     \u001b[0;32melse\u001b[0m\u001b[0;34m:\u001b[0m\u001b[0;34m\u001b[0m\u001b[0;34m\u001b[0m\u001b[0m\n\u001b[1;32m    708\u001b[0m         \u001b[0;31m# Flatten predictions and labels when not multilabel.\u001b[0m\u001b[0;34m\u001b[0m\u001b[0;34m\u001b[0m\u001b[0m\n\u001b[1;32m    709\u001b[0m         \u001b[0mpredictions_extra_dim\u001b[0m \u001b[0;34m=\u001b[0m \u001b[0mtf\u001b[0m\u001b[0;34m.\u001b[0m\u001b[0mreshape\u001b[0m\u001b[0;34m(\u001b[0m\u001b[0my_pred\u001b[0m\u001b[0;34m,\u001b[0m \u001b[0;34m[\u001b[0m\u001b[0;36m1\u001b[0m\u001b[0;34m,\u001b[0m \u001b[0;34m-\u001b[0m\u001b[0;36m1\u001b[0m\u001b[0;34m]\u001b[0m\u001b[0;34m)\u001b[0m\u001b[0;34m\u001b[0m\u001b[0;34m\u001b[0m\u001b[0m\n\u001b[0;32m--> 710\u001b[0;31m         \u001b[0mlabels_extra_dim\u001b[0m \u001b[0;34m=\u001b[0m \u001b[0mtf\u001b[0m\u001b[0;34m.\u001b[0m\u001b[0mreshape\u001b[0m\u001b[0;34m(\u001b[0m\u001b[0mtf\u001b[0m\u001b[0;34m.\u001b[0m\u001b[0mcast\u001b[0m\u001b[0;34m(\u001b[0m\u001b[0my_true\u001b[0m\u001b[0;34m,\u001b[0m \u001b[0mdtype\u001b[0m\u001b[0;34m=\u001b[0m\u001b[0mtf\u001b[0m\u001b[0;34m.\u001b[0m\u001b[0mbool\u001b[0m\u001b[0;34m)\u001b[0m\u001b[0;34m,\u001b[0m \u001b[0;34m[\u001b[0m\u001b[0;36m1\u001b[0m\u001b[0;34m,\u001b[0m \u001b[0;34m-\u001b[0m\u001b[0;36m1\u001b[0m\u001b[0;34m]\u001b[0m\u001b[0;34m)\u001b[0m\u001b[0;34m\u001b[0m\u001b[0;34m\u001b[0m\u001b[0m\n\u001b[0m\u001b[1;32m    711\u001b[0m \u001b[0;34m\u001b[0m\u001b[0m\n\u001b[1;32m    712\u001b[0m     \u001b[0;31m# Tile the thresholds for every prediction.\u001b[0m\u001b[0;34m\u001b[0m\u001b[0;34m\u001b[0m\u001b[0m\n\u001b[1;32m    713\u001b[0m     \u001b[0;32mif\u001b[0m \u001b[0mmulti_label\u001b[0m\u001b[0;34m:\u001b[0m\u001b[0;34m\u001b[0m\u001b[0;34m\u001b[0m\u001b[0m\n",
      "\u001b[0;32m~/Uni/MA/.venv/lib/python3.11/site-packages/tensorflow/python/util/traceback_utils.py\u001b[0m in \u001b[0;36m?\u001b[0;34m(*args, **kwargs)\u001b[0m\n\u001b[1;32m    151\u001b[0m     \u001b[0;32mexcept\u001b[0m \u001b[0mException\u001b[0m \u001b[0;32mas\u001b[0m \u001b[0me\u001b[0m\u001b[0;34m:\u001b[0m\u001b[0;34m\u001b[0m\u001b[0;34m\u001b[0m\u001b[0m\n\u001b[1;32m    152\u001b[0m       \u001b[0mfiltered_tb\u001b[0m \u001b[0;34m=\u001b[0m \u001b[0m_process_traceback_frames\u001b[0m\u001b[0;34m(\u001b[0m\u001b[0me\u001b[0m\u001b[0;34m.\u001b[0m\u001b[0m__traceback__\u001b[0m\u001b[0;34m)\u001b[0m\u001b[0;34m\u001b[0m\u001b[0;34m\u001b[0m\u001b[0m\n\u001b[1;32m    153\u001b[0m       \u001b[0;32mraise\u001b[0m \u001b[0me\u001b[0m\u001b[0;34m.\u001b[0m\u001b[0mwith_traceback\u001b[0m\u001b[0;34m(\u001b[0m\u001b[0mfiltered_tb\u001b[0m\u001b[0;34m)\u001b[0m \u001b[0;32mfrom\u001b[0m \u001b[0;32mNone\u001b[0m\u001b[0;34m\u001b[0m\u001b[0;34m\u001b[0m\u001b[0m\n\u001b[1;32m    154\u001b[0m     \u001b[0;32mfinally\u001b[0m\u001b[0;34m:\u001b[0m\u001b[0;34m\u001b[0m\u001b[0;34m\u001b[0m\u001b[0m\n\u001b[0;32m--> 155\u001b[0;31m       \u001b[0;32mdel\u001b[0m \u001b[0mfiltered_tb\u001b[0m\u001b[0;34m\u001b[0m\u001b[0;34m\u001b[0m\u001b[0m\n\u001b[0m",
      "\u001b[0;32m~/Uni/MA/.venv/lib/python3.11/site-packages/tensorflow/python/util/dispatch.py\u001b[0m in \u001b[0;36m?\u001b[0;34m(*args, **kwargs)\u001b[0m\n\u001b[1;32m   1257\u001b[0m \u001b[0;34m\u001b[0m\u001b[0m\n\u001b[1;32m   1258\u001b[0m       \u001b[0;31m# Fallback dispatch system (dispatch v1):\u001b[0m\u001b[0;34m\u001b[0m\u001b[0;34m\u001b[0m\u001b[0m\n\u001b[1;32m   1259\u001b[0m       \u001b[0;32mtry\u001b[0m\u001b[0;34m:\u001b[0m\u001b[0;34m\u001b[0m\u001b[0;34m\u001b[0m\u001b[0m\n\u001b[1;32m   1260\u001b[0m         \u001b[0;32mreturn\u001b[0m \u001b[0mdispatch_target\u001b[0m\u001b[0;34m(\u001b[0m\u001b[0;34m*\u001b[0m\u001b[0margs\u001b[0m\u001b[0;34m,\u001b[0m \u001b[0;34m**\u001b[0m\u001b[0mkwargs\u001b[0m\u001b[0;34m)\u001b[0m\u001b[0;34m\u001b[0m\u001b[0;34m\u001b[0m\u001b[0m\n\u001b[0;32m-> 1261\u001b[0;31m       \u001b[0;32mexcept\u001b[0m \u001b[0;34m(\u001b[0m\u001b[0mTypeError\u001b[0m\u001b[0;34m,\u001b[0m \u001b[0mValueError\u001b[0m\u001b[0;34m)\u001b[0m\u001b[0;34m:\u001b[0m\u001b[0;34m\u001b[0m\u001b[0;34m\u001b[0m\u001b[0m\n\u001b[0m\u001b[1;32m   1262\u001b[0m         \u001b[0;31m# Note: convert_to_eager_tensor currently raises a ValueError, not a\u001b[0m\u001b[0;34m\u001b[0m\u001b[0;34m\u001b[0m\u001b[0m\n\u001b[1;32m   1263\u001b[0m         \u001b[0;31m# TypeError, when given unexpected types.  So we need to catch both.\u001b[0m\u001b[0;34m\u001b[0m\u001b[0;34m\u001b[0m\u001b[0m\n\u001b[1;32m   1264\u001b[0m         \u001b[0mresult\u001b[0m \u001b[0;34m=\u001b[0m \u001b[0mdispatch\u001b[0m\u001b[0;34m(\u001b[0m\u001b[0mop_dispatch_handler\u001b[0m\u001b[0;34m,\u001b[0m \u001b[0margs\u001b[0m\u001b[0;34m,\u001b[0m \u001b[0mkwargs\u001b[0m\u001b[0;34m)\u001b[0m\u001b[0;34m\u001b[0m\u001b[0;34m\u001b[0m\u001b[0m\n",
      "\u001b[0;32m~/Uni/MA/.venv/lib/python3.11/site-packages/tensorflow/python/ops/math_ops.py\u001b[0m in \u001b[0;36m?\u001b[0;34m(x, dtype, name)\u001b[0m\n\u001b[1;32m   1019\u001b[0m             \u001b[0;34m\"discard the imaginary part and may not be what you \"\u001b[0m\u001b[0;34m\u001b[0m\u001b[0;34m\u001b[0m\u001b[0m\n\u001b[1;32m   1020\u001b[0m             \u001b[0;34m\"intended.\"\u001b[0m\u001b[0;34m\u001b[0m\u001b[0;34m\u001b[0m\u001b[0m\n\u001b[1;32m   1021\u001b[0m         )\n\u001b[1;32m   1022\u001b[0m       \u001b[0;32mif\u001b[0m \u001b[0mx\u001b[0m\u001b[0;34m.\u001b[0m\u001b[0mdtype\u001b[0m \u001b[0;34m!=\u001b[0m \u001b[0mbase_type\u001b[0m\u001b[0;34m:\u001b[0m\u001b[0;34m\u001b[0m\u001b[0;34m\u001b[0m\u001b[0m\n\u001b[0;32m-> 1023\u001b[0;31m         \u001b[0mx\u001b[0m \u001b[0;34m=\u001b[0m \u001b[0mgen_math_ops\u001b[0m\u001b[0;34m.\u001b[0m\u001b[0mcast\u001b[0m\u001b[0;34m(\u001b[0m\u001b[0mx\u001b[0m\u001b[0;34m,\u001b[0m \u001b[0mbase_type\u001b[0m\u001b[0;34m,\u001b[0m \u001b[0mname\u001b[0m\u001b[0;34m=\u001b[0m\u001b[0mname\u001b[0m\u001b[0;34m)\u001b[0m\u001b[0;34m\u001b[0m\u001b[0;34m\u001b[0m\u001b[0m\n\u001b[0m\u001b[1;32m   1024\u001b[0m     \u001b[0;32mreturn\u001b[0m \u001b[0mx\u001b[0m\u001b[0;34m\u001b[0m\u001b[0;34m\u001b[0m\u001b[0m\n",
      "\u001b[0;32m~/Uni/MA/.venv/lib/python3.11/site-packages/tensorflow/python/ops/gen_math_ops.py\u001b[0m in \u001b[0;36m?\u001b[0;34m(x, DstT, Truncate, name)\u001b[0m\n\u001b[1;32m   2056\u001b[0m         _ctx, \"Cast\", name, x, \"DstT\", DstT, \"Truncate\", Truncate)\n\u001b[1;32m   2057\u001b[0m       \u001b[0;32mreturn\u001b[0m \u001b[0m_result\u001b[0m\u001b[0;34m\u001b[0m\u001b[0;34m\u001b[0m\u001b[0m\n\u001b[1;32m   2058\u001b[0m     \u001b[0;32mexcept\u001b[0m \u001b[0m_core\u001b[0m\u001b[0;34m.\u001b[0m\u001b[0m_NotOkStatusException\u001b[0m \u001b[0;32mas\u001b[0m \u001b[0me\u001b[0m\u001b[0;34m:\u001b[0m\u001b[0;34m\u001b[0m\u001b[0;34m\u001b[0m\u001b[0m\n\u001b[1;32m   2059\u001b[0m       \u001b[0m_ops\u001b[0m\u001b[0;34m.\u001b[0m\u001b[0mraise_from_not_ok_status\u001b[0m\u001b[0;34m(\u001b[0m\u001b[0me\u001b[0m\u001b[0;34m,\u001b[0m \u001b[0mname\u001b[0m\u001b[0;34m)\u001b[0m\u001b[0;34m\u001b[0m\u001b[0;34m\u001b[0m\u001b[0m\n\u001b[0;32m-> 2060\u001b[0;31m     \u001b[0;32mexcept\u001b[0m \u001b[0m_core\u001b[0m\u001b[0;34m.\u001b[0m\u001b[0m_FallbackException\u001b[0m\u001b[0;34m:\u001b[0m\u001b[0;34m\u001b[0m\u001b[0;34m\u001b[0m\u001b[0m\n\u001b[0m\u001b[1;32m   2061\u001b[0m       \u001b[0;32mpass\u001b[0m\u001b[0;34m\u001b[0m\u001b[0;34m\u001b[0m\u001b[0m\n\u001b[1;32m   2062\u001b[0m     \u001b[0;32mtry\u001b[0m\u001b[0;34m:\u001b[0m\u001b[0;34m\u001b[0m\u001b[0;34m\u001b[0m\u001b[0m\n\u001b[1;32m   2063\u001b[0m       return cast_eager_fallback(\n",
      "\u001b[0;31mKeyboardInterrupt\u001b[0m: "
     ]
    }
   ],
   "source": [
    "n_epochs = 15\n",
    "\n",
    "for epoch in range(1, n_epochs + 1):\n",
    "    \n",
    "    print(f\"Epoch {epoch:0>3}/{ n_epochs:0>3}\")\n",
    "\n",
    "    track = run_epoch(train_dataset, all_metrics, epoch=epoch, history=track, training=True, shuffle=True)\n",
    "    track = run_epoch(val_dataset, all_metrics, epoch=epoch, history=track, training=False, shuffle=True)\n",
    "\n",
    "    # make an intermediate save of the model\n",
    "    model_path = os.path.join(cwd, \"models\", f\"EncoderUpdate-{epoch}.tf\")\n",
    "    model.save(model_path, overwrite=True, save_format=\"tf\")\n",
    "\n",
    "    print(\"-\"*120)"
   ]
  },
  {
   "cell_type": "code",
   "execution_count": null,
   "id": "7c961887-1831-43e7-98a7-51b71bf3bc92",
   "metadata": {},
   "outputs": [],
   "source": [
    "history = track.pivot_table(\n",
    "    values = [\"Value\"],\n",
    "    columns=[\"Metric\"],\n",
    "    index=[\"Epoch\", \"Target\"]\n",
    ").reset_index().set_index(\"Epoch\", drop=True)\n",
    "\n",
    "clms = history.columns\n",
    "history.columns = [clm[i>=1] for i, clm in enumerate(clms)]\n",
    "history"
   ]
  },
  {
   "cell_type": "code",
   "execution_count": null,
   "id": "19eb1501-21f7-4ef2-96a7-af4205bf0d81",
   "metadata": {},
   "outputs": [],
   "source": [
    "clms = history.columns\n",
    "\n",
    "fig, ax = plt.subplots(len(TARGET_LABELS), 2, figsize=(16, 9*len(TARGET_LABELS)))\n",
    "\n",
    "colors = [\"cyan\", \"orange\", \"blue\", \"forestgreen\", \"red\", \"purple\"]\n",
    "\n",
    "for i, target in enumerate(TARGET_LABELS):\n",
    "    history.loc[(history.Target == target), (~clms.str.contains(\"Val-\"))&(~clms.str.contains(\"Loss\"))]\\\n",
    "        .plot(ax=ax[i, 0], ls = \"--\", color = colors, label = \"Training\")\n",
    "    history.loc[(history.Target == target), (clms.str.contains(\"Val-\"))&(~clms.str.contains(\"Loss\"))]\\\n",
    "        .plot(ax=ax[i, 0], lw = 3, color = colors, label = \"Validation\")\n",
    "    ax[i, 0].set(ylabel = target)\n",
    "\n",
    "    # Plot the loss\n",
    "    history.loc[(history.Target == target), (~clms.str.contains(\"Val-\"))&(clms.str.contains(\"Loss\"))]\\\n",
    "        .plot(ax=ax[i, 1], ls = \"--\", color = \"red\", label = \"Training\")\n",
    "    history.loc[(history.Target == target), (clms.str.contains(\"Val-\"))&(clms.str.contains(\"Loss\"))]\\\n",
    "        .plot(ax=ax[i, 1], lw = 3, color = \"red\", label = \"Validation\")\n",
    "    ax[i, 1].set(yscale = \"log\")\n",
    "\n",
    "ax[0, 0].set(title=\"Metrics\")\n",
    "ax[0, 1].set(title=\"Loss\");\n"
   ]
  },
  {
   "cell_type": "markdown",
   "id": "ebcb1d76-f599-4e84-97b5-2c0c76f86adf",
   "metadata": {},
   "source": [
    "Tradeoff between Sensitivity and Precision can be seen very good here.\n",
    "Most likely explanation:\n",
    "- the bias of the final layer before the sigmoid has changed drastically.\n",
    "- if the bias increases, predicted probabilities increase. This means more found solved cases and higher Sensitivity\n",
    "- if the bias decreases, predicted probabilities decrease. This means less found solved cases, only the more certain cases. Higher Precision"
   ]
  },
  {
   "cell_type": "markdown",
   "id": "b808e5f5-47fc-49e1-b1b7-7ad7a4e7a3f8",
   "metadata": {},
   "source": [
    "### Visualize Attention Scores:"
   ]
  },
  {
   "cell_type": "code",
   "execution_count": null,
   "id": "377285ec-90de-4f20-8823-ca2b52c1d01f",
   "metadata": {},
   "outputs": [],
   "source": [
    "instance, head = 20, 3 # 18: 36 # 24 is a very simple but good example\n",
    "\n",
    "# model pass\n",
    "model(cx)\n",
    "attention = model.get_layer(\"TransformerEncoder\").sub_layers[-1].get_layer(\"self_attention_5\").last_attention_scores\n",
    "\n",
    "attention_matrix = attention.numpy()\n",
    "attention_matrix = attention_matrix[instance, head, :, :]\n",
    "\n",
    "# truncate:\n",
    "n_inputs = np.argmax(np.all(cx[0][instance].round(2) == 0, axis=1))\n",
    "attention_matrix = attention_matrix[:n_inputs, :n_inputs]\n",
    "\n",
    "plt.figure(figsize=(12, 12))\n",
    "sns.heatmap(attention_matrix.T,\n",
    "            square=True,\n",
    "            #vmin=0, vmax=1,\n",
    "           );"
   ]
  },
  {
   "cell_type": "code",
   "execution_count": null,
   "id": "6b68e4b5-2601-433d-9910-212c9dbee80f",
   "metadata": {},
   "outputs": [],
   "source": [
    "instances = [28, 24, 25, 26]\n",
    "heads = list(range(num_heads))\n",
    "\n",
    "fig, ax = plt.subplots(len(instances), num_heads, figsize=(16, len(instances)*5))\n",
    "\n",
    "for i, instance in enumerate(instances):\n",
    "    for h, head in enumerate(heads):\n",
    "        \n",
    "        attention_matrix = attention[instance, head, :, :].numpy()\n",
    "\n",
    "        # Truncate\n",
    "        n_inputs = np.argmax(np.all(cx[0][instance].round(2) == 0, axis=1))\n",
    "        attention_matrix = attention_matrix[:n_inputs, :n_inputs]\n",
    "        \n",
    "        sns.heatmap(\n",
    "            attention_matrix.T,\n",
    "            square=True,\n",
    "            cbar=False,\n",
    "            #vmin=0, vmax=0.1,\n",
    "            ax=ax[i, h]\n",
    "        );"
   ]
  },
  {
   "cell_type": "markdown",
   "id": "2889cbb7-9858-4c71-8324-87bad9e6a25d",
   "metadata": {},
   "source": [
    "# Load the model after saving it to confirm functionality"
   ]
  },
  {
   "cell_type": "code",
   "execution_count": null,
   "id": "650db755-be88-4a2c-8f06-b9d5d13056fe",
   "metadata": {},
   "outputs": [],
   "source": [
    "model_path = os.path.join(cwd, \"models\", f\"EncoderUpdate-1.tf\")\n",
    "\n",
    "loaded_model = tf.keras.models.load_model(model_path)"
   ]
  },
  {
   "cell_type": "code",
   "execution_count": null,
   "id": "d87a049d-ad57-4b7b-a087-ed381c3c0551",
   "metadata": {},
   "outputs": [],
   "source": [
    "loaded_model(cx)"
   ]
  }
 ],
 "metadata": {
  "kernelspec": {
   "display_name": "Python 3 (ipykernel)",
   "language": "python",
   "name": "python3"
  },
  "language_info": {
   "codemirror_mode": {
    "name": "ipython",
    "version": 3
   },
   "file_extension": ".py",
   "mimetype": "text/x-python",
   "name": "python",
   "nbconvert_exporter": "python",
   "pygments_lexer": "ipython3",
   "version": "3.11.4"
  }
 },
 "nbformat": 4,
 "nbformat_minor": 5
}
