{
 "cells": [
  {
   "cell_type": "code",
   "execution_count": 1,
   "id": "51595832-52a2-4469-8aee-61428a86c0fe",
   "metadata": {},
   "outputs": [],
   "source": [
    "BATCH_SIZE = 1024\n",
    "\n",
    "PAD_SIZE = 80\n",
    "TARGET_LABELS = [\n",
    "    \"Solved\",\n",
    "    \"Improvement\",\n",
    "    \"Stacks\"\n",
    "]\n",
    "\n",
    "SEED = 3093453"
   ]
  },
  {
   "cell_type": "markdown",
   "id": "4e6016c6-543d-4ede-b6dd-2a4870f324d6",
   "metadata": {},
   "source": [
    "# Preprocessing"
   ]
  },
  {
   "cell_type": "markdown",
   "id": "053d07e7-6859-4737-9c4b-91eba870632b",
   "metadata": {},
   "source": [
    "## Load Packages and Data"
   ]
  },
  {
   "cell_type": "code",
   "execution_count": 2,
   "id": "67cdfc5c-074f-4f7f-9f9d-39d47b43a1c0",
   "metadata": {},
   "outputs": [],
   "source": [
    "import os\n",
    "import sys\n",
    "\n",
    "import numpy as np\n",
    "import pandas as pd\n",
    "import polars as pl\n",
    "\n",
    "import tensorflow as tf\n",
    "\n",
    "import matplotlib.pyplot as plt\n",
    "import seaborn as sns\n",
    "\n",
    "np.set_printoptions(\n",
    "    edgeitems=30,\n",
    "    linewidth=100_000,\n",
    "    #formatter=dict(float=lambda x:\"%.3g\" % x),\n",
    "    suppress=True\n",
    "    )\n",
    "#np.core.arrayprint._line_width = 280\n",
    "\n",
    "np.random.seed(SEED)\n",
    "tf.random.set_seed(SEED)\n",
    "\n",
    "sns.set(\n",
    "    context=\"talk\",\n",
    "    style=\"darkgrid\"\n",
    ")\n",
    "\n",
    "cwd = os.getcwd()\n",
    "cwd, _ = os.path.split(cwd)"
   ]
  },
  {
   "cell_type": "code",
   "execution_count": 3,
   "id": "ed6f3329-37c6-4683-ad68-5725ed932f53",
   "metadata": {},
   "outputs": [
    {
     "name": "stdout",
     "output_type": "stream",
     "text": [
      "Found 710800 files belonging to 2 classes.\n",
      "Using 639720 files for training.\n"
     ]
    },
    {
     "name": "stderr",
     "output_type": "stream",
     "text": [
      "2023-11-30 11:12:26.076671: I metal_plugin/src/device/metal_device.cc:1154] Metal device set to: Apple M1 Pro\n",
      "2023-11-30 11:12:26.076704: I metal_plugin/src/device/metal_device.cc:296] systemMemory: 16.00 GB\n",
      "2023-11-30 11:12:26.076708: I metal_plugin/src/device/metal_device.cc:313] maxCacheSize: 5.33 GB\n",
      "2023-11-30 11:12:26.077035: I tensorflow/core/common_runtime/pluggable_device/pluggable_device_factory.cc:306] Could not identify NUMA node of platform GPU ID 0, defaulting to 0. Your kernel may not have been built with NUMA support.\n",
      "2023-11-30 11:12:26.077058: I tensorflow/core/common_runtime/pluggable_device/pluggable_device_factory.cc:272] Created TensorFlow device (/job:localhost/replica:0/task:0/device:GPU:0 with 0 MB memory) -> physical PluggableDevice (device: 0, name: METAL, pci bus id: <undefined>)\n"
     ]
    },
    {
     "name": "stdout",
     "output_type": "stream",
     "text": [
      "Found 710800 files belonging to 2 classes.\n",
      "Using 71080 files for validation.\n"
     ]
    }
   ],
   "source": [
    "import tensorflow as tf\n",
    "from tensorflow import keras\n",
    "\n",
    "samples = os.path.join(cwd, \"data\", \"2D\", \"MIP\")\n",
    "class_names = [\"interrupted\", \"solved\"]\n",
    "\n",
    "train_dataset = keras.preprocessing.text_dataset_from_directory(\n",
    "    directory = samples,\n",
    "    labels = \"inferred\",\n",
    "    label_mode = \"binary\",\n",
    "    class_names = class_names,\n",
    "    batch_size = BATCH_SIZE,\n",
    "    max_length = None,\n",
    "    shuffle = True,\n",
    "    seed = SEED,\n",
    "    validation_split = 0.1,\n",
    "    subset = \"training\",\n",
    "    follow_links = False\n",
    ")\n",
    "\n",
    "val_dataset = keras.preprocessing.text_dataset_from_directory(\n",
    "    directory = samples,\n",
    "    labels = \"inferred\",\n",
    "    label_mode = \"binary\",\n",
    "    class_names = class_names,\n",
    "    batch_size = BATCH_SIZE,\n",
    "    max_length = None,\n",
    "    shuffle = True,\n",
    "    seed = SEED,\n",
    "    validation_split = 0.1,\n",
    "    subset = \"validation\",\n",
    "    follow_links = False\n",
    ")\n",
    "\n",
    "class_names = np.array(class_names)"
   ]
  },
  {
   "cell_type": "code",
   "execution_count": 4,
   "id": "e67b7b15-cae4-480d-807b-11a180484459",
   "metadata": {},
   "outputs": [
    {
     "name": "stdout",
     "output_type": "stream",
     "text": [
      "dataset: C\n",
      "instance: SA2\n",
      "+-----------+\n",
      "2D Packing MIP with Time Limit 15 [s] in Truck P096224209\n",
      "Stack 0 with items: ['0090017100_28022023016116']\n",
      "Stack 1 with items: ['0090017100_28022023001003']\n",
      "Stack 2 with items: ['0090017100_28022023023052', '0090017100_28022023013670']\n",
      "Stack 3 with items: ['0090017100_28022023010325', '0090017100_28022023010325']\n",
      "Stack 4 with items: ['0090017100_28022023010325', '0090017100_28022023010325']\n",
      "Stack 5 with items: ['0090017100_28022023010325', '0090017100_28022023010325']\n",
      "Stack 6 with items: ['0090017100_28022023010325', '0090017100_28022023010325']\n",
      "Stack 7 with items: ['0090017100_28022023010325', '0090017100_28022023010325']\n",
      "Stack 8 with items: ['0090017100_28022023010325', '0090017100_28022023010325']\n",
      "Stack 9 with items: ['0090017100_28022023009937', '0090017100_28022023009937']\n",
      "Stack 10 with items: ['0090017100_28022023009937', '0090017100_28022023009937']\n",
      "Stack 11 with items: ['0090017100_28022023009937', '0090017100_28022023009937']\n",
      "Stack 12 with items: ['0090017100_28022023009937', '0090017100_28022023009937']\n",
      "Stack 13 with items: ['0090017100_28022023004028', '0090017100_28022023002903']\n",
      "Stack 14 with items: ['0090017100_28022023002903']\n",
      "Stack 15 with items: ['0090017100_28022023004294']\n",
      "MIP Improvement - 2D Vol: 28.46412 [m2] - packed 2D Vol Ratio: 0.864120218579235 [%] - after 0.0 [s] without stacks:\n",
      "Stack 13 missing: ['0090017100_28022023004028', '0090017100_28022023002903']\n",
      "Stack 15 missing: ['0090017100_28022023004294']\n",
      "MIP Improvement - 2D Vol: 30.6331 [m2] - packed 2D Vol Ratio: 0.9299666059502125 [%] - after 0.02850508689880371 [s]\n",
      "MIP Improvement - 2D Vol: 30.8551 [m2] - packed 2D Vol Ratio: 0.9367061323618702 [%] - after 2.6898510456085205 [s]\n",
      "Optimal Solution confirmed after 7.272033233661205 [s]\n",
      "Stacks not packed:\n",
      "Stack 1 not in final solution with items: ['0090017100_28022023001003']\n"
     ]
    }
   ],
   "source": [
    "for X,y in train_dataset.take(1):\n",
    "    pass\n",
    "\n",
    "df = pl.DataFrame({\"raw\": X.numpy().astype(str)})\n",
    "print(df[0, 0])"
   ]
  },
  {
   "cell_type": "markdown",
   "id": "3e8b48de-cb45-4f62-99f0-9cf125c35048",
   "metadata": {
    "jp-MarkdownHeadingCollapsed": true
   },
   "source": [
    "## Loading CSVs"
   ]
  },
  {
   "cell_type": "code",
   "execution_count": 5,
   "id": "2c26da7a-f0f1-4b99-b35f-519d9c9549df",
   "metadata": {},
   "outputs": [
    {
     "data": {
      "text/html": [
       "<div><style>\n",
       ".dataframe > thead > tr > th,\n",
       ".dataframe > tbody > tr > td {\n",
       "  text-align: right;\n",
       "  white-space: pre-wrap;\n",
       "}\n",
       "</style>\n",
       "<small>shape: (3_680_457, 13)</small><table border=\"1\" class=\"dataframe\"><thead><tr><th>Supplier code</th><th>Supplier dock</th><th>Plant dock</th><th>Length</th><th>Width</th><th>Height</th><th>Weight</th><th>Nesting height</th><th>dataset</th><th>instance</th><th>item_id</th><th>ForcedLength</th><th>ForcedWidth</th></tr><tr><td>i64</td><td>str</td><td>str</td><td>f64</td><td>f64</td><td>f64</td><td>f64</td><td>f64</td><td>str</td><td>str</td><td>str</td><td>bool</td><td>bool</td></tr></thead><tbody><tr><td>90016100</td><td>&quot;K11&quot;</td><td>&quot;GRD1&quot;</td><td>2.3</td><td>1.6</td><td>1.0</td><td>1.5736</td><td>0.045</td><td>&quot;C&quot;</td><td>&quot;BY&quot;</td><td>&quot;0090016900_270…</td><td>false</td><td>false</td></tr><tr><td>22060301</td><td>null</td><td>&quot;169GB-30&quot;</td><td>1.6</td><td>1.2</td><td>0.93</td><td>0.5221</td><td>0.045</td><td>&quot;C&quot;</td><td>&quot;BY&quot;</td><td>&quot;0090016900_270…</td><td>false</td><td>false</td></tr><tr><td>679301</td><td>null</td><td>&quot;169GB-20&quot;</td><td>2.4</td><td>1.2</td><td>1.9</td><td>0.518208</td><td>0.045</td><td>&quot;C&quot;</td><td>&quot;BY&quot;</td><td>&quot;0090016900_270…</td><td>false</td><td>false</td></tr><tr><td>1925700</td><td>null</td><td>&quot;GRF1&quot;</td><td>2.4</td><td>2.1</td><td>1.49</td><td>0.5186</td><td>0.045</td><td>&quot;C&quot;</td><td>&quot;BY&quot;</td><td>&quot;0090016900_270…</td><td>false</td><td>false</td></tr><tr><td>90016100</td><td>&quot;K11&quot;</td><td>&quot;GRD1&quot;</td><td>2.3</td><td>1.6</td><td>1.0</td><td>1.57</td><td>0.045</td><td>&quot;C&quot;</td><td>&quot;BY&quot;</td><td>&quot;0090016900_270…</td><td>false</td><td>false</td></tr><tr><td>2884108</td><td>null</td><td>&quot;169GD-60&quot;</td><td>1.2</td><td>1.0</td><td>0.975</td><td>0.2004</td><td>0.045</td><td>&quot;C&quot;</td><td>&quot;BY&quot;</td><td>&quot;0090016900_270…</td><td>false</td><td>false</td></tr><tr><td>23676300</td><td>null</td><td>&quot;169GD-60&quot;</td><td>2.4</td><td>2.2</td><td>1.52</td><td>0.5944</td><td>0.045</td><td>&quot;C&quot;</td><td>&quot;BY&quot;</td><td>&quot;0090016900_270…</td><td>false</td><td>false</td></tr><tr><td>90016100</td><td>&quot;K11&quot;</td><td>&quot;GRD1&quot;</td><td>2.3</td><td>1.6</td><td>1.0</td><td>1.57</td><td>0.045</td><td>&quot;C&quot;</td><td>&quot;BY&quot;</td><td>&quot;0090016900_270…</td><td>false</td><td>false</td></tr><tr><td>28681300</td><td>null</td><td>&quot;169GD-60&quot;</td><td>1.2</td><td>1.0</td><td>0.975</td><td>0.276804</td><td>0.045</td><td>&quot;C&quot;</td><td>&quot;BY&quot;</td><td>&quot;0090016900_270…</td><td>false</td><td>false</td></tr><tr><td>239407</td><td>null</td><td>&quot;GRE1&quot;</td><td>1.206</td><td>1.01</td><td>1.185</td><td>0.3339</td><td>0.0</td><td>&quot;C&quot;</td><td>&quot;BY&quot;</td><td>&quot;0090016900_270…</td><td>false</td><td>false</td></tr><tr><td>22060301</td><td>null</td><td>&quot;169GB-30&quot;</td><td>3.2</td><td>1.2</td><td>1.49</td><td>0.605548</td><td>0.045</td><td>&quot;C&quot;</td><td>&quot;BY&quot;</td><td>&quot;0090016900_270…</td><td>false</td><td>false</td></tr><tr><td>679301</td><td>null</td><td>&quot;169GB-10&quot;</td><td>2.4</td><td>1.2</td><td>2.5</td><td>0.397108</td><td>0.045</td><td>&quot;C&quot;</td><td>&quot;BY&quot;</td><td>&quot;0090016900_270…</td><td>false</td><td>false</td></tr><tr><td>&hellip;</td><td>&hellip;</td><td>&hellip;</td><td>&hellip;</td><td>&hellip;</td><td>&hellip;</td><td>&hellip;</td><td>&hellip;</td><td>&hellip;</td><td>&hellip;</td><td>&hellip;</td><td>&hellip;</td><td>&hellip;</td></tr><tr><td>40695600</td><td>null</td><td>&quot;383G4P&quot;</td><td>1.206</td><td>1.01</td><td>1.085</td><td>0.15452</td><td>0.0</td><td>&quot;X&quot;</td><td>&quot;TA6&quot;</td><td>&quot;0090038300_140…</td><td>false</td><td>false</td></tr><tr><td>40695600</td><td>null</td><td>&quot;383G4P&quot;</td><td>1.206</td><td>1.01</td><td>1.085</td><td>0.14372</td><td>0.0</td><td>&quot;X&quot;</td><td>&quot;TA6&quot;</td><td>&quot;0090038300_140…</td><td>false</td><td>false</td></tr><tr><td>40695600</td><td>null</td><td>&quot;383G4B&quot;</td><td>1.6</td><td>1.2</td><td>0.93</td><td>0.15512</td><td>0.045</td><td>&quot;X&quot;</td><td>&quot;TA6&quot;</td><td>&quot;0090038300_140…</td><td>false</td><td>false</td></tr><tr><td>40695600</td><td>null</td><td>&quot;383G4B&quot;</td><td>1.6</td><td>1.2</td><td>0.93</td><td>0.19172</td><td>0.045</td><td>&quot;X&quot;</td><td>&quot;TA6&quot;</td><td>&quot;0090038300_140…</td><td>false</td><td>false</td></tr><tr><td>40695600</td><td>null</td><td>&quot;383G4B&quot;</td><td>1.2</td><td>1.0</td><td>0.975</td><td>0.142556</td><td>0.045</td><td>&quot;X&quot;</td><td>&quot;TA6&quot;</td><td>&quot;0090038300_140…</td><td>false</td><td>false</td></tr><tr><td>40695600</td><td>null</td><td>&quot;383G4P&quot;</td><td>1.206</td><td>1.01</td><td>1.085</td><td>0.19916</td><td>0.0</td><td>&quot;X&quot;</td><td>&quot;TA6&quot;</td><td>&quot;0090038300_140…</td><td>false</td><td>false</td></tr><tr><td>40695600</td><td>null</td><td>&quot;383G4B&quot;</td><td>1.206</td><td>1.01</td><td>1.185</td><td>0.1609</td><td>0.0</td><td>&quot;X&quot;</td><td>&quot;TA6&quot;</td><td>&quot;0090038300_140…</td><td>false</td><td>false</td></tr><tr><td>40695600</td><td>null</td><td>&quot;383G4B&quot;</td><td>1.2</td><td>1.0</td><td>0.975</td><td>0.158344</td><td>0.045</td><td>&quot;X&quot;</td><td>&quot;TA6&quot;</td><td>&quot;0090038300_140…</td><td>false</td><td>false</td></tr><tr><td>40695600</td><td>null</td><td>&quot;383G4P&quot;</td><td>1.206</td><td>1.01</td><td>1.085</td><td>0.126575</td><td>0.0</td><td>&quot;X&quot;</td><td>&quot;TA6&quot;</td><td>&quot;0090038300_140…</td><td>false</td><td>false</td></tr><tr><td>40695600</td><td>null</td><td>&quot;383G4B&quot;</td><td>1.2</td><td>1.0</td><td>0.975</td><td>0.137768</td><td>0.045</td><td>&quot;X&quot;</td><td>&quot;TA6&quot;</td><td>&quot;0090038300_140…</td><td>false</td><td>false</td></tr><tr><td>27659600</td><td>null</td><td>&quot;383G4N&quot;</td><td>2.4</td><td>1.56</td><td>1.47</td><td>0.436368</td><td>0.045</td><td>&quot;X&quot;</td><td>&quot;TA6&quot;</td><td>&quot;0090038300_140…</td><td>false</td><td>false</td></tr><tr><td>40695600</td><td>null</td><td>&quot;383G4B&quot;</td><td>1.2</td><td>1.0</td><td>0.93</td><td>0.14078</td><td>0.045</td><td>&quot;X&quot;</td><td>&quot;TA6&quot;</td><td>&quot;0090038300_140…</td><td>false</td><td>false</td></tr></tbody></table></div>"
      ],
      "text/plain": [
       "shape: (3_680_457, 13)\n",
       "┌────────────┬────────────┬────────────┬────────┬───┬──────────┬───────────┬───────────┬───────────┐\n",
       "│ Supplier   ┆ Supplier   ┆ Plant dock ┆ Length ┆ … ┆ instance ┆ item_id   ┆ ForcedLen ┆ ForcedWid │\n",
       "│ code       ┆ dock       ┆ ---        ┆ ---    ┆   ┆ ---      ┆ ---       ┆ gth       ┆ th        │\n",
       "│ ---        ┆ ---        ┆ str        ┆ f64    ┆   ┆ str      ┆ str       ┆ ---       ┆ ---       │\n",
       "│ i64        ┆ str        ┆            ┆        ┆   ┆          ┆           ┆ bool      ┆ bool      │\n",
       "╞════════════╪════════════╪════════════╪════════╪═══╪══════════╪═══════════╪═══════════╪═══════════╡\n",
       "│ 90016100   ┆ K11        ┆ GRD1       ┆ 2.3    ┆ … ┆ BY       ┆ 009001690 ┆ false     ┆ false     │\n",
       "│            ┆            ┆            ┆        ┆   ┆          ┆ 0_2702202 ┆           ┆           │\n",
       "│            ┆            ┆            ┆        ┆   ┆          ┆ 3000013   ┆           ┆           │\n",
       "│ 22060301   ┆ null       ┆ 169GB-30   ┆ 1.6    ┆ … ┆ BY       ┆ 009001690 ┆ false     ┆ false     │\n",
       "│            ┆            ┆            ┆        ┆   ┆          ┆ 0_2702202 ┆           ┆           │\n",
       "│            ┆            ┆            ┆        ┆   ┆          ┆ 3000018   ┆           ┆           │\n",
       "│ 679301     ┆ null       ┆ 169GB-20   ┆ 2.4    ┆ … ┆ BY       ┆ 009001690 ┆ false     ┆ false     │\n",
       "│            ┆            ┆            ┆        ┆   ┆          ┆ 0_2702202 ┆           ┆           │\n",
       "│            ┆            ┆            ┆        ┆   ┆          ┆ 3000041   ┆           ┆           │\n",
       "│ 1925700    ┆ null       ┆ GRF1       ┆ 2.4    ┆ … ┆ BY       ┆ 009001690 ┆ false     ┆ false     │\n",
       "│            ┆            ┆            ┆        ┆   ┆          ┆ 0_2702202 ┆           ┆           │\n",
       "│            ┆            ┆            ┆        ┆   ┆          ┆ 3000186   ┆           ┆           │\n",
       "│ …          ┆ …          ┆ …          ┆ …      ┆ … ┆ …        ┆ …         ┆ …         ┆ …         │\n",
       "│ 40695600   ┆ null       ┆ 383G4P     ┆ 1.206  ┆ … ┆ TA6      ┆ 009003830 ┆ false     ┆ false     │\n",
       "│            ┆            ┆            ┆        ┆   ┆          ┆ 0_1406202 ┆           ┆           │\n",
       "│            ┆            ┆            ┆        ┆   ┆          ┆ 3011792   ┆           ┆           │\n",
       "│ 40695600   ┆ null       ┆ 383G4B     ┆ 1.2    ┆ … ┆ TA6      ┆ 009003830 ┆ false     ┆ false     │\n",
       "│            ┆            ┆            ┆        ┆   ┆          ┆ 0_1406202 ┆           ┆           │\n",
       "│            ┆            ┆            ┆        ┆   ┆          ┆ 3011844   ┆           ┆           │\n",
       "│ 27659600   ┆ null       ┆ 383G4N     ┆ 2.4    ┆ … ┆ TA6      ┆ 009003830 ┆ false     ┆ false     │\n",
       "│            ┆            ┆            ┆        ┆   ┆          ┆ 0_1406202 ┆           ┆           │\n",
       "│            ┆            ┆            ┆        ┆   ┆          ┆ 3011853   ┆           ┆           │\n",
       "│ 40695600   ┆ null       ┆ 383G4B     ┆ 1.2    ┆ … ┆ TA6      ┆ 009003830 ┆ false     ┆ false     │\n",
       "│            ┆            ┆            ┆        ┆   ┆          ┆ 0_1406202 ┆           ┆           │\n",
       "│            ┆            ┆            ┆        ┆   ┆          ┆ 3011906   ┆           ┆           │\n",
       "└────────────┴────────────┴────────────┴────────┴───┴──────────┴───────────┴───────────┴───────────┘"
      ]
     },
     "execution_count": 5,
     "metadata": {},
     "output_type": "execute_result"
    }
   ],
   "source": [
    "folder = \"truck-item-infos\"\n",
    "file = \"items.csv\"\n",
    "\n",
    "item_path = os.path.join(cwd, folder, file)\n",
    "items = pl.read_csv(source = item_path);\n",
    "\n",
    "items = items.lazy().with_columns([\n",
    "    (pl.col(\"Item ident\").alias(\"item_id\")),\n",
    "    (pl.col(\"Length\") / 1000), # mm to m\n",
    "    (pl.col(\"Width\") / 1000),  # mm to m\n",
    "    (pl.col(\"Height\") / 1000), # mm to m\n",
    "    (pl.col(\"Nesting height\") / 1000), # mm to m\n",
    "    (pl.col(\"Weight\") / 1000), # kg to tons\n",
    "    (pl.col(\"Forced orientation\") == \"lengthwise\").alias(\"ForcedLength\"),\n",
    "    (pl.col(\"Forced orientation\") == \"widthwise\").alias(\"ForcedWidth\"),\n",
    "    ((pl.col(\"Height\") - pl.col(\"Nesting height\")) / 1000).alias(\"NestedHeight\"),\n",
    "    pl.col(\"dataset\").str.extract(\"([A-Z])\")\n",
    "]).drop([\n",
    "    \"Forced orientation\", \"Max stackability\", \"Inventory cost\",\n",
    "    \"Earliest arrival time\", \"Latest arrival time\", \"Number of items\",\n",
    "    \"instance_id\",\n",
    "    \"Stackability code\",\n",
    "    \"Item ident\", # drop because of rename earlier\n",
    "    # Unnecassary columns\n",
    "    \"Product code\",\n",
    "    \"Package\",\n",
    "    \"Plant code\",\n",
    "    \"Product code\",\n",
    "    \"Package code\",\n",
    "    \"NestedHeight\"\n",
    "]).unique()\n",
    "\n",
    "items.collect()"
   ]
  },
  {
   "cell_type": "code",
   "execution_count": 6,
   "id": "0dc63cfa-2e58-450c-8880-6b1bbfc96140",
   "metadata": {},
   "outputs": [
    {
     "data": {
      "text/html": [
       "<div><style>\n",
       ".dataframe > thead > tr > th,\n",
       ".dataframe > tbody > tr > td {\n",
       "  text-align: right;\n",
       "  white-space: pre-wrap;\n",
       "}\n",
       "</style>\n",
       "<small>shape: (897_317, 9)</small><table border=\"1\" class=\"dataframe\"><thead><tr><th>Supplier code</th><th>Supplier loading order</th><th>Supplier dock</th><th>Supplier dock loading order</th><th>Plant dock</th><th>Plant dock loading order</th><th>truck_id</th><th>dataset</th><th>instance</th></tr><tr><td>i64</td><td>i64</td><td>str</td><td>i64</td><td>str</td><td>i64</td><td>str</td><td>str</td><td>str</td></tr></thead><tbody><tr><td>62059600</td><td>1</td><td>null</td><td>1</td><td>&quot;X0&quot;</td><td>1</td><td>&quot;P187731001&quot;</td><td>&quot;A&quot;</td><td>&quot;AS&quot;</td></tr><tr><td>29908700</td><td>1</td><td>null</td><td>1</td><td>&quot;X4&quot;</td><td>1</td><td>&quot;P189730403&quot;</td><td>&quot;A&quot;</td><td>&quot;AS&quot;</td></tr><tr><td>62059600</td><td>1</td><td>null</td><td>1</td><td>&quot;X0&quot;</td><td>1</td><td>&quot;P189731001&quot;</td><td>&quot;A&quot;</td><td>&quot;AS&quot;</td></tr><tr><td>28091900</td><td>1</td><td>null</td><td>1</td><td>&quot;X4&quot;</td><td>1</td><td>&quot;P192708201&quot;</td><td>&quot;A&quot;</td><td>&quot;AS&quot;</td></tr><tr><td>62069600</td><td>1</td><td>null</td><td>1</td><td>&quot;X1&quot;</td><td>1</td><td>&quot;P192730507&quot;</td><td>&quot;A&quot;</td><td>&quot;AS&quot;</td></tr><tr><td>62069600</td><td>1</td><td>null</td><td>1</td><td>&quot;X1&quot;</td><td>1</td><td>&quot;P193730503&quot;</td><td>&quot;A&quot;</td><td>&quot;AS&quot;</td></tr><tr><td>29908700</td><td>1</td><td>null</td><td>1</td><td>&quot;X4&quot;</td><td>1</td><td>&quot;P194730405&quot;</td><td>&quot;A&quot;</td><td>&quot;AS&quot;</td></tr><tr><td>62069600</td><td>1</td><td>null</td><td>1</td><td>&quot;X1&quot;</td><td>1</td><td>&quot;P194730503&quot;</td><td>&quot;A&quot;</td><td>&quot;AS&quot;</td></tr><tr><td>62060800</td><td>1</td><td>null</td><td>1</td><td>&quot;X2&quot;</td><td>1</td><td>&quot;P194731305&quot;</td><td>&quot;A&quot;</td><td>&quot;AS&quot;</td></tr><tr><td>29918200</td><td>1</td><td>null</td><td>1</td><td>&quot;X2&quot;</td><td>1</td><td>&quot;P195717701&quot;</td><td>&quot;A&quot;</td><td>&quot;AS&quot;</td></tr><tr><td>29908700</td><td>1</td><td>null</td><td>1</td><td>&quot;X4&quot;</td><td>1</td><td>&quot;P195730407&quot;</td><td>&quot;A&quot;</td><td>&quot;AS&quot;</td></tr><tr><td>62060800</td><td>1</td><td>null</td><td>1</td><td>&quot;X2&quot;</td><td>1</td><td>&quot;P195731301&quot;</td><td>&quot;A&quot;</td><td>&quot;AS&quot;</td></tr><tr><td>&hellip;</td><td>&hellip;</td><td>&hellip;</td><td>&hellip;</td><td>&hellip;</td><td>&hellip;</td><td>&hellip;</td><td>&hellip;</td><td>&hellip;</td></tr><tr><td>11129500</td><td>2</td><td>null</td><td>2</td><td>&quot;V09&quot;</td><td>3</td><td>&quot;P240420201&quot;</td><td>&quot;X&quot;</td><td>&quot;TR7&quot;</td></tr><tr><td>11585402</td><td>2</td><td>null</td><td>2</td><td>&quot;V55&quot;</td><td>1</td><td>&quot;P240420401&quot;</td><td>&quot;X&quot;</td><td>&quot;TR7&quot;</td></tr><tr><td>28169000</td><td>1</td><td>null</td><td>1</td><td>&quot;V11&quot;</td><td>3</td><td>&quot;P240421801&quot;</td><td>&quot;X&quot;</td><td>&quot;TR7&quot;</td></tr><tr><td>11130703</td><td>2</td><td>null</td><td>2</td><td>&quot;G08&quot;</td><td>2</td><td>&quot;P240421901&quot;</td><td>&quot;X&quot;</td><td>&quot;TR7&quot;</td></tr><tr><td>61899800</td><td>1</td><td>null</td><td>1</td><td>&quot;V33&quot;</td><td>4</td><td>&quot;P240422101&quot;</td><td>&quot;X&quot;</td><td>&quot;TR7&quot;</td></tr><tr><td>11577100</td><td>4</td><td>null</td><td>4</td><td>&quot;V55&quot;</td><td>2</td><td>&quot;P240422101&quot;</td><td>&quot;X&quot;</td><td>&quot;TR7&quot;</td></tr><tr><td>11210403</td><td>3</td><td>null</td><td>3</td><td>&quot;V55&quot;</td><td>2</td><td>&quot;P240422101&quot;</td><td>&quot;X&quot;</td><td>&quot;TR7&quot;</td></tr><tr><td>11522602</td><td>1</td><td>null</td><td>1</td><td>&quot;V11&quot;</td><td>3</td><td>&quot;P240422505&quot;</td><td>&quot;X&quot;</td><td>&quot;TR7&quot;</td></tr><tr><td>11565600</td><td>3</td><td>null</td><td>3</td><td>&quot;V33&quot;</td><td>5</td><td>&quot;P240423109&quot;</td><td>&quot;X&quot;</td><td>&quot;TR7&quot;</td></tr><tr><td>27830201</td><td>1</td><td>null</td><td>1</td><td>&quot;V11&quot;</td><td>4</td><td>&quot;P240424201&quot;</td><td>&quot;X&quot;</td><td>&quot;TR7&quot;</td></tr><tr><td>28377401</td><td>1</td><td>null</td><td>1</td><td>&quot;V09&quot;</td><td>3</td><td>&quot;P240424601&quot;</td><td>&quot;X&quot;</td><td>&quot;TR7&quot;</td></tr><tr><td>11579600</td><td>3</td><td>null</td><td>3</td><td>&quot;G08&quot;</td><td>2</td><td>&quot;P240425501&quot;</td><td>&quot;X&quot;</td><td>&quot;TR7&quot;</td></tr></tbody></table></div>"
      ],
      "text/plain": [
       "shape: (897_317, 9)\n",
       "┌────────────┬────────────┬───────────┬───────────┬───┬───────────┬───────────┬─────────┬──────────┐\n",
       "│ Supplier   ┆ Supplier   ┆ Supplier  ┆ Supplier  ┆ … ┆ Plant     ┆ truck_id  ┆ dataset ┆ instance │\n",
       "│ code       ┆ loading    ┆ dock      ┆ dock      ┆   ┆ dock      ┆ ---       ┆ ---     ┆ ---      │\n",
       "│ ---        ┆ order      ┆ ---       ┆ loading   ┆   ┆ loading   ┆ str       ┆ str     ┆ str      │\n",
       "│ i64        ┆ ---        ┆ str       ┆ order     ┆   ┆ order     ┆           ┆         ┆          │\n",
       "│            ┆ i64        ┆           ┆ ---       ┆   ┆ ---       ┆           ┆         ┆          │\n",
       "│            ┆            ┆           ┆ i64       ┆   ┆ i64       ┆           ┆         ┆          │\n",
       "╞════════════╪════════════╪═══════════╪═══════════╪═══╪═══════════╪═══════════╪═════════╪══════════╡\n",
       "│ 62059600   ┆ 1          ┆ null      ┆ 1         ┆ … ┆ 1         ┆ P18773100 ┆ A       ┆ AS       │\n",
       "│            ┆            ┆           ┆           ┆   ┆           ┆ 1         ┆         ┆          │\n",
       "│ 29908700   ┆ 1          ┆ null      ┆ 1         ┆ … ┆ 1         ┆ P18973040 ┆ A       ┆ AS       │\n",
       "│            ┆            ┆           ┆           ┆   ┆           ┆ 3         ┆         ┆          │\n",
       "│ 62059600   ┆ 1          ┆ null      ┆ 1         ┆ … ┆ 1         ┆ P18973100 ┆ A       ┆ AS       │\n",
       "│            ┆            ┆           ┆           ┆   ┆           ┆ 1         ┆         ┆          │\n",
       "│ 28091900   ┆ 1          ┆ null      ┆ 1         ┆ … ┆ 1         ┆ P19270820 ┆ A       ┆ AS       │\n",
       "│            ┆            ┆           ┆           ┆   ┆           ┆ 1         ┆         ┆          │\n",
       "│ …          ┆ …          ┆ …         ┆ …         ┆ … ┆ …         ┆ …         ┆ …       ┆ …        │\n",
       "│ 11565600   ┆ 3          ┆ null      ┆ 3         ┆ … ┆ 5         ┆ P24042310 ┆ X       ┆ TR7      │\n",
       "│            ┆            ┆           ┆           ┆   ┆           ┆ 9         ┆         ┆          │\n",
       "│ 27830201   ┆ 1          ┆ null      ┆ 1         ┆ … ┆ 4         ┆ P24042420 ┆ X       ┆ TR7      │\n",
       "│            ┆            ┆           ┆           ┆   ┆           ┆ 1         ┆         ┆          │\n",
       "│ 28377401   ┆ 1          ┆ null      ┆ 1         ┆ … ┆ 3         ┆ P24042460 ┆ X       ┆ TR7      │\n",
       "│            ┆            ┆           ┆           ┆   ┆           ┆ 1         ┆         ┆          │\n",
       "│ 11579600   ┆ 3          ┆ null      ┆ 3         ┆ … ┆ 2         ┆ P24042550 ┆ X       ┆ TR7      │\n",
       "│            ┆            ┆           ┆           ┆   ┆           ┆ 1         ┆         ┆          │\n",
       "└────────────┴────────────┴───────────┴───────────┴───┴───────────┴───────────┴─────────┴──────────┘"
      ]
     },
     "execution_count": 6,
     "metadata": {},
     "output_type": "execute_result"
    }
   ],
   "source": [
    "file = \"trucks.csv\"\n",
    "\n",
    "truck_path = os.path.join(cwd, folder, file)\n",
    "\n",
    "truck_clms = [\"Id truck\", \"dataset\", \"instance\",\n",
    "              \"Supplier code\", \"Supplier dock\", \"Plant dock\",\n",
    "              \"Supplier loading order\", \"Supplier dock loading order\", \"Plant dock loading order\",\n",
    "             ]\n",
    "\n",
    "truck_stops = (\n",
    "    pl.read_csv(source = truck_path, columns = truck_clms)\n",
    "    .lazy()\n",
    "    .rename({\"Id truck\": \"truck_id\"})\n",
    "    .sort([\"dataset\", \"instance\", \"truck_id\"])\n",
    "    .with_columns([pl.col(\"dataset\").str.extract(\"(\\w)\")])\n",
    "    .unique()\n",
    ")\n",
    "truck_stops.collect()"
   ]
  },
  {
   "cell_type": "code",
   "execution_count": 7,
   "id": "4e492480-4e8d-4534-8029-096c64ec1da1",
   "metadata": {
    "scrolled": true
   },
   "outputs": [
    {
     "data": {
      "text/html": [
       "<div><style>\n",
       ".dataframe > thead > tr > th,\n",
       ".dataframe > tbody > tr > td {\n",
       "  text-align: right;\n",
       "  white-space: pre-wrap;\n",
       "}\n",
       "</style>\n",
       "<small>shape: (518_012, 8)</small><table border=\"1\" class=\"dataframe\"><thead><tr><th>truck_id</th><th>Length</th><th>Width</th><th>Weight</th><th>EMmm</th><th>EMmr</th><th>dataset</th><th>instance</th></tr><tr><td>str</td><td>f64</td><td>f64</td><td>f64</td><td>f64</td><td>f64</td><td>str</td><td>str</td></tr></thead><tbody><tr><td>&quot;P187721701&quot;</td><td>14.94</td><td>2.5</td><td>24.0</td><td>12.0</td><td>31.5</td><td>&quot;A&quot;</td><td>&quot;AS&quot;</td></tr><tr><td>&quot;P187730503&quot;</td><td>14.94</td><td>2.5</td><td>24.0</td><td>12.0</td><td>31.5</td><td>&quot;A&quot;</td><td>&quot;AS&quot;</td></tr><tr><td>&quot;P188730403&quot;</td><td>14.94</td><td>2.5</td><td>24.0</td><td>12.0</td><td>31.5</td><td>&quot;A&quot;</td><td>&quot;AS&quot;</td></tr><tr><td>&quot;P189730405&quot;</td><td>14.94</td><td>2.5</td><td>24.0</td><td>12.0</td><td>31.5</td><td>&quot;A&quot;</td><td>&quot;AS&quot;</td></tr><tr><td>&quot;P189730407&quot;</td><td>14.94</td><td>2.5</td><td>24.0</td><td>12.0</td><td>31.5</td><td>&quot;A&quot;</td><td>&quot;AS&quot;</td></tr><tr><td>&quot;P189731303&quot;</td><td>14.94</td><td>2.5</td><td>24.0</td><td>12.0</td><td>31.5</td><td>&quot;A&quot;</td><td>&quot;AS&quot;</td></tr><tr><td>&quot;P192730401&quot;</td><td>14.94</td><td>2.5</td><td>24.0</td><td>12.0</td><td>31.5</td><td>&quot;A&quot;</td><td>&quot;AS&quot;</td></tr><tr><td>&quot;P192730403&quot;</td><td>14.94</td><td>2.5</td><td>24.0</td><td>12.0</td><td>31.5</td><td>&quot;A&quot;</td><td>&quot;AS&quot;</td></tr><tr><td>&quot;P192731005&quot;</td><td>14.94</td><td>2.5</td><td>24.0</td><td>12.0</td><td>31.5</td><td>&quot;A&quot;</td><td>&quot;AS&quot;</td></tr><tr><td>&quot;P192731301&quot;</td><td>14.94</td><td>2.5</td><td>24.0</td><td>12.0</td><td>31.5</td><td>&quot;A&quot;</td><td>&quot;AS&quot;</td></tr><tr><td>&quot;P192731801&quot;</td><td>14.94</td><td>2.5</td><td>24.0</td><td>12.0</td><td>31.5</td><td>&quot;A&quot;</td><td>&quot;AS&quot;</td></tr><tr><td>&quot;P193730503&quot;</td><td>14.94</td><td>2.5</td><td>24.0</td><td>12.0</td><td>31.5</td><td>&quot;A&quot;</td><td>&quot;AS&quot;</td></tr><tr><td>&hellip;</td><td>&hellip;</td><td>&hellip;</td><td>&hellip;</td><td>&hellip;</td><td>&hellip;</td><td>&hellip;</td><td>&hellip;</td></tr><tr><td>&quot;P224425505&quot;</td><td>13.5</td><td>2.44</td><td>24.0</td><td>12.0</td><td>31.5</td><td>&quot;X&quot;</td><td>&quot;TR7&quot;</td></tr><tr><td>&quot;P240272501&quot;</td><td>13.5</td><td>2.44</td><td>24.0</td><td>12.0</td><td>31.5</td><td>&quot;X&quot;</td><td>&quot;TR7&quot;</td></tr><tr><td>&quot;P240272801&quot;</td><td>13.5</td><td>2.44</td><td>24.0</td><td>11.5</td><td>31.5</td><td>&quot;X&quot;</td><td>&quot;TR7&quot;</td></tr><tr><td>&quot;P240276501&quot;</td><td>13.5</td><td>2.44</td><td>24.0</td><td>11.5</td><td>31.5</td><td>&quot;X&quot;</td><td>&quot;TR7&quot;</td></tr><tr><td>&quot;P240277001&quot;</td><td>13.5</td><td>2.44</td><td>24.0</td><td>11.5</td><td>31.5</td><td>&quot;X&quot;</td><td>&quot;TR7&quot;</td></tr><tr><td>&quot;P240277201&quot;</td><td>13.5</td><td>2.44</td><td>24.0</td><td>11.5</td><td>31.5</td><td>&quot;X&quot;</td><td>&quot;TR7&quot;</td></tr><tr><td>&quot;P240278101&quot;</td><td>13.5</td><td>2.44</td><td>24.0</td><td>11.5</td><td>31.5</td><td>&quot;X&quot;</td><td>&quot;TR7&quot;</td></tr><tr><td>&quot;P240421601&quot;</td><td>13.5</td><td>2.44</td><td>24.0</td><td>12.0</td><td>31.5</td><td>&quot;X&quot;</td><td>&quot;TR7&quot;</td></tr><tr><td>&quot;P240421805&quot;</td><td>13.5</td><td>2.44</td><td>24.0</td><td>12.0</td><td>31.5</td><td>&quot;X&quot;</td><td>&quot;TR7&quot;</td></tr><tr><td>&quot;P240422505&quot;</td><td>13.5</td><td>2.44</td><td>24.0</td><td>12.0</td><td>31.5</td><td>&quot;X&quot;</td><td>&quot;TR7&quot;</td></tr><tr><td>&quot;P240424701&quot;</td><td>13.5</td><td>2.44</td><td>24.0</td><td>11.5</td><td>31.5</td><td>&quot;X&quot;</td><td>&quot;TR7&quot;</td></tr><tr><td>&quot;P240425301&quot;</td><td>13.5</td><td>2.44</td><td>24.0</td><td>12.0</td><td>31.5</td><td>&quot;X&quot;</td><td>&quot;TR7&quot;</td></tr></tbody></table></div>"
      ],
      "text/plain": [
       "shape: (518_012, 8)\n",
       "┌────────────┬────────┬───────┬────────┬──────┬──────┬─────────┬──────────┐\n",
       "│ truck_id   ┆ Length ┆ Width ┆ Weight ┆ EMmm ┆ EMmr ┆ dataset ┆ instance │\n",
       "│ ---        ┆ ---    ┆ ---   ┆ ---    ┆ ---  ┆ ---  ┆ ---     ┆ ---      │\n",
       "│ str        ┆ f64    ┆ f64   ┆ f64    ┆ f64  ┆ f64  ┆ str     ┆ str      │\n",
       "╞════════════╪════════╪═══════╪════════╪══════╪══════╪═════════╪══════════╡\n",
       "│ P187721701 ┆ 14.94  ┆ 2.5   ┆ 24.0   ┆ 12.0 ┆ 31.5 ┆ A       ┆ AS       │\n",
       "│ P187730503 ┆ 14.94  ┆ 2.5   ┆ 24.0   ┆ 12.0 ┆ 31.5 ┆ A       ┆ AS       │\n",
       "│ P188730403 ┆ 14.94  ┆ 2.5   ┆ 24.0   ┆ 12.0 ┆ 31.5 ┆ A       ┆ AS       │\n",
       "│ P189730405 ┆ 14.94  ┆ 2.5   ┆ 24.0   ┆ 12.0 ┆ 31.5 ┆ A       ┆ AS       │\n",
       "│ …          ┆ …      ┆ …     ┆ …      ┆ …    ┆ …    ┆ …       ┆ …        │\n",
       "│ P240421805 ┆ 13.5   ┆ 2.44  ┆ 24.0   ┆ 12.0 ┆ 31.5 ┆ X       ┆ TR7      │\n",
       "│ P240422505 ┆ 13.5   ┆ 2.44  ┆ 24.0   ┆ 12.0 ┆ 31.5 ┆ X       ┆ TR7      │\n",
       "│ P240424701 ┆ 13.5   ┆ 2.44  ┆ 24.0   ┆ 11.5 ┆ 31.5 ┆ X       ┆ TR7      │\n",
       "│ P240425301 ┆ 13.5   ┆ 2.44  ┆ 24.0   ┆ 12.0 ┆ 31.5 ┆ X       ┆ TR7      │\n",
       "└────────────┴────────┴───────┴────────┴──────┴──────┴─────────┴──────────┘"
      ]
     },
     "execution_count": 7,
     "metadata": {},
     "output_type": "execute_result"
    }
   ],
   "source": [
    "file = \"trucks.csv\"\n",
    "\n",
    "truck_path = os.path.join(cwd, folder, file)\n",
    "\n",
    "truck_clms = [\"Id truck\", \"dataset\", \"instance\",\n",
    "              \"Length\", \"Width\", \"Max weight\",\n",
    "              \"EMmm\", \"EMmr\"\n",
    "             ]\n",
    "\n",
    "truck_dims = (\n",
    "    pl.read_csv(source = truck_path, columns = truck_clms)\n",
    "    .lazy()\n",
    "    .rename({\"Id truck\": \"truck_id\", \"Max weight\": \"Weight\"})\n",
    "    .sort([\"dataset\", \"instance\", \"truck_id\"])\n",
    "    .with_columns([pl.col(\"dataset\").str.extract(\"(\\w)\")])\n",
    "    .unique()\n",
    ")\n",
    "\n",
    "truck_dims = truck_dims.with_columns([\n",
    "    (pl.col(\"Length\") / 1000),\n",
    "    (pl.col(\"Width\") / 1000),\n",
    "    (pl.col(\"Weight\") / 1000),\n",
    "    (pl.col(\"EMmm\") / 1000),\n",
    "    (pl.col(\"EMmr\") / 1000),\n",
    "])\n",
    "\n",
    "truck_dims.collect()"
   ]
  },
  {
   "cell_type": "markdown",
   "id": "e4904732-a116-4f7d-a5c1-8d17caf2a558",
   "metadata": {},
   "source": [
    "## Preprocessing Functions:"
   ]
  },
  {
   "cell_type": "code",
   "execution_count": 8,
   "id": "2d9335a9-2bd8-41f7-ba46-909dee42efc3",
   "metadata": {},
   "outputs": [],
   "source": [
    "import sys\n",
    "sys.path.append(\"..\")\n",
    "\n",
    "from utils.preprocessing import extract_raw_data, explode_instances_into_stacks, explode_stacks_into_items\n",
    "from utils.preprocessing import join_items, group_items_by_stack, join_truck_loading_order, append_truck_info"
   ]
  },
  {
   "cell_type": "code",
   "execution_count": 9,
   "id": "f191cc73-619b-4f7e-9f1d-2ed53bca5583",
   "metadata": {
    "scrolled": true
   },
   "outputs": [
    {
     "data": {
      "text/plain": [
       "array([[0, 1.206, 1.01, 0.07465000000000001, 0.0, 0.0, '2-2-1', False],\n",
       "       [0, 1.206, 1.01, 0.5669, 0.0, 0.0, '2-2-3', False],\n",
       "       [0, 1.8, 1.205, 0.84, 0.0, 0.0, '3-3-3', False],\n",
       "       [0, 1.8, 1.205, 0.84, 0.0, 0.0, '3-3-3', False],\n",
       "       [0, 1.8, 1.205, 0.84, 0.0, 0.0, '3-3-3', False],\n",
       "       [0, 1.8, 1.205, 0.84, 0.0, 0.0, '3-3-3', False],\n",
       "       [0, 1.8, 1.205, 0.84, 0.0, 0.0, '3-3-3', False],\n",
       "       [0, 1.8, 1.205, 0.84, 0.0, 0.0, '3-3-3', False],\n",
       "       [0, 1.8, 1.205, 0.84, 0.0, 0.0, '3-3-3', False],\n",
       "       [0, 1.8, 1.205, 0.84, 0.0, 0.0, '3-3-3', False],\n",
       "       [0, 1.8, 1.205, 0.84, 0.0, 0.0, '3-3-3', False],\n",
       "       [0, 1.8, 1.205, 0.84, 0.0, 0.0, '3-3-3', False],\n",
       "       [0, 1.8, 1.205, 0.84, 0.0, 0.0, '3-3-3', False],\n",
       "       [0, 1.8, 1.205, 0.84, 0.0, 0.0, '3-3-3', False],\n",
       "       [0, 1.8, 1.205, 0.42, 0.0, 0.0, '3-3-3', False],\n",
       "       [0, 1.8, 0.8, 0.096, 0.0, 0.0, '3-3-3', False],\n",
       "       [0, 13.5, 2.44, 24.0, 12.0, 31.5, '0-0-0', False],\n",
       "       [1, 1.2, 1.0, 0.31467999999999996, 0.0, 0.0, '1-1-1', False],\n",
       "       [1, 1.2, 1.0, 0.22376000000000001, 0.0, 0.0, '1-1-1', False],\n",
       "       [1, 1.2, 1.0, 0.22376000000000001, 0.0, 0.0, '1-1-1', False],\n",
       "       [1, 1.2, 1.0, 0.24956000000000003, 0.0, 0.0, '1-1-1', False],\n",
       "       [1, 1.2, 1.0, 0.22820000000000001, 0.0, 0.0, '1-1-1', False],\n",
       "       [1, 1.2, 1.0, 0.206608, 0.0, 0.0, '1-1-1', False],\n",
       "       [1, 1.2, 1.0, 0.213712, 0.0, 0.0, '1-1-1', False],\n",
       "       [1, 1.2, 1.0, 0.281212, 0.0, 0.0, '1-1-1', False],\n",
       "       [1, 1.2, 1.0, 0.31416, 0.0, 0.0, '1-1-1', False],\n",
       "       [1, 1.2, 1.0, 0.30278, 0.0, 0.0, '1-1-1', False],\n",
       "       [1, 1.2, 1.0, 0.30875600000000003, 0.0, 0.0, '1-1-1', False],\n",
       "       [1, 1.2, 1.0, 0.38892, 0.0, 0.0, '1-1-1', False],\n",
       "       [1, 1.2, 1.0, 0.35182, 0.0, 0.0, '1-1-1', False],\n",
       "       ...,\n",
       "       [1022, 1.8, 1.2, 0.841124, 0.0, 0.0, '1-1-1', False],\n",
       "       [1022, 1.8, 1.2, 0.84116, 0.0, 0.0, '1-1-1', False],\n",
       "       [1022, 1.8, 1.2, 0.84116, 0.0, 0.0, '1-1-1', False],\n",
       "       [1022, 1.8, 1.2, 0.84116, 0.0, 0.0, '1-1-1', False],\n",
       "       [1022, 13.5, 2.44, 25.0, 11.5, 31.5, '0-0-0', False],\n",
       "       [1023, 0.78, 0.57, 0.58775, 0.0, 1.0, '1-1-2', False],\n",
       "       [1023, 0.78, 0.57, 0.1758, 0.0, 1.0, '1-1-2', False],\n",
       "       [1023, 0.78, 0.57, 0.492, 0.0, 1.0, '2-2-2', False],\n",
       "       [1023, 0.78, 0.57, 0.30245, 0.0, 1.0, '2-2-2', False],\n",
       "       [1023, 1.2, 1.0, 0.7049700000000001, 0.0, 0.0, '1-1-2', False],\n",
       "       [1023, 1.2, 1.0, 0.6781999999999999, 0.0, 0.0, '1-1-2', False],\n",
       "       [1023, 1.2, 1.0, 0.79009, 0.0, 0.0, '1-1-2', False],\n",
       "       [1023, 1.2, 1.0, 0.86636, 0.0, 0.0, '1-1-2', False],\n",
       "       [1023, 1.2, 1.0, 0.66411, 0.0, 0.0, '1-1-2', False],\n",
       "       [1023, 1.2, 1.0, 0.7254, 0.0, 0.0, '1-1-2', False],\n",
       "       [1023, 1.2, 1.0, 0.6609400000000001, 0.0, 0.0, '1-1-2', False],\n",
       "       [1023, 1.2, 1.0, 0.79009, 0.0, 0.0, '1-1-2', False],\n",
       "       [1023, 1.2, 1.0, 1.10637, 0.0, 0.0, '2-2-2', False],\n",
       "       [1023, 1.2, 1.0, 0.9121000000000001, 0.0, 0.0, '2-2-2', False],\n",
       "       [1023, 1.2, 1.0, 0.8682000000000001, 0.0, 0.0, '2-2-2', False],\n",
       "       [1023, 1.2, 1.0, 0.8724000000000001, 0.0, 0.0, '2-2-2', False],\n",
       "       [1023, 1.2, 1.0, 1.21295, 0.0, 0.0, '2-2-2', False],\n",
       "       [1023, 1.6, 1.2, 1.007804, 0.0, 0.0, '1-1-5', False],\n",
       "       [1023, 1.6, 1.2, 1.067758, 0.0, 0.0, '1-1-5', False],\n",
       "       [1023, 1.6, 1.2, 1.02534, 0.0, 0.0, '1-1-5', False],\n",
       "       [1023, 1.6, 1.2, 0.6319, 0.0, 0.0, '1-1-5', False],\n",
       "       [1023, 1.6, 1.2, 1.007804, 0.0, 0.0, '1-1-5', False],\n",
       "       [1023, 1.6, 1.2, 0.6577299999999999, 0.0, 0.0, '1-1-5', False],\n",
       "       [1023, 1.6, 1.2, 0.97368, 0.0, 0.0, '1-1-5', False],\n",
       "       [1023, 13.5, 2.44, 24.0, 12.0, 31.5, '0-0-0', False]], dtype=object)"
      ]
     },
     "execution_count": 9,
     "metadata": {},
     "output_type": "execute_result"
    }
   ],
   "source": [
    "XX = (\n",
    "    df.lazy()\n",
    "    .pipe(extract_raw_data)\n",
    "    .pipe(explode_instances_into_stacks)\n",
    "    .pipe(explode_stacks_into_items)\n",
    "    .pipe(join_items, items)\n",
    "    .pipe(group_items_by_stack)\n",
    "    .pipe(join_truck_loading_order, truck_stops)\n",
    "    .pipe(append_truck_info, truck_dims)\n",
    "    .collect()\n",
    "    .to_numpy()\n",
    ")\n",
    "\n",
    "XX"
   ]
  },
  {
   "cell_type": "code",
   "execution_count": 10,
   "id": "a4c5abbd-dbdb-49a6-a47b-a8c47618b916",
   "metadata": {},
   "outputs": [
    {
     "data": {
      "text/plain": [
       "(1024, 80, 9)"
      ]
     },
     "execution_count": 10,
     "metadata": {},
     "output_type": "execute_result"
    }
   ],
   "source": [
    "def get_tensor_representation(X, packing_clm=6):\n",
    "\n",
    "    # add columns for Length and Width Remainder\n",
    "    X = np.append(X, np.zeros((X.shape[0], 2)), axis=1)\n",
    "    \n",
    "    indices = np.unique(X[:, 0])\n",
    "    indices = np.sort(indices)\n",
    "\n",
    "    # (batch_size, ?, features)\n",
    "    X = np.array([X[X[:,0] == idx] for idx in indices], dtype = \"object\")\n",
    "\n",
    "    # replace the packing order with the stop index (i.e 1-1-1 and 1-1-2 turn to 0 and 1, respectively)\n",
    "    #packing_clm = min([i for i, clm in enumerate(df.columns) if clm == \"packing_order\"])\n",
    "    \n",
    "    for i, x in enumerate(X):\n",
    "        packing_order = x[:,packing_clm]\n",
    "        stops = np.unique(packing_order)\n",
    "        stops = np.sort(stops)\n",
    "        stops = {stop: j for j, stop in enumerate(stops)}\n",
    "        stops = [stops[order] for order in packing_order]\n",
    "        X[i][:,packing_clm] = stops\n",
    "\n",
    "    # pad the variable length number of stacks into fixed\n",
    "    #  (batch_size, pad_size, features)\n",
    "    X = tf.keras.utils.pad_sequences(X, maxlen=PAD_SIZE, padding = \"post\", dtype=\"float64\")\n",
    "    # drop the index column (batch_size, pad_len, n_features)\n",
    "    X = X[:,:,1:].astype(float)\n",
    "\n",
    "    # Add Length and width Remainder\n",
    "    for xx in X:\n",
    "        truck_width = max(xx[:,1])\n",
    "        # Length Remainder\n",
    "        xx[:,-2] = truck_width % xx[:,0]\n",
    "        # Width Remainder\n",
    "        xx[:,-1] = truck_width % xx[:,1]\n",
    "    \n",
    "    X = np.nan_to_num(X)\n",
    "    \n",
    "    return X\n",
    "\n",
    "c = get_tensor_representation(XX)\n",
    "c.shape"
   ]
  },
  {
   "cell_type": "code",
   "execution_count": 11,
   "id": "1dab19ec-58a3-4088-a89b-934e01616d60",
   "metadata": {},
   "outputs": [],
   "source": [
    "def get_additional_labels(df: pl.DataFrame) -> dict[str: np.array]:\n",
    "    \"\"\"\n",
    "    \"\"\"\n",
    "\n",
    "    pattern = \"MIP Improvement - 2D Vol: \\d*\\.\\d* \\[m2\\] - packed 2D Vol Ratio\\: \\d*\\.\\d* \\[\\%\\] - after \\d*\\.\\d* \\[s\\]\"\n",
    "    mip_improvements = df[\"raw\"].str.extract_all(pattern)#.list[-1][2]\n",
    "\n",
    "    # mip_improvements: pl.Series[list[str]]\n",
    "    # with entries according to the pattern, i.e all MIP improvement rows\n",
    "    \n",
    "    y_num_improvements = mip_improvements.list.len()-1\n",
    "    \n",
    "    y_improvement = y_num_improvements > 0\n",
    "\n",
    "    y_packed_area_ratio = mip_improvements.list[-1].str.extract(\"\\: (\\d*\\.\\d*) \\[\\%\\]\").cast(pl.Float32)\n",
    "\n",
    "    y_packed_area = mip_improvements.list[-1].str.extract(\"- 2D Vol: (\\d*\\.\\d*) \\[m2\\]\").cast(pl.Float32)\n",
    "\n",
    "    y_first_update = mip_improvements.list[1].str.extract(\"- after (\\d*\\.\\d*) \\[s\\]\").cast(pl.Float32).fill_null(0)\n",
    "    \n",
    "    y_last_update = mip_improvements.list[-1].str.extract(\"- after (\\d*\\.\\d*) \\[s\\]\").cast(pl.Float32)\n",
    "\n",
    "    # missing stacks:\n",
    "    y_stack_not_included = np.zeros((len(df), PAD_SIZE), dtype=float)\n",
    "    pattern = \"Stack (\\d*) not in final solution with items:\"\n",
    "    x = df[\"raw\"].str.extract_all(pattern).map_elements(lambda x: [int(i.split(\" \")[1]) for i in x])\n",
    "    \n",
    "    for i, missing_stacks in enumerate(x):\n",
    "        for j in missing_stacks:\n",
    "            y_stack_not_included[i, j] +=1\n",
    "\n",
    "\n",
    "    y = [\n",
    "        y_improvement.to_numpy().astype(int),\n",
    "        #y_num_improvements.to_numpy().astype(int),\n",
    "        #y_packed_area_ratio.to_numpy(),\n",
    "        #y_packed_area.to_numpy(),\n",
    "        #np.log1p(y_first_update.to_numpy()),\n",
    "        #y_last_update.to_numpy(),\n",
    "        y_stack_not_included\n",
    "    ]\n",
    "    \n",
    "    return y"
   ]
  },
  {
   "cell_type": "code",
   "execution_count": 12,
   "id": "bafa29a5-dc95-42ea-b83c-71eb6033d6b4",
   "metadata": {},
   "outputs": [],
   "source": [
    "pattern = \"MIP Improvement - 2D Vol: \\d*\\.\\d* \\[m2\\] - packed 2D Vol Ratio\\: \\d*\\.\\d* \\[\\%\\] - after \\d*\\.\\d* \\[s\\]\"\n",
    "mip_improvements = df[\"raw\"].str.extract_all(pattern)#.list[-1][2]\n",
    "y_num_improvements = mip_improvements.list.len()-1\n",
    "y_improvement = y_num_improvements > 0"
   ]
  },
  {
   "cell_type": "code",
   "execution_count": 13,
   "id": "40b87667-6312-4513-8242-501990e1deac",
   "metadata": {},
   "outputs": [],
   "source": [
    "y_stack_not_included = np.zeros((BATCH_SIZE, PAD_SIZE), dtype=float)\n",
    "pattern = \"Stack (\\d*) not in final solution with items:\"\n",
    "x = df[\"raw\"].str.extract_all(pattern).map_elements(lambda x: [int(i.split(\" \")[1]) for i in x])\n",
    "    \n",
    "for i, missing_stacks in enumerate(x):\n",
    "    for j in missing_stacks:\n",
    "        y_stack_not_included[i, j] +=1"
   ]
  },
  {
   "cell_type": "code",
   "execution_count": 14,
   "id": "c124bd32-2e6d-49c5-8860-26ab6cb216f3",
   "metadata": {},
   "outputs": [],
   "source": [
    "def polars_transformation(X_batch, y_batch, shuffle=True) -> (np.array, np.array):\n",
    "    \"\"\"\n",
    "\n",
    "    Returns:\n",
    "    --------\n",
    "    X: np.array[float32]\n",
    "        3D Feature Tensor of shape (Batch_size, Pad_size, n_features=7)\n",
    "\n",
    "        - Batch_size: Truck Optimization Instances\n",
    "        - Pad_size: Stacks (or Trucks), padded up to create tensors\n",
    "        - n_features: Length, Width, Weight, L/W Forced Orientation\n",
    "                      packing order, is_truck\n",
    "    \"\"\"\n",
    "    \n",
    "    df = pl.DataFrame({\"raw\": X_batch.numpy().astype(str)})\n",
    "    \n",
    "    X = (\n",
    "        df.lazy()\n",
    "        .pipe(extract_raw_data)\n",
    "        .pipe(explode_instances_into_stacks)\n",
    "        .pipe(explode_stacks_into_items)\n",
    "        .pipe(join_items, items)\n",
    "        .pipe(group_items_by_stack)\n",
    "        .pipe(join_truck_loading_order, truck_stops)\n",
    "        .pipe(append_truck_info, truck_dims)\n",
    "        .collect()\n",
    "        .to_numpy()\n",
    "    )\n",
    "\n",
    "    X = get_tensor_representation(X)\n",
    "\n",
    "    # fill final column with bool for stack not in initial solution\n",
    "    pattern = \"Stack (\\d*) missing:\"\n",
    "    x = df[\"raw\"].str.extract_all(pattern).map_elements(lambda x: [int(i.split(\" \")[1]) for i in x])\n",
    "\n",
    "    for i, missing_stacks in enumerate(x):\n",
    "        for j in missing_stacks:\n",
    "            X[i, j, 6] +=1\n",
    "\n",
    "    \n",
    "    # extract the time limit\n",
    "    pattern = \"2D Packing MIP with Time Limit (\\d*\\.?\\d*) \\[s\\]\"\n",
    "    x_time_limit = df[\"raw\"].str.extract(pattern).cast(pl.Float32).to_numpy()\n",
    "\n",
    "    y_batch = y_batch.numpy()\n",
    "    y_batch = [y_batch]\n",
    "    y_extra = get_additional_labels(df)\n",
    "\n",
    "    if shuffle:\n",
    "        idx = np.arange(X.shape[1])\n",
    "        idx = np.random.choice(idx, size=PAD_SIZE, replace=False)\n",
    "        X = X[:,idx,:]\n",
    "        y_extra[-1] = y_extra[-1][:,idx]\n",
    "\n",
    "    \n",
    "    y_batch += y_extra\n",
    "    # Drop y_batch\n",
    "    #y_batch = y_extra\n",
    "\n",
    "    X = [X, x_time_limit]\n",
    "    \n",
    "    return X, y_batch\n",
    "\n",
    "cx, cy = polars_transformation(X, y, shuffle=False)"
   ]
  },
  {
   "cell_type": "code",
   "execution_count": 15,
   "id": "b2235d83-51e0-4c01-84e7-c04cb712ced5",
   "metadata": {},
   "outputs": [
    {
     "data": {
      "text/plain": [
       "array([[ 1.206  ,  1.01   ,  0.07465,  0.     ,  0.     ,  1.     ,  0.     ,  0.028  ,  0.42   ],\n",
       "       [ 1.206  ,  1.01   ,  0.5669 ,  0.     ,  0.     ,  2.     ,  0.     ,  0.028  ,  0.42   ],\n",
       "       [ 1.8    ,  1.205  ,  0.84   ,  0.     ,  0.     ,  3.     ,  0.     ,  0.64   ,  0.03   ],\n",
       "       [ 1.8    ,  1.205  ,  0.84   ,  0.     ,  0.     ,  3.     ,  0.     ,  0.64   ,  0.03   ],\n",
       "       [ 1.8    ,  1.205  ,  0.84   ,  0.     ,  0.     ,  3.     ,  0.     ,  0.64   ,  0.03   ],\n",
       "       [ 1.8    ,  1.205  ,  0.84   ,  0.     ,  0.     ,  3.     ,  0.     ,  0.64   ,  0.03   ],\n",
       "       [ 1.8    ,  1.205  ,  0.84   ,  0.     ,  0.     ,  3.     ,  0.     ,  0.64   ,  0.03   ],\n",
       "       [ 1.8    ,  1.205  ,  0.84   ,  0.     ,  0.     ,  3.     ,  0.     ,  0.64   ,  0.03   ],\n",
       "       [ 1.8    ,  1.205  ,  0.84   ,  0.     ,  0.     ,  3.     ,  0.     ,  0.64   ,  0.03   ],\n",
       "       [ 1.8    ,  1.205  ,  0.84   ,  0.     ,  0.     ,  3.     ,  0.     ,  0.64   ,  0.03   ],\n",
       "       [ 1.8    ,  1.205  ,  0.84   ,  0.     ,  0.     ,  3.     ,  0.     ,  0.64   ,  0.03   ],\n",
       "       [ 1.8    ,  1.205  ,  0.84   ,  0.     ,  0.     ,  3.     ,  0.     ,  0.64   ,  0.03   ],\n",
       "       [ 1.8    ,  1.205  ,  0.84   ,  0.     ,  0.     ,  3.     ,  0.     ,  0.64   ,  0.03   ],\n",
       "       [ 1.8    ,  1.205  ,  0.84   ,  0.     ,  0.     ,  3.     ,  1.     ,  0.64   ,  0.03   ],\n",
       "       [ 1.8    ,  1.205  ,  0.42   ,  0.     ,  0.     ,  3.     ,  0.     ,  0.64   ,  0.03   ],\n",
       "       [ 1.8    ,  0.8    ,  0.096  ,  0.     ,  0.     ,  3.     ,  1.     ,  0.64   ,  0.04   ],\n",
       "       [13.5    ,  2.44   , 24.     , 12.     , 31.5    ,  0.     ,  0.     ,  2.44   ,  0.     ],\n",
       "       [ 0.     ,  0.     ,  0.     ,  0.     ,  0.     ,  0.     ,  0.     ,  0.     ,  0.     ],\n",
       "       [ 0.     ,  0.     ,  0.     ,  0.     ,  0.     ,  0.     ,  0.     ,  0.     ,  0.     ],\n",
       "       [ 0.     ,  0.     ,  0.     ,  0.     ,  0.     ,  0.     ,  0.     ,  0.     ,  0.     ],\n",
       "       [ 0.     ,  0.     ,  0.     ,  0.     ,  0.     ,  0.     ,  0.     ,  0.     ,  0.     ],\n",
       "       [ 0.     ,  0.     ,  0.     ,  0.     ,  0.     ,  0.     ,  0.     ,  0.     ,  0.     ],\n",
       "       [ 0.     ,  0.     ,  0.     ,  0.     ,  0.     ,  0.     ,  0.     ,  0.     ,  0.     ],\n",
       "       [ 0.     ,  0.     ,  0.     ,  0.     ,  0.     ,  0.     ,  0.     ,  0.     ,  0.     ],\n",
       "       [ 0.     ,  0.     ,  0.     ,  0.     ,  0.     ,  0.     ,  0.     ,  0.     ,  0.     ],\n",
       "       [ 0.     ,  0.     ,  0.     ,  0.     ,  0.     ,  0.     ,  0.     ,  0.     ,  0.     ],\n",
       "       [ 0.     ,  0.     ,  0.     ,  0.     ,  0.     ,  0.     ,  0.     ,  0.     ,  0.     ],\n",
       "       [ 0.     ,  0.     ,  0.     ,  0.     ,  0.     ,  0.     ,  0.     ,  0.     ,  0.     ],\n",
       "       [ 0.     ,  0.     ,  0.     ,  0.     ,  0.     ,  0.     ,  0.     ,  0.     ,  0.     ],\n",
       "       [ 0.     ,  0.     ,  0.     ,  0.     ,  0.     ,  0.     ,  0.     ,  0.     ,  0.     ],\n",
       "       [ 0.     ,  0.     ,  0.     ,  0.     ,  0.     ,  0.     ,  0.     ,  0.     ,  0.     ],\n",
       "       [ 0.     ,  0.     ,  0.     ,  0.     ,  0.     ,  0.     ,  0.     ,  0.     ,  0.     ],\n",
       "       [ 0.     ,  0.     ,  0.     ,  0.     ,  0.     ,  0.     ,  0.     ,  0.     ,  0.     ],\n",
       "       [ 0.     ,  0.     ,  0.     ,  0.     ,  0.     ,  0.     ,  0.     ,  0.     ,  0.     ],\n",
       "       [ 0.     ,  0.     ,  0.     ,  0.     ,  0.     ,  0.     ,  0.     ,  0.     ,  0.     ],\n",
       "       [ 0.     ,  0.     ,  0.     ,  0.     ,  0.     ,  0.     ,  0.     ,  0.     ,  0.     ],\n",
       "       [ 0.     ,  0.     ,  0.     ,  0.     ,  0.     ,  0.     ,  0.     ,  0.     ,  0.     ],\n",
       "       [ 0.     ,  0.     ,  0.     ,  0.     ,  0.     ,  0.     ,  0.     ,  0.     ,  0.     ],\n",
       "       [ 0.     ,  0.     ,  0.     ,  0.     ,  0.     ,  0.     ,  0.     ,  0.     ,  0.     ],\n",
       "       [ 0.     ,  0.     ,  0.     ,  0.     ,  0.     ,  0.     ,  0.     ,  0.     ,  0.     ]])"
      ]
     },
     "execution_count": 15,
     "metadata": {},
     "output_type": "execute_result"
    }
   ],
   "source": [
    "cx[0][0, :40]"
   ]
  },
  {
   "cell_type": "markdown",
   "id": "ba1bff52-d516-4e59-adc3-dc6879865197",
   "metadata": {},
   "source": [
    "# DNN"
   ]
  },
  {
   "cell_type": "markdown",
   "id": "98ba3a13-e18c-42b5-a652-e98181cfadef",
   "metadata": {},
   "source": [
    "## Hyperparameters:"
   ]
  },
  {
   "cell_type": "code",
   "execution_count": 16,
   "id": "bb0d9d3a-8089-45e8-8510-d5692a1239f0",
   "metadata": {},
   "outputs": [
    {
     "name": "stdout",
     "output_type": "stream",
     "text": [
      "Encoder Layer Dropout of 8.3% resulting in a total Dropout of 50.0% over 8 encoders\n"
     ]
    }
   ],
   "source": [
    "N_FEATURES = cx[0].shape[-1]\n",
    "\n",
    "# number of encoder blocks\n",
    "n_blocks = 8 #6\n",
    "num_heads = 5 #4\n",
    "key_dim = int(N_FEATURES/num_heads)\n",
    "use_bias = True\n",
    "upscale_factor = 2\n",
    "bias_regularizer = None #tf.keras.regularizers.L1(0.01),\n",
    "use_PreLN = True\n",
    "\n",
    "## Encoder dropout in total and per layer\n",
    "total_encoder_dropout = 0.5\n",
    "encoder_dropout = 1-(1-total_encoder_dropout)**(1/n_blocks)\n",
    "print(f\"Encoder Layer Dropout of {encoder_dropout:.1%} resulting in a total Dropout of {total_encoder_dropout:.1%} over {n_blocks} encoders\")\n",
    "\n",
    "# activation function\n",
    "activation = \"gelu\" # \"relu\" \"gelu\" \"selu\" \"swish\"\n",
    "\n",
    "# Learning Rate\n",
    "initial_lr = 10e-3 # 10e-3\n",
    "lr_decay = 0.9995 # 0.9\n",
    "#decay = 0.001\n",
    "\n",
    "\n",
    "# Optimizer\n",
    "#optimizer = keras.optimizers.SGD(learning_rate=initial_lr)\n",
    "optimizer = tf.keras.optimizers.legacy.Adam(learning_rate = initial_lr)"
   ]
  },
  {
   "cell_type": "markdown",
   "id": "682b6560-02e0-45e1-b69a-99978203bb3b",
   "metadata": {
    "jp-MarkdownHeadingCollapsed": true
   },
   "source": [
    "### Losses and Metrics"
   ]
  },
  {
   "cell_type": "code",
   "execution_count": 17,
   "id": "2b025e4a-1aa1-4c27-ae46-57d143ce6a7c",
   "metadata": {},
   "outputs": [
    {
     "name": "stdout",
     "output_type": "stream",
     "text": [
      "Solved Prevalence: 39.2%\n",
      "Improvement Prevalence: 43.8%\n",
      "Stack Missing Prevalence: 1.6%\n"
     ]
    }
   ],
   "source": [
    "loss_solved = tf.keras.losses.BinaryFocalCrossentropy(\n",
    "    gamma=2,\n",
    "    alpha = 1-y.numpy().mean(),\n",
    "    name='solved_focal_loss'\n",
    ")\n",
    "\n",
    "loss_improvement = tf.keras.losses.BinaryFocalCrossentropy(\n",
    "    gamma=1.5,\n",
    "    alpha = 1-y_improvement.mean(),\n",
    "    name='improvement_focal_loss'\n",
    ")\n",
    "\n",
    "\n",
    "\n",
    "\n",
    "\n",
    "\n",
    "\n",
    "loss_stacks = tf.keras.losses.BinaryFocalCrossentropy(\n",
    "    gamma=6,\n",
    "    alpha = 1-y_stack_not_included.mean(),\n",
    "    name='stacks_focal_loss'\n",
    ")\n",
    "\n",
    "print(f\"Solved Prevalence: {y.numpy().mean():.1%}\")\n",
    "print(f\"Improvement Prevalence: {y_improvement.mean():.1%}\")\n",
    "print(f\"Stack Missing Prevalence: {y_stack_not_included.mean():.1%}\")"
   ]
  },
  {
   "cell_type": "code",
   "execution_count": 18,
   "id": "4b7c4de6-f775-4acb-8ac1-282e8fad9c04",
   "metadata": {},
   "outputs": [],
   "source": [
    "loss_objects = [\n",
    "    loss_solved,\n",
    "    loss_improvement,\n",
    "    loss_stacks\n",
    "]\n",
    "\n",
    "mean_losses = [tf.keras.metrics.Mean(name=target) for target in TARGET_LABELS]"
   ]
  },
  {
   "cell_type": "code",
   "execution_count": 19,
   "id": "1e3e5121-bd70-407e-89eb-d7cae6c21c73",
   "metadata": {},
   "outputs": [],
   "source": [
    "all_metrics: list[list[tf.keras.metrics]] = [\n",
    "    [\n",
    "        tf.keras.metrics.Precision(name = \"PRC\"),\n",
    "        tf.keras.metrics.Recall(name = \"SNS\"),\n",
    "        tf.keras.metrics.AUC(curve='PR', name=\"AUC\"),\n",
    "        tf.keras.metrics.BinaryAccuracy(name = \"ACC\")\n",
    "    ],\n",
    "    [\n",
    "        tf.keras.metrics.Precision(name = \"PRC\"),\n",
    "        tf.keras.metrics.Recall(name = \"SNS\"),\n",
    "        tf.keras.metrics.AUC(curve='PR', name=\"AUC\"),\n",
    "        tf.keras.metrics.BinaryAccuracy(name = \"ACC\")\n",
    "    ],\n",
    "    [\n",
    "        tf.keras.metrics.Precision(name = \"PRC\"),\n",
    "        tf.keras.metrics.Recall(name = \"SNS\"),\n",
    "        tf.keras.metrics.AUC(curve='PR', name=\"AUC\"),\n",
    "        tf.keras.metrics.BinaryAccuracy(name = \"ACC\")\n",
    "    ],\n",
    "]"
   ]
  },
  {
   "cell_type": "markdown",
   "id": "b2172818-ab30-45a6-a332-0062ac6574e7",
   "metadata": {},
   "source": [
    "## Architecture"
   ]
  },
  {
   "cell_type": "code",
   "execution_count": 20,
   "id": "8b3f6f99-9f5c-4a06-98d8-a9b1b199fa2f",
   "metadata": {},
   "outputs": [],
   "source": [
    "from tensorflow.keras.layers import Masking, BatchNormalization, MultiHeadAttention, LayerNormalization, Dropout\n",
    "from tensorflow.keras.layers import Add, Dense, Input, Reshape, Permute, Lambda, Concatenate\n",
    "from keras import backend as K\n",
    "from tensorflow.keras import Model\n",
    "\n",
    "from utils.DNN.model_layers import TransformerEncoder\n",
    "\n",
    "# build a model using the functional API:\n",
    "\n",
    "# Input\n",
    "input_stack_level = Input(shape=(PAD_SIZE, N_FEATURES), name=\"StackLevelInputFeatures\")\n",
    "input_time_limit = Input(shape=(1), name=\"TimeLimitInput\")\n",
    "inputs = [input_stack_level, input_time_limit]\n",
    "\n",
    "\n",
    "# Masking padded input\n",
    "masking_layer = Masking(\n",
    "    mask_value=0,\n",
    "    input_shape=(PAD_SIZE, N_FEATURES),\n",
    "    dtype=tf.float16,\n",
    "    name=\"MaskingLayer\"\n",
    ")\n",
    "x = masking_layer(input_stack_level)\n",
    "\n",
    "#batch_norm_layer = BatchNormalization(name=\"BatchNormalizationLayer\")\n",
    "#x = batch_norm_layer(masking_layer)\n",
    "\n",
    "\n",
    "# Encoder Block\n",
    "for i in range(1, n_blocks+1):\n",
    "    # Self attention with add and layer norm\n",
    "    self_attention_layer = TransformerEncoder(\n",
    "        num_heads=num_heads, key_dim=key_dim,\n",
    "        activation=activation,\n",
    "        units = N_FEATURES,\n",
    "        upscale_factor=upscale_factor,\n",
    "        dropout=encoder_dropout,\n",
    "        use_bias=use_bias,\n",
    "        use_PreLN=use_PreLN,\n",
    "        bias_regularizer=bias_regularizer,\n",
    "        idx = i,\n",
    "    )\n",
    "    x, _ = self_attention_layer(x)\n",
    "\n",
    "\n",
    "self_attention_layer_solved = TransformerEncoder(\n",
    "    num_heads=num_heads, key_dim=key_dim,\n",
    "    activation=activation,\n",
    "    units = N_FEATURES,\n",
    "    upscale_factor=upscale_factor,\n",
    "    dropout=encoder_dropout,\n",
    "    use_bias=use_bias,\n",
    "    use_PreLN=use_PreLN,\n",
    "    bias_regularizer=bias_regularizer,\n",
    "    idx=\"Solved\"\n",
    ")\n",
    "attention_solved, _ = self_attention_layer_solved(x)\n",
    "\n",
    "self_attention_layer_improvement = TransformerEncoder(\n",
    "    num_heads=num_heads, key_dim=key_dim,\n",
    "    activation=activation,\n",
    "    units = N_FEATURES,\n",
    "    upscale_factor=upscale_factor,\n",
    "    dropout=encoder_dropout,\n",
    "    use_bias=use_bias,\n",
    "    use_PreLN=use_PreLN,\n",
    "    bias_regularizer=bias_regularizer,\n",
    "    idx=\"Improvement\",\n",
    ")\n",
    "attention_improvement, _ = self_attention_layer_improvement(x)\n",
    "\n",
    "\n",
    "\n",
    "\n",
    "\n",
    "# After Attention, reduce to single dimension\n",
    "add_across_dim = Lambda(\n",
    "    lambda x: K.sum(x, axis=1)/PAD_SIZE**1,\n",
    "    output_shape=lambda s: (s[0], s[2]),\n",
    "    name = \"ReduceStackDimensionViaSummation\"\n",
    ")\n",
    "\n",
    "attention_solved = add_across_dim(attention_solved)\n",
    "attention_improvement = add_across_dim(attention_improvement)\n",
    "\n",
    "\n",
    "\n",
    "reshape = Lambda(lambda x: tf.squeeze(x), name=\"Output\")\n",
    "\n",
    "# Pipe Attention directly into missing stack prediction:\n",
    "\n",
    "output_stacks = Dense(1, activation='sigmoid', name = \"PredictionStacks\")\n",
    "xx = output_stacks(x)\n",
    "output_stacks = reshape(xx)\n",
    "\n",
    "\n",
    "\n",
    "# Standardize the Time Limit\n",
    "# - The time limit ranges from 0 to 30,\n",
    "# - (tl - 15)/5 should roughly normalize\n",
    "\n",
    "normalize_time_limit = Lambda(\n",
    "    lambda x: (x-15)/5,\n",
    "    name = \"StandardizeTimeLimit\"\n",
    ")\n",
    "input_time_limit = normalize_time_limit(input_time_limit)\n",
    "concatenate_layer = Concatenate(axis=-1, name=f\"ConcatenateLayer\")\n",
    "#x = concatenate_layer([x, input_time_limit])\n",
    "\n",
    "\n",
    "\n",
    "\n",
    "\n",
    "x = add_across_dim(x)\n",
    "\n",
    "\n",
    "#xx = concatenate_layer([x, input_time_limit])\n",
    "xx = concatenate_layer([attention_solved, input_time_limit])\n",
    "fully_connected_layer_solved = Dense(units=N_FEATURES+1, activation=activation,name=f\"FullyConnectedLayerSolved\")\n",
    "xx = fully_connected_layer_solved(xx)\n",
    "output_solved = Dense(1, activation='sigmoid', name = \"PredictionSolved\")\n",
    "xx = output_solved(xx)\n",
    "output_solved = reshape(xx)\n",
    "\n",
    "\n",
    "#xx = concatenate_layer([x, input_time_limit])\n",
    "xx = concatenate_layer([attention_improvement, input_time_limit])\n",
    "fully_connected_layer_improvement = Dense(units=N_FEATURES+1, activation=activation,name=f\"FullyConnectedLayerImprovement\")\n",
    "xx = fully_connected_layer_improvement(xx)\n",
    "output_improvement = Dense(1, activation='sigmoid', name = \"PredictionImprovement\")\n",
    "xx = output_improvement(xx)\n",
    "output_improvement = reshape(xx)\n",
    "\n",
    "\n",
    "\n",
    "\n",
    "\n",
    "outputs = [\n",
    "    output_solved,\n",
    "    output_improvement,\n",
    "    output_stacks\n",
    "]\n",
    "\n",
    "\n",
    "model = Model(\n",
    "    inputs=inputs,\n",
    "    outputs=outputs,\n",
    ")"
   ]
  },
  {
   "cell_type": "markdown",
   "id": "ecbff812-25bb-4ea0-a14a-048cbc6da1ea",
   "metadata": {},
   "source": [
    "### Model Architecture Inspection:"
   ]
  },
  {
   "cell_type": "code",
   "execution_count": 21,
   "id": "c1c0313b-3fe0-498b-925f-3547fcd860af",
   "metadata": {},
   "outputs": [
    {
     "name": "stdout",
     "output_type": "stream",
     "text": [
      "Model: \"model\"\n",
      "__________________________________________________________________________________________________\n",
      " Layer (type)                Output Shape                 Param #   Connected to                  \n",
      "==================================================================================================\n",
      " StackLevelInputFeatures (I  [(None, 80, 9)]              0         []                            \n",
      " nputLayer)                                                                                       \n",
      "                                                                                                  \n",
      " MaskingLayer (Masking)      (None, 80, 9)                0         ['StackLevelInputFeatures[0][0\n",
      "                                                                    ]']                           \n",
      "                                                                                                  \n",
      " transformer_encoder (Trans  ((None, 80, 9),              591       ['MaskingLayer[0][0]']        \n",
      " formerEncoder)               (None, 5, 80, 80))                                                  \n",
      "                                                                                                  \n",
      " transformer_encoder_1 (Tra  ((None, 80, 9),              591       ['transformer_encoder[0][0]'] \n",
      " nsformerEncoder)             (None, 5, 80, 80))                                                  \n",
      "                                                                                                  \n",
      " transformer_encoder_2 (Tra  ((None, 80, 9),              591       ['transformer_encoder_1[0][0]'\n",
      " nsformerEncoder)             (None, 5, 80, 80))                    ]                             \n",
      "                                                                                                  \n",
      " transformer_encoder_3 (Tra  ((None, 80, 9),              591       ['transformer_encoder_2[0][0]'\n",
      " nsformerEncoder)             (None, 5, 80, 80))                    ]                             \n",
      "                                                                                                  \n",
      " transformer_encoder_4 (Tra  ((None, 80, 9),              591       ['transformer_encoder_3[0][0]'\n",
      " nsformerEncoder)             (None, 5, 80, 80))                    ]                             \n",
      "                                                                                                  \n",
      " transformer_encoder_5 (Tra  ((None, 80, 9),              591       ['transformer_encoder_4[0][0]'\n",
      " nsformerEncoder)             (None, 5, 80, 80))                    ]                             \n",
      "                                                                                                  \n",
      " transformer_encoder_6 (Tra  ((None, 80, 9),              591       ['transformer_encoder_5[0][0]'\n",
      " nsformerEncoder)             (None, 5, 80, 80))                    ]                             \n",
      "                                                                                                  \n",
      " transformer_encoder_7 (Tra  ((None, 80, 9),              591       ['transformer_encoder_6[0][0]'\n",
      " nsformerEncoder)             (None, 5, 80, 80))                    ]                             \n",
      "                                                                                                  \n",
      " transformer_encoder_8 (Tra  ((None, 80, 9),              591       ['transformer_encoder_7[0][0]'\n",
      " nsformerEncoder)             (None, 5, 80, 80))                    ]                             \n",
      "                                                                                                  \n",
      " TimeLimitInput (InputLayer  [(None, 1)]                  0         []                            \n",
      " )                                                                                                \n",
      "                                                                                                  \n",
      " transformer_encoder_9 (Tra  ((None, 80, 9),              591       ['transformer_encoder_7[0][0]'\n",
      " nsformerEncoder)             (None, 5, 80, 80))                    ]                             \n",
      "                                                                                                  \n",
      " ReduceStackDimensionViaSum  (None, 9)                    0         ['transformer_encoder_8[0][0]'\n",
      " mation (Lambda)                                                    , 'transformer_encoder_9[0][0]\n",
      "                                                                    ']                            \n",
      "                                                                                                  \n",
      " StandardizeTimeLimit (Lamb  (None, 1)                    0         ['TimeLimitInput[0][0]']      \n",
      " da)                                                                                              \n",
      "                                                                                                  \n",
      " ConcatenateLayer (Concaten  (None, 10)                   0         ['ReduceStackDimensionViaSumma\n",
      " ate)                                                               tion[0][0]',                  \n",
      "                                                                     'StandardizeTimeLimit[0][0]',\n",
      "                                                                     'ReduceStackDimensionViaSumma\n",
      "                                                                    tion[1][0]',                  \n",
      "                                                                     'StandardizeTimeLimit[0][0]']\n",
      "                                                                                                  \n",
      " FullyConnectedLayerSolved   (None, 10)                   110       ['ConcatenateLayer[0][0]']    \n",
      " (Dense)                                                                                          \n",
      "                                                                                                  \n",
      " FullyConnectedLayerImprove  (None, 10)                   110       ['ConcatenateLayer[1][0]']    \n",
      " ment (Dense)                                                                                     \n",
      "                                                                                                  \n",
      " PredictionSolved (Dense)    (None, 1)                    11        ['FullyConnectedLayerSolved[0]\n",
      "                                                                    [0]']                         \n",
      "                                                                                                  \n",
      " PredictionImprovement (Den  (None, 1)                    11        ['FullyConnectedLayerImproveme\n",
      " se)                                                                nt[0][0]']                    \n",
      "                                                                                                  \n",
      " PredictionStacks (Dense)    (None, 80, 1)                10        ['transformer_encoder_7[0][0]'\n",
      "                                                                    ]                             \n",
      "                                                                                                  \n",
      " Output (Lambda)             None                         0         ['PredictionStacks[0][0]',    \n",
      "                                                                     'PredictionSolved[0][0]',    \n",
      "                                                                     'PredictionImprovement[0][0]'\n",
      "                                                                    ]                             \n",
      "                                                                                                  \n",
      "==================================================================================================\n",
      "Total params: 6162 (24.07 KB)\n",
      "Trainable params: 6162 (24.07 KB)\n",
      "Non-trainable params: 0 (0.00 Byte)\n",
      "__________________________________________________________________________________________________\n"
     ]
    }
   ],
   "source": [
    "_ = model(cx) # just check if it works\n",
    "model.summary()"
   ]
  },
  {
   "cell_type": "code",
   "execution_count": 22,
   "id": "cf228a55-a71a-42ac-bf9c-8df8bc258ac2",
   "metadata": {},
   "outputs": [
    {
     "data": {
      "image/png": "[encoded data removed]",
      "text/plain": [
       "<IPython.core.display.Image object>"
      ]
     },
     "execution_count": 22,
     "metadata": {},
     "output_type": "execute_result"
    }
   ],
   "source": [
    "tf.keras.utils.plot_model(\n",
    "    model,\n",
    "    #to_file,\n",
    "    show_shapes=True\n",
    ")"
   ]
  },
  {
   "cell_type": "markdown",
   "id": "47dfadaf-029c-49d3-81f3-664967ff38b2",
   "metadata": {
    "jp-MarkdownHeadingCollapsed": true
   },
   "source": [
    "## Training Process Functions"
   ]
  },
  {
   "cell_type": "code",
   "execution_count": 23,
   "id": "1911b3da-221c-4414-9358-7fee5a42a3e2",
   "metadata": {},
   "outputs": [],
   "source": [
    "def geometric_decay(epoch: int, initial_lr:float=10e-3, lr_decay:float=0.9) -> float:\n",
    "    \"\"\"\n",
    "    Exponential decay learning rate schedule\n",
    "    \"\"\"\n",
    "    return initial_lr * lr_decay**epoch\n",
    "\n",
    "#xx = np.arange(5000)\n",
    "#yy = geometric_decay(xx, lr_decay=0.9995)\n",
    "#plt.plot(xx, yy);"
   ]
  },
  {
   "cell_type": "code",
   "execution_count": 24,
   "id": "bf804408-85ea-4824-8a74-fb9feb1807f3",
   "metadata": {},
   "outputs": [],
   "source": [
    "def print_status_bar(iteration, total, losses, all_metrics=None, training:bool=True):\n",
    "    tabs = \"\\t\\t\\t\\t\\t\\t\\t\\t\\t\\t\\t\\t\\t\\t\"\n",
    "    metrics = tabs.join([\n",
    "        f\"{TARGET_LABELS[i]:<12}\\tLoss: {losses[i].result():.4f}\" +\n",
    "        \"\\t\".join([\n",
    "            f\"{m.name:>10}: {m.result():.2%}\"\n",
    "            if m.name not in [\"MAE\", \"RMSE\"]\n",
    "            else f\"{m.name:>10}: {m.result():.4f}\"\n",
    "            for m in metrics\n",
    "        ])\n",
    "        for i, metrics in enumerate(all_metrics)\n",
    "    ])\n",
    "    \n",
    "    if training:\n",
    "        prefix=\"Training\"\n",
    "    else:\n",
    "        prefix=\"Validation\"\n",
    "    \n",
    "    print(f\"\\r{prefix}-Iteration: {iteration+1:0>3}/{total:<3}\\tLR: {float(optimizer.lr):<1000.9f}\" + metrics,\n",
    "          end=\"\")\n"
   ]
  },
  {
   "cell_type": "code",
   "execution_count": 25,
   "id": "71f44dd2-a301-4c37-919b-5a93fbe6c531",
   "metadata": {},
   "outputs": [],
   "source": [
    "@tf.function\n",
    "def model_pass(inputs, targets, training):\n",
    "    \"\"\"\n",
    "    Usual Tensorflow model passing of inputs throught the network.\n",
    "    If in training mode, the optimizier can apply the gradients\n",
    "    observed with GradientTape to the model parameters\n",
    "    \"\"\"\n",
    "    \n",
    "    with tf.GradientTape() as tape:\n",
    "        \n",
    "        outputs = model(inputs, training=training)\n",
    "        losses = [l(t, o) for l,o,t in zip(loss_objects, outputs, targets)]\n",
    "        \n",
    "        if training:\n",
    "            gradients = tape.gradient(losses, model.trainable_variables)\n",
    "            optimizer.apply_gradients(zip(gradients, model.trainable_variables))\n",
    "            \n",
    "        for i, mean_loss in enumerate(mean_losses):\n",
    "            mean_loss(losses[i])\n",
    "        \n",
    "    return outputs\n"
   ]
  },
  {
   "cell_type": "code",
   "execution_count": 26,
   "id": "555d2a8e-ff78-42a9-871c-fabbc1da5929",
   "metadata": {},
   "outputs": [],
   "source": [
    "def run_epoch(dataset, all_metrics:list[list[tf.keras.metrics]],\n",
    "              epoch:int, history:pd.DataFrame, training:bool=True,\n",
    "              shuffle:bool=True):\n",
    "    \"\"\"\n",
    "    Single epoch, running several training steps over a dataset\n",
    "    \"\"\"\n",
    "\n",
    "    for step, (X_batch, y_batch) in enumerate(dataset):\n",
    "        \n",
    "        X_batch, y_batch = polars_transformation(X_batch, y_batch, shuffle=shuffle)\n",
    "        \n",
    "        outputs = model_pass(X_batch, y_batch, training=training)\n",
    "        #mean_loss(loss)\n",
    "        \n",
    "        for i, metrics in enumerate(all_metrics):\n",
    "            for metric in metrics:\n",
    "                metric(y_batch[i].reshape(-1), outputs[i].numpy().reshape(-1))\n",
    "    \n",
    "        print_status_bar(step, len(dataset), mean_losses, all_metrics, training=training)\n",
    "    \n",
    "        #### LEARNING RATE UPDATE ####\n",
    "        if training:\n",
    "            optimizer.lr = geometric_decay((epoch-1)*len(dataset)+step, initial_lr, lr_decay)\n",
    "    \n",
    "    print(\"\\n\")\n",
    "\n",
    "    #### UPDATE METRICS\n",
    "    for i, metrics in enumerate(all_metrics):\n",
    "        for metric in metrics:\n",
    "            data = pd.DataFrame({\n",
    "                \"Epoch\": [epoch],\n",
    "                \"Target\": [TARGET_LABELS[i]],\n",
    "                \"Metric\": [metric.name if training else f\"Val-\"+metric.name],\n",
    "                \"Value\": [float(metric.result())],\n",
    "            })\n",
    "            history = pd.concat([history, data])\n",
    "            metric.reset_states()\n",
    "\n",
    "    for i, mean_loss in enumerate(mean_losses):\n",
    "        data = pd.DataFrame({\n",
    "            \"Epoch\": [epoch],\n",
    "            \"Target\": [TARGET_LABELS[i]],\n",
    "            \"Metric\": [\"Loss\" if training else f\"Val-\"+\"Loss\"],\n",
    "            \"Value\": [float(mean_loss.result())],\n",
    "        })\n",
    "        history = pd.concat([history, data])\n",
    "        mean_loss.reset_states()\n",
    "            \n",
    "    return history"
   ]
  },
  {
   "cell_type": "markdown",
   "id": "228ef915-1e01-42dd-b423-71593e828fcf",
   "metadata": {},
   "source": [
    "## Model Training"
   ]
  },
  {
   "cell_type": "code",
   "execution_count": 27,
   "id": "a8175650-b296-4222-b028-ecb715c458c0",
   "metadata": {},
   "outputs": [],
   "source": [
    "clms = [\"Epoch\", \"Target\", \"Metric\", \"Value\"]\n",
    "track = pd.DataFrame(columns = clms)"
   ]
  },
  {
   "cell_type": "code",
   "execution_count": null,
   "id": "464563b0-8ebe-4448-9105-a25ed5e36383",
   "metadata": {},
   "outputs": [
    {
     "name": "stdout",
     "output_type": "stream",
     "text": [
      "Epoch 001/010\n"
     ]
    },
    {
     "name": "stderr",
     "output_type": "stream",
     "text": [
      "2023-11-30 11:14:41.404922: I tensorflow/core/grappler/optimizers/custom_graph_optimizer_registry.cc:117] Plugin optimizer for device_type GPU is enabled.\n"
     ]
    },
    {
     "name": "stdout",
     "output_type": "stream",
     "text": [
      "Training-Iteration: 625/625\tLR: 0.007322906                                                                                                                                                                                                                                                                                                                                                                                                                                                                                                                                                                                                                                                                                                                                                                                                                                                                                                                                                                                                                             Solved      \tLoss: 0.1155       PRC: 81.52%\t       SNS: 60.13%\t       AUC: 82.79%\t       ACC: 78.81%\t\t\t\t\t\t\t\t\t\t\t\t\t\tImprovement \tLoss: 0.1958       PRC: 69.16%\t       SNS: 69.47%\t       AUC: 76.96%\t       ACC: 71.13%\t\t\t\t\t\t\t\t\t\t\t\t\t\tStacks      \tLoss: 0.0024       PRC: 33.53%\t       SNS: 28.61%\t       AUC: 20.63%\t       ACC: 97.91%\n",
      "\n"
     ]
    },
    {
     "name": "stderr",
     "output_type": "stream",
     "text": [
      "/var/folders/j4/qmf6qmvd1gv0nctgx3m6jm3r0000gn/T/ipykernel_14478/102180396.py:36: FutureWarning: The behavior of DataFrame concatenation with empty or all-NA entries is deprecated. In a future version, this will no longer exclude empty or all-NA columns when determining the result dtypes. To retain the old behavior, exclude the relevant entries before the concat operation.\n",
      "  history = pd.concat([history, data])\n"
     ]
    },
    {
     "name": "stdout",
     "output_type": "stream",
     "text": [
      "Validation-Iteration: 070/70 \tLR: 0.007319244                                                                                                                                                                                                                                                                                                                                                                                                                                                                                                                                                                                                                                                                                                                                                                                                                                                                                                                                                                                                                             Solved      \tLoss: 0.1022       PRC: 76.84%\t       SNS: 79.19%\t       AUC: 88.63%\t       ACC: 82.32%\t\t\t\t\t\t\t\t\t\t\t\t\t\tImprovement \tLoss: 0.1668       PRC: 76.90%\t       SNS: 72.12%\t       AUC: 84.86%\t       ACC: 76.98%\t\t\t\t\t\t\t\t\t\t\t\t\t\tStacks      \tLoss: 0.0011       PRC: 60.83%\t       SNS: 39.52%\t       AUC: 43.81%\t       ACC: 98.60%\n",
      "\n",
      "WARNING:tensorflow:Compiled the loaded model, but the compiled metrics have yet to be built. `model.compile_metrics` will be empty until you train or evaluate the model.\n",
      "INFO:tensorflow:Assets written to: /Users/fynn/Uni/MA/models/EncoderUpdate-1.tf/assets\n"
     ]
    },
    {
     "name": "stderr",
     "output_type": "stream",
     "text": [
      "INFO:tensorflow:Assets written to: /Users/fynn/Uni/MA/models/EncoderUpdate-1.tf/assets\n"
     ]
    },
    {
     "name": "stdout",
     "output_type": "stream",
     "text": [
      "------------------------------------------------------------------------------------------------------------------------\n",
      "Epoch 002/010\n",
      "Training-Iteration: 625/625\tLR: 0.005357134                                                                                                                                                                                                                                                                                                                                                                                                                                                                                                                                                                                                                                                                                                                                                                                                                                                                                                                                                                                                                             Solved      \tLoss: 0.0918       PRC: 85.53%\t       SNS: 71.84%\t       AUC: 89.51%\t       ACC: 84.03%\t\t\t\t\t\t\t\t\t\t\t\t\t\tImprovement \tLoss: 0.1603       PRC: 76.40%\t       SNS: 76.07%\t       AUC: 85.84%\t       ACC: 77.74%\t\t\t\t\t\t\t\t\t\t\t\t\t\tStacks      \tLoss: 0.0011       PRC: 51.87%\t       SNS: 35.30%\t       AUC: 37.60%\t       ACC: 98.41%\n",
      "\n",
      "Validation-Iteration: 070/70 \tLR: 0.005354455                                                                                                                                                                                                                                                                                                                                                                                                                                                                                                                                                                                                                                                                                                                                                                                                                                                                                                                                                                                                                             Solved      \tLoss: 0.0848       PRC: 88.75%\t       SNS: 72.13%\t       AUC: 91.03%\t       ACC: 85.35%\t\t\t\t\t\t\t\t\t\t\t\t\t\tImprovement \tLoss: 0.1507       PRC: 78.61%\t       SNS: 75.66%\t       AUC: 87.43%\t       ACC: 79.13%\t\t\t\t\t\t\t\t\t\t\t\t\t\tStacks      \tLoss: 0.0010       PRC: 61.69%\t       SNS: 36.12%\t       AUC: 46.46%\t       ACC: 98.60%\n",
      "\n",
      "WARNING:tensorflow:Compiled the loaded model, but the compiled metrics have yet to be built. `model.compile_metrics` will be empty until you train or evaluate the model.\n"
     ]
    },
    {
     "name": "stderr",
     "output_type": "stream",
     "text": [
      "WARNING:tensorflow:Compiled the loaded model, but the compiled metrics have yet to be built. `model.compile_metrics` will be empty until you train or evaluate the model.\n"
     ]
    },
    {
     "name": "stdout",
     "output_type": "stream",
     "text": [
      "INFO:tensorflow:Assets written to: /Users/fynn/Uni/MA/models/EncoderUpdate-2.tf/assets\n"
     ]
    },
    {
     "name": "stderr",
     "output_type": "stream",
     "text": [
      "INFO:tensorflow:Assets written to: /Users/fynn/Uni/MA/models/EncoderUpdate-2.tf/assets\n"
     ]
    },
    {
     "name": "stdout",
     "output_type": "stream",
     "text": [
      "------------------------------------------------------------------------------------------------------------------------\n",
      "Epoch 003/010\n",
      "Training-Iteration: 625/625\tLR: 0.003919056                                                                                                                                                                                                                                                                                                                                                                                                                                                                                                                                                                                                                                                                                                                                                                                                                                                                                                                                                                                                                             Solved      \tLoss: 0.0849       PRC: 86.43%\t       SNS: 74.47%\t       AUC: 90.99%\t       ACC: 85.26%\t\t\t\t\t\t\t\t\t\t\t\t\t\tImprovement \tLoss: 0.1509       PRC: 78.00%\t       SNS: 77.12%\t       AUC: 87.57%\t       ACC: 79.05%\t\t\t\t\t\t\t\t\t\t\t\t\t\tStacks      \tLoss: 0.0010       PRC: 57.56%\t       SNS: 39.11%\t       AUC: 42.46%\t       ACC: 98.54%\n",
      "\n",
      "Validation-Iteration: 070/70 \tLR: 0.003917097                                                                                                                                                                                                                                                                                                                                                                                                                                                                                                                                                                                                                                                                                                                                                                                                                                                                                                                                                                                                                             Solved      \tLoss: 0.0851       PRC: 81.73%\t       SNS: 81.61%\t       AUC: 91.65%\t       ACC: 85.50%\t\t\t\t\t\t\t\t\t\t\t\t\t\tImprovement \tLoss: 0.1456       PRC: 80.23%\t       SNS: 75.29%\t       AUC: 88.47%\t       ACC: 79.90%\t\t\t\t\t\t\t\t\t\t\t\t\t\tStacks      \tLoss: 0.0009       PRC: 60.02%\t       SNS: 50.99%\t       AUC: 48.47%\t       ACC: 98.65%\n",
      "\n",
      "WARNING:tensorflow:Compiled the loaded model, but the compiled metrics have yet to be built. `model.compile_metrics` will be empty until you train or evaluate the model.\n"
     ]
    },
    {
     "name": "stderr",
     "output_type": "stream",
     "text": [
      "WARNING:tensorflow:Compiled the loaded model, but the compiled metrics have yet to be built. `model.compile_metrics` will be empty until you train or evaluate the model.\n"
     ]
    },
    {
     "name": "stdout",
     "output_type": "stream",
     "text": [
      "INFO:tensorflow:Assets written to: /Users/fynn/Uni/MA/models/EncoderUpdate-3.tf/assets\n"
     ]
    },
    {
     "name": "stderr",
     "output_type": "stream",
     "text": [
      "INFO:tensorflow:Assets written to: /Users/fynn/Uni/MA/models/EncoderUpdate-3.tf/assets\n"
     ]
    },
    {
     "name": "stdout",
     "output_type": "stream",
     "text": [
      "------------------------------------------------------------------------------------------------------------------------\n",
      "Epoch 004/010\n",
      "Training-Iteration: 625/625\tLR: 0.002867019                                                                                                                                                                                                                                                                                                                                                                                                                                                                                                                                                                                                                                                                                                                                                                                                                                                                                                                                                                                                                             Solved      \tLoss: 0.0810       PRC: 87.17%\t       SNS: 75.82%\t       AUC: 91.78%\t       ACC: 86.00%\t\t\t\t\t\t\t\t\t\t\t\t\t\tImprovement \tLoss: 0.1458       PRC: 79.03%\t       SNS: 77.94%\t       AUC: 88.46%\t       ACC: 79.94%\t\t\t\t\t\t\t\t\t\t\t\t\t\tStacks      \tLoss: 0.0010       PRC: 58.96%\t       SNS: 40.89%\t       AUC: 44.55%\t       ACC: 98.57%\n",
      "\n",
      "Validation-Iteration: 070/70 \tLR: 0.002865585                                                                                                                                                                                                                                                                                                                                                                                                                                                                                                                                                                                                                                                                                                                                                                                                                                                                                                                                                                                                                             Solved      \tLoss: 0.0787       PRC: 86.10%\t       SNS: 78.38%\t       AUC: 92.26%\t       ACC: 86.44%\t\t\t\t\t\t\t\t\t\t\t\t\t\tImprovement \tLoss: 0.1421       PRC: 80.84%\t       SNS: 75.67%\t       AUC: 88.84%\t       ACC: 80.36%\t\t\t\t\t\t\t\t\t\t\t\t\t\tStacks      \tLoss: 0.0009       PRC: 60.63%\t       SNS: 42.45%\t       AUC: 49.43%\t       ACC: 98.62%\n",
      "\n",
      "WARNING:tensorflow:Compiled the loaded model, but the compiled metrics have yet to be built. `model.compile_metrics` will be empty until you train or evaluate the model.\n"
     ]
    },
    {
     "name": "stderr",
     "output_type": "stream",
     "text": [
      "WARNING:tensorflow:Compiled the loaded model, but the compiled metrics have yet to be built. `model.compile_metrics` will be empty until you train or evaluate the model.\n"
     ]
    },
    {
     "name": "stdout",
     "output_type": "stream",
     "text": [
      "INFO:tensorflow:Assets written to: /Users/fynn/Uni/MA/models/EncoderUpdate-4.tf/assets\n"
     ]
    },
    {
     "name": "stderr",
     "output_type": "stream",
     "text": [
      "INFO:tensorflow:Assets written to: /Users/fynn/Uni/MA/models/EncoderUpdate-4.tf/assets\n"
     ]
    },
    {
     "name": "stdout",
     "output_type": "stream",
     "text": [
      "------------------------------------------------------------------------------------------------------------------------\n",
      "Epoch 005/010\n",
      "Training-Iteration: 625/625\tLR: 0.002097392                                                                                                                                                                                                                                                                                                                                                                                                                                                                                                                                                                                                                                                                                                                                                                                                                                                                                                                                                                                                                             Solved      \tLoss: 0.0788       PRC: 87.45%\t       SNS: 76.59%\t       AUC: 92.22%\t       ACC: 86.37%\t\t\t\t\t\t\t\t\t\t\t\t\t\tImprovement \tLoss: 0.1422       PRC: 79.64%\t       SNS: 78.50%\t       AUC: 89.05%\t       ACC: 80.49%\t\t\t\t\t\t\t\t\t\t\t\t\t\tStacks      \tLoss: 0.0010       PRC: 59.00%\t       SNS: 40.40%\t       AUC: 45.25%\t       ACC: 98.57%\n",
      "\n",
      "Validation-Iteration: 070/70 \tLR: 0.002096343                                                                                                                                                                                                                                                                                                                                                                                                                                                                                                                                                                                                                                                                                                                                                                                                                                                                                                                                                                                                                             Solved      \tLoss: 0.0771       PRC: 84.98%\t       SNS: 80.91%\t       AUC: 92.73%\t       ACC: 86.78%\t\t\t\t\t\t\t\t\t\t\t\t\t\tImprovement \tLoss: 0.1388       PRC: 79.94%\t       SNS: 78.81%\t       AUC: 89.31%\t       ACC: 80.97%\t\t\t\t\t\t\t\t\t\t\t\t\t\tStacks      \tLoss: 0.0009       PRC: 59.48%\t       SNS: 41.40%\t       AUC: 48.24%\t       ACC: 98.59%\n",
      "\n",
      "WARNING:tensorflow:Compiled the loaded model, but the compiled metrics have yet to be built. `model.compile_metrics` will be empty until you train or evaluate the model.\n"
     ]
    },
    {
     "name": "stderr",
     "output_type": "stream",
     "text": [
      "WARNING:tensorflow:Compiled the loaded model, but the compiled metrics have yet to be built. `model.compile_metrics` will be empty until you train or evaluate the model.\n"
     ]
    },
    {
     "name": "stdout",
     "output_type": "stream",
     "text": [
      "INFO:tensorflow:Assets written to: /Users/fynn/Uni/MA/models/EncoderUpdate-5.tf/assets\n"
     ]
    },
    {
     "name": "stderr",
     "output_type": "stream",
     "text": [
      "INFO:tensorflow:Assets written to: /Users/fynn/Uni/MA/models/EncoderUpdate-5.tf/assets\n"
     ]
    },
    {
     "name": "stdout",
     "output_type": "stream",
     "text": [
      "------------------------------------------------------------------------------------------------------------------------\n",
      "Epoch 006/010\n",
      "Training-Iteration: 625/625\tLR: 0.001534365                                                                                                                                                                                                                                                                                                                                                                                                                                                                                                                                                                                                                                                                                                                                                                                                                                                                                                                                                                                                                             Solved      \tLoss: 0.0769       PRC: 87.69%\t       SNS: 77.25%\t       AUC: 92.58%\t       ACC: 86.69%\t\t\t\t\t\t\t\t\t\t\t\t\t\tImprovement \tLoss: 0.1397       PRC: 80.05%\t       SNS: 78.94%\t       AUC: 89.46%\t       ACC: 80.88%\t\t\t\t\t\t\t\t\t\t\t\t\t\tStacks      \tLoss: 0.0010       PRC: 58.54%\t       SNS: 38.40%\t       AUC: 45.33%\t       ACC: 98.55%\n",
      "\n",
      "Validation-Iteration: 070/70 \tLR: 0.001533598                                                                                                                                                                                                                                                                                                                                                                                                                                                                                                                                                                                                                                                                                                                                                                                                                                                                                                                                                                                                                             Solved      \tLoss: 0.0781       PRC: 83.49%\t       SNS: 81.56%\t       AUC: 92.68%\t       ACC: 86.32%\t\t\t\t\t\t\t\t\t\t\t\t\t\tImprovement \tLoss: 0.1379       PRC: 80.55%\t       SNS: 78.55%\t       AUC: 89.64%\t       ACC: 81.23%\t\t\t\t\t\t\t\t\t\t\t\t\t\tStacks      \tLoss: 0.0009       PRC: 58.78%\t       SNS: 40.49%\t       AUC: 48.52%\t       ACC: 98.57%\n",
      "\n",
      "WARNING:tensorflow:Compiled the loaded model, but the compiled metrics have yet to be built. `model.compile_metrics` will be empty until you train or evaluate the model.\n"
     ]
    },
    {
     "name": "stderr",
     "output_type": "stream",
     "text": [
      "WARNING:tensorflow:Compiled the loaded model, but the compiled metrics have yet to be built. `model.compile_metrics` will be empty until you train or evaluate the model.\n"
     ]
    },
    {
     "name": "stdout",
     "output_type": "stream",
     "text": [
      "INFO:tensorflow:Assets written to: /Users/fynn/Uni/MA/models/EncoderUpdate-6.tf/assets\n"
     ]
    },
    {
     "name": "stderr",
     "output_type": "stream",
     "text": [
      "INFO:tensorflow:Assets written to: /Users/fynn/Uni/MA/models/EncoderUpdate-6.tf/assets\n"
     ]
    },
    {
     "name": "stdout",
     "output_type": "stream",
     "text": [
      "------------------------------------------------------------------------------------------------------------------------\n",
      "Epoch 007/010\n",
      "Training-Iteration: 624/625\tLR: 0.001123039                                                                                                                                                                                                                                                                                                                                                                                                                                                                                                                                                                                                                                                                                                                                                                                                                                                                                                                                                                                                                             Solved      \tLoss: 0.0756       PRC: 87.95%\t       SNS: 77.64%\t       AUC: 92.82%\t       ACC: 86.93%\t\t\t\t\t\t\t\t\t\t\t\t\t\tImprovement \tLoss: 0.1375       PRC: 80.39%\t       SNS: 79.23%\t       AUC: 89.80%\t       ACC: 81.18%\t\t\t\t\t\t\t\t\t\t\t\t\t\tStacks      \tLoss: 0.0010       PRC: 58.02%\t       SNS: 37.74%\t       AUC: 45.48%\t       ACC: 98.54%"
     ]
    }
   ],
   "source": [
    "n_epochs = 10\n",
    "\n",
    "for epoch in range(1, n_epochs + 1):\n",
    "    \n",
    "    print(f\"Epoch {epoch:0>3}/{ n_epochs:0>3}\")\n",
    "\n",
    "    track = run_epoch(train_dataset, all_metrics, epoch=epoch, history=track, training=True, shuffle=True)\n",
    "    track = run_epoch(val_dataset, all_metrics, epoch=epoch, history=track, training=False, shuffle=True)\n",
    "\n",
    "    # make an intermediate save of the model\n",
    "    model_path = os.path.join(cwd, \"models\", f\"EncoderUpdate-{epoch}.tf\")\n",
    "    model.save(model_path, overwrite=True, save_format=\"tf\")\n",
    "\n",
    "    print(\"-\"*120)"
   ]
  },
  {
   "cell_type": "code",
   "execution_count": null,
   "id": "7c961887-1831-43e7-98a7-51b71bf3bc92",
   "metadata": {},
   "outputs": [],
   "source": [
    "history = track\\\n",
    "    .pivot_table(\n",
    "        values = [\"Value\"],\n",
    "        columns=[\"Metric\"],\n",
    "        index=[\"Epoch\", \"Target\"]\n",
    "    )\\\n",
    "    .reset_index()\\\n",
    "    .set_index(\"Epoch\", drop=True)\n",
    "\n",
    "clms = history.columns\n",
    "history.columns = [clm[i>=1] for i, clm in enumerate(clms)]\n",
    "history"
   ]
  },
  {
   "cell_type": "code",
   "execution_count": null,
   "id": "19eb1501-21f7-4ef2-96a7-af4205bf0d81",
   "metadata": {},
   "outputs": [],
   "source": [
    "clms = history.columns\n",
    "\n",
    "fig, ax = plt.subplots(len(TARGET_LABELS), 2, figsize=(16, 9*len(TARGET_LABELS)))\n",
    "\n",
    "colors = [\"cyan\", \"orange\", \"blue\", \"forestgreen\", \"red\", \"purple\"]\n",
    "\n",
    "for i, target in enumerate(TARGET_LABELS):\n",
    "    history.loc[(history.Target == target), (~clms.str.contains(\"Val-\"))&(~clms.str.contains(\"Loss\"))]\\\n",
    "        .plot(ax=ax[i, 0], ls = \"--\", color = colors, label = \"Training\")\n",
    "    history.loc[(history.Target == target), (clms.str.contains(\"Val-\"))&(~clms.str.contains(\"Loss\"))]\\\n",
    "        .plot(ax=ax[i, 0], lw = 3, color = colors, label = \"Validation\")\n",
    "    ax[i, 0].set(ylabel = target)\n",
    "\n",
    "    # Plot the loss\n",
    "    history.loc[(history.Target == target), (~clms.str.contains(\"Val-\"))&(clms.str.contains(\"Loss\"))]\\\n",
    "        .plot(ax=ax[i, 1], ls = \"--\", color = \"red\", label = \"Training\")\n",
    "    history.loc[(history.Target == target), (clms.str.contains(\"Val-\"))&(clms.str.contains(\"Loss\"))]\\\n",
    "        .plot(ax=ax[i, 1], lw = 3, color = \"red\", label = \"Validation\")\n",
    "    ax[i, 1].set(yscale = \"log\")\n",
    "\n",
    "ax[0, 0].set(title=\"Metrics\")\n",
    "ax[0, 1].set(title=\"Loss\");\n"
   ]
  },
  {
   "cell_type": "markdown",
   "id": "ebcb1d76-f599-4e84-97b5-2c0c76f86adf",
   "metadata": {},
   "source": [
    "Tradeoff between Sensitivity and Precision can be seen very good here.\n",
    "Most likely explanation:\n",
    "- the bias of the final layer before the sigmoid has changed drastically.\n",
    "- if the bias increases, predicted probabilities increase. This means more found solved cases and higher Sensitivity\n",
    "- if the bias decreases, predicted probabilities decrease. This means less found solved cases, only the more certain cases. Higher Precision"
   ]
  },
  {
   "cell_type": "markdown",
   "id": "b808e5f5-47fc-49e1-b1b7-7ad7a4e7a3f8",
   "metadata": {
    "jp-MarkdownHeadingCollapsed": true
   },
   "source": [
    "### Visualize Attention Scores:"
   ]
  },
  {
   "cell_type": "code",
   "execution_count": null,
   "id": "1f185a32-7dcb-42fc-9a63-1d90aac13633",
   "metadata": {},
   "outputs": [],
   "source": [
    "from utils.DNN.utils import get_attention_scores\n",
    "\n",
    "attention = get_attention_scores(model, model_inputs=cx, layer_name=\"transformer_encoder_5\")\n",
    "attention.shape\n",
    "#cx[0][24].round(2)[:40]"
   ]
  },
  {
   "cell_type": "code",
   "execution_count": null,
   "id": "377285ec-90de-4f20-8823-ca2b52c1d01f",
   "metadata": {},
   "outputs": [],
   "source": [
    "instance, head = 24, 3 # 18: 36 # 24 is a very simple but good example\n",
    "\n",
    "attention_matrix = attention[instance, head, :, :]\n",
    "\n",
    "# truncate:\n",
    "n_inputs = np.argmax(np.all(cx[0][instance].round(2) == 0, axis=1))\n",
    "attention_matrix = attention_matrix[:n_inputs, :n_inputs]\n",
    "\n",
    "plt.figure(figsize=(12, 12))\n",
    "sns.heatmap(attention_matrix.T,\n",
    "            square=True,\n",
    "            #vmin=0, vmax=1\n",
    "           );"
   ]
  },
  {
   "cell_type": "code",
   "execution_count": null,
   "id": "6b68e4b5-2601-433d-9910-212c9dbee80f",
   "metadata": {},
   "outputs": [],
   "source": [
    "instances = [28, 24, 25, 26]\n",
    "heads = list(range(num_heads))\n",
    "\n",
    "fig, ax = plt.subplots(len(instances), num_heads, figsize=(16, len(instances)*5))\n",
    "\n",
    "for i, instance in enumerate(instances):\n",
    "    for h, head in enumerate(heads):\n",
    "\n",
    "        # Truncate\n",
    "        attention_matrix = attention[instance, head, :, :]\n",
    "        n_inputs = np.argmax(np.all(cx[0][instance].round(2) == 0, axis=1))\n",
    "        attention_matrix = attention_matrix[:n_inputs, :n_inputs]\n",
    "        \n",
    "        sns.heatmap(\n",
    "            attention_matrix.T,\n",
    "            square=True,\n",
    "            cbar=False,\n",
    "            #vmin=0, vmax=0.1,\n",
    "            ax=ax[i, h]\n",
    "        );"
   ]
  },
  {
   "cell_type": "markdown",
   "id": "63e0a478-caf6-4a26-a06f-5b0507c62ceb",
   "metadata": {},
   "source": [
    "# Load the model to see if it works"
   ]
  },
  {
   "cell_type": "code",
   "execution_count": null,
   "id": "b0150bde-1688-4a1d-822b-12088e32045e",
   "metadata": {},
   "outputs": [],
   "source": [
    "model_path = os.path.join(cwd, \"models\", f\"EncoderUpdate-1.tf\")\n",
    "\n",
    "loaded_model = tf.keras.models.load_model(model_path)\n",
    "loaded_model(cx)"
   ]
  }
 ],
 "metadata": {
  "kernelspec": {
   "display_name": "Python 3 (ipykernel)",
   "language": "python",
   "name": "python3"
  },
  "language_info": {
   "codemirror_mode": {
    "name": "ipython",
    "version": 3
   },
   "file_extension": ".py",
   "mimetype": "text/x-python",
   "name": "python",
   "nbconvert_exporter": "python",
   "pygments_lexer": "ipython3",
   "version": "3.11.4"
  }
 },
 "nbformat": 4,
 "nbformat_minor": 5
}
